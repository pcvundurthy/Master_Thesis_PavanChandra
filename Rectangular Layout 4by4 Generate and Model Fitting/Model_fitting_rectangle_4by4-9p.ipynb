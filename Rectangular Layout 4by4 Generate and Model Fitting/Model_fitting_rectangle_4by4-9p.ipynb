{
 "cells": [
  {
   "cell_type": "code",
   "execution_count": 1,
   "metadata": {},
   "outputs": [],
   "source": [
    "import numpy as np\n",
    "import math\n",
    "import matplotlib.pyplot as plt\n",
    "from tensorflow import keras\n",
    "import tensorflow as tf\n",
    "from tensorflow.keras import layers\n",
    "from kerastuner.tuners import RandomSearch\n",
    "import pandas as pd"
   ]
  },
  {
   "cell_type": "code",
   "execution_count": 2,
   "metadata": {
    "scrolled": true
   },
   "outputs": [
    {
     "name": "stdout",
     "output_type": "stream",
     "text": [
      "read_x_data\n",
      "read_y_data\n",
      "[[-0.97820564  0.29297193 -0.07061703 -0.96544182  0.2754832  -0.07559271\n",
      "  -0.95055615  0.26713403 -0.06478687 -0.94939434  0.28851273 -0.05467842\n",
      "  -1.02291172  0.31880814 -0.06668594 -1.02036267  0.29820167 -0.09116619\n",
      "  -0.98972578  0.26476729 -0.09036746 -0.9837491   0.30531915 -0.07307987\n",
      "  -1.06898421  0.34968716 -0.03087716 -1.12097493  0.35989869 -0.06120685\n",
      "  -1.15727766  0.31518646 -0.15790448 -1.05000599  0.3741363  -0.18206539\n",
      "  -0.59768246  0.20031284 -0.03087716 -0.54569173  0.19010131 -0.06120685\n",
      "  -0.50938901  0.23481354 -0.15790448 -0.61666068  0.1758637  -0.18206539]\n",
      " [-0.97469332  0.28701884 -0.07376234 -0.95926109  0.26988649 -0.07355102\n",
      "  -0.94855689  0.27168183 -0.05907563 -0.94982826  0.29930869 -0.05690043\n",
      "  -1.02461177  0.31387498 -0.07546004 -1.01183089  0.28491046 -0.09700795\n",
      "  -0.98244139  0.26866376 -0.07799321 -0.97985826  0.32320343 -0.08421299\n",
      "  -1.08513373  0.35363339 -0.03837951 -1.14483208  0.35975165 -0.08490503\n",
      "  -1.09989279  0.25630532 -0.15166631 -0.97898757  0.3534858  -0.20228408\n",
      "  -0.58153294  0.19636661 -0.03837951 -0.52183458  0.19024835 -0.08490503\n",
      "  -0.56677387  0.29369468 -0.15166631 -0.68767909  0.1965142  -0.20228408]]\n",
      "[[ -35.     -35.       1.       0.       0.    -110.     -60.   ]\n",
      " [ -31.375  -35.       1.       0.       0.    -110.     -60.   ]]\n"
     ]
    }
   ],
   "source": [
    "#Reading the Training data (virtually generated) from a file \n",
    "#Input data\n",
    "x_data = pd.read_csv('x_rec_16_data_9.csv')\n",
    "x_data=x_data.values[:,1:]\n",
    "print(\"read_x_data\")\n",
    "#Output data\n",
    "y_data = pd.read_csv('y_rec_16_data_9.csv')\n",
    "y_data=y_data.values[:,1:]\n",
    "print(\"read_y_data\")\n",
    "print(x_data[:2,:])\n",
    "print(y_data[:2,:])"
   ]
  },
  {
   "cell_type": "code",
   "execution_count": 3,
   "metadata": {},
   "outputs": [
    {
     "name": "stdout",
     "output_type": "stream",
     "text": [
      "(398580, 48) (398580, 7) training data size\n",
      "(132861, 48) (132861, 7) Validation data size\n"
     ]
    }
   ],
   "source": [
    "from sklearn.preprocessing import MinMaxScaler\n",
    "from sklearn.model_selection import train_test_split\n",
    "\n",
    "X_train, X_val, y_train, y_val = train_test_split(x_data, y_data)\n",
    "print(np.shape(X_train), np.shape(y_train), \"training data size\")\n",
    "print(np.shape(X_val), np.shape(y_val),\"Validation data size\")\n",
    "#print(X_train[0:9,:])\n",
    "\n",
    "scaler_x = MinMaxScaler()\n",
    "scaler_y = MinMaxScaler()\n",
    "\n",
    "scaler_x.fit(X_train)\n",
    "xtrain_scale=scaler_x.transform(X_train)\n",
    "\n",
    "scaler_x.fit(X_val)\n",
    "xval_scale=scaler_x.transform(X_val)\n",
    "\n",
    "scaler_y.fit(y_train)\n",
    "ytrain_scale=scaler_y.transform(y_train)\n",
    "\n",
    "scaler_y.fit(y_val)\n",
    "yval_scale=scaler_y.transform(y_val)"
   ]
  },
  {
   "cell_type": "code",
   "execution_count": 4,
   "metadata": {},
   "outputs": [
    {
     "name": "stdout",
     "output_type": "stream",
     "text": [
      "Model: \"Rectangular_4by4_sensor_concept_NN\"\n",
      "_________________________________________________________________\n",
      "Layer (type)                 Output Shape              Param #   \n",
      "=================================================================\n",
      "input_1 (InputLayer)         [(None, 48)]              0         \n",
      "_________________________________________________________________\n",
      "dense (Dense)                (None, 700)               34300     \n",
      "_________________________________________________________________\n",
      "dense_1 (Dense)              (None, 700)               490700    \n",
      "_________________________________________________________________\n",
      "dense_2 (Dense)              (None, 7)                 4907      \n",
      "=================================================================\n",
      "Total params: 529,907\n",
      "Trainable params: 529,907\n",
      "Non-trainable params: 0\n",
      "_________________________________________________________________\n"
     ]
    }
   ],
   "source": [
    "from tensorflow.keras.models import Model\n",
    "from tensorflow.keras.layers import Input\n",
    "from tensorflow.keras.layers import Dense\n",
    "from keras.models import Sequential\n",
    "from keras.layers import Dense\n",
    "from numpy import loadtxt\n",
    "from keras.models import load_model\n",
    "from keras.wrappers.scikit_learn import KerasClassifier\n",
    "from keras.constraints import maxnorm\n",
    "\n",
    "\n",
    "input_layer = Input(shape=(48,))\n",
    "hidden_layer_1 = Dense(units = 700, activation = 'relu')(input_layer)\n",
    "hidden_layer_2 = Dense(units = 700, activation = 'relu')(hidden_layer_1)\n",
    "output_layer = Dense(units = 7, activation = 'linear')(hidden_layer_2)\n",
    "model = Model(inputs = input_layer, outputs = output_layer, name = 'Rectangular_4by4_sensor_concept_NN')\n",
    "\n",
    "#for specific values of learning rate\n",
    "#opt = keras.optimizers.Adam(learning_rate=0.0001)\n",
    "\n",
    "model.compile(loss='mse', optimizer=\"adam\", metrics=['accuracy'])\n",
    "#metrics=['accuracy']\n",
    "##Implementing Early stopping\n",
    "\n",
    "my_callbacks = [\n",
    "    tf.keras.callbacks.EarlyStopping(monitor='val_loss',patience=5)]\n",
    "#    tf.keras.callbacks.ModelCheckpoint(filepath='model.{epoch:02d}-{val_loss:.2f}.h5'),\n",
    "#    tf.keras.callbacks.TensorBoard(log_dir='./logs'),\n",
    "#    tf.keras.callbacks.CSVLogger('Points_5_training.log')]\n",
    "# Display the model\n",
    "model.summary()\n"
   ]
  },
  {
   "cell_type": "code",
   "execution_count": 5,
   "metadata": {},
   "outputs": [],
   "source": [
    "#from keras.utils import plot_model\n",
    "#keras.utils.plot_model(model)\n",
    "#plot_model(model, to_file='Model_Architecture_9p.png', dpi=1200, show_shapes=True, show_layer_names=True)"
   ]
  },
  {
   "cell_type": "code",
   "execution_count": 6,
   "metadata": {},
   "outputs": [
    {
     "name": "stdout",
     "output_type": "stream",
     "text": [
      "Epoch 1/20\n",
      "12456/12456 - 114s - loss: 0.0268 - accuracy: 0.5817 - val_loss: 0.0341 - val_accuracy: 0.5745\n",
      "Epoch 2/20\n",
      "12456/12456 - 119s - loss: 0.0151 - accuracy: 0.6669 - val_loss: 0.0427 - val_accuracy: 0.5772\n",
      "Epoch 3/20\n",
      "12456/12456 - 123s - loss: 0.0126 - accuracy: 0.6867 - val_loss: 0.0441 - val_accuracy: 0.5633\n",
      "Epoch 4/20\n",
      "12456/12456 - 114s - loss: 0.0115 - accuracy: 0.6970 - val_loss: 0.0605 - val_accuracy: 0.5536\n",
      "Epoch 5/20\n",
      "12456/12456 - 113s - loss: 0.0107 - accuracy: 0.7035 - val_loss: 0.0450 - val_accuracy: 0.5785\n",
      "Epoch 6/20\n",
      "12456/12456 - 110s - loss: 0.0102 - accuracy: 0.7082 - val_loss: 0.0486 - val_accuracy: 0.5769\n",
      "Epoch 7/20\n",
      "12456/12456 - 111s - loss: 0.0096 - accuracy: 0.7120 - val_loss: 0.0532 - val_accuracy: 0.5415\n",
      "Epoch 8/20\n",
      "12456/12456 - 111s - loss: 0.0093 - accuracy: 0.7143 - val_loss: 0.0444 - val_accuracy: 0.5570\n",
      "Epoch 9/20\n",
      "12456/12456 - 92s - loss: 0.0089 - accuracy: 0.7177 - val_loss: 0.0494 - val_accuracy: 0.5729\n",
      "Epoch 10/20\n",
      "12456/12456 - 54s - loss: 0.0087 - accuracy: 0.7195 - val_loss: 0.0423 - val_accuracy: 0.5788\n",
      "Epoch 11/20\n",
      "12456/12456 - 54s - loss: 0.0084 - accuracy: 0.7213 - val_loss: 0.0479 - val_accuracy: 0.5791\n",
      "Epoch 12/20\n",
      "12456/12456 - 54s - loss: 0.0082 - accuracy: 0.7248 - val_loss: 0.0433 - val_accuracy: 0.5997\n",
      "Epoch 13/20\n",
      "12456/12456 - 55s - loss: 0.0081 - accuracy: 0.7254 - val_loss: 0.0407 - val_accuracy: 0.5879\n",
      "Epoch 14/20\n",
      "12456/12456 - 58s - loss: 0.0079 - accuracy: 0.7272 - val_loss: 0.0475 - val_accuracy: 0.5994\n",
      "Epoch 15/20\n",
      "12456/12456 - 55s - loss: 0.0076 - accuracy: 0.7303 - val_loss: 0.0435 - val_accuracy: 0.5788\n",
      "Epoch 16/20\n",
      "12456/12456 - 69s - loss: 0.0075 - accuracy: 0.7325 - val_loss: 0.0462 - val_accuracy: 0.5600\n",
      "Epoch 17/20\n",
      "12456/12456 - 65s - loss: 0.0073 - accuracy: 0.7349 - val_loss: 0.0486 - val_accuracy: 0.5943\n",
      "Epoch 18/20\n",
      "12456/12456 - 57s - loss: 0.0072 - accuracy: 0.7338 - val_loss: 0.0446 - val_accuracy: 0.5871\n",
      "Epoch 19/20\n",
      "12456/12456 - 69s - loss: 0.0071 - accuracy: 0.7355 - val_loss: 0.0527 - val_accuracy: 0.5783\n",
      "Epoch 20/20\n",
      "12456/12456 - 64s - loss: 0.0071 - accuracy: 0.7354 - val_loss: 0.0449 - val_accuracy: 0.6012\n"
     ]
    }
   ],
   "source": [
    "history_1 = model.fit(xtrain_scale, ytrain_scale, epochs=20, verbose=2, validation_data=(xval_scale,yval_scale))\n",
    "#history_1 = model.fit(xtrain_scale, ytrain_scale, epochs=20, verbose=1, callbacks=my_callbacks, validation_data=(xval_scale,yval_scale))\n"
   ]
  },
  {
   "cell_type": "code",
   "execution_count": 7,
   "metadata": {},
   "outputs": [
    {
     "data": {
      "image/png": "[encoded data removed]",
      "text/plain": [
       "<Figure size 432x288 with 1 Axes>"
      ]
     },
     "metadata": {
      "needs_background": "light"
     },
     "output_type": "display_data"
    }
   ],
   "source": [
    "plt.plot(history_1.history['loss'])\n",
    "plt.plot(history_1.history['val_loss'])\n",
    "plt.title('model loss')\n",
    "plt.ylabel('loss')\n",
    "plt.xlabel('epoch')\n",
    "plt.legend(['Training ', 'Cross-Validation'], loc='upper right')\n",
    "#plt.xlim(0.0,)\n",
    "#plt.ylim(0.0,0.5)\n",
    "plt.xticks(np.arange(0.0, 21, 2))\n",
    "plt.yticks(np.arange(0.0, 0.13, 0.01))\n",
    "plt.savefig('Model_Loss_9p_mse.png', dpi=1200)\n",
    "plt.show()"
   ]
  },
  {
   "cell_type": "code",
   "execution_count": 8,
   "metadata": {},
   "outputs": [
    {
     "data": {
      "image/png": "[encoded data removed]",
      "text/plain": [
       "<Figure size 432x288 with 1 Axes>"
      ]
     },
     "metadata": {
      "needs_background": "light"
     },
     "output_type": "display_data"
    }
   ],
   "source": [
    "plt.plot(history_1.history['accuracy'])\n",
    "plt.plot(history_1.history['val_accuracy'])\n",
    "plt.title('model accuracy')\n",
    "plt.ylabel('accuracy')\n",
    "plt.xlabel('epoch')\n",
    "plt.legend(['Training ', 'Cross-Validation'], loc='lower right')\n",
    "#plt.xlim(0.0,)\n",
    "#plt.ylim(0.0,0.5)\n",
    "plt.xticks(np.arange(0.0, 21, 2))\n",
    "plt.yticks(np.arange(0.0, 1.0, 0.1))\n",
    "plt.savefig('Model_Accuracy_9p_mse.png', dpi=1200)\n",
    "plt.show()"
   ]
  },
  {
   "cell_type": "code",
   "execution_count": null,
   "metadata": {},
   "outputs": [],
   "source": []
  },
  {
   "cell_type": "code",
   "execution_count": null,
   "metadata": {},
   "outputs": [],
   "source": []
  }
 ],
 "metadata": {
  "kernelspec": {
   "display_name": "Python 3",
   "language": "python",
   "name": "python3"
  },
  "language_info": {
   "codemirror_mode": {
    "name": "ipython",
    "version": 3
   },
   "file_extension": ".py",
   "mimetype": "text/x-python",
   "name": "python",
   "nbconvert_exporter": "python",
   "pygments_lexer": "ipython3",
   "version": "3.8.8"
  }
 },
 "nbformat": 4,
 "nbformat_minor": 4
}
