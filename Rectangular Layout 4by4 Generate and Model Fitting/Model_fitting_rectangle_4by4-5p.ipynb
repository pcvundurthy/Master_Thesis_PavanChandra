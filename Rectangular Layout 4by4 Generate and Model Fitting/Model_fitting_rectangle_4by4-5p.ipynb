{
 "cells": [
  {
   "cell_type": "code",
   "execution_count": 1,
   "metadata": {},
   "outputs": [],
   "source": [
    "import numpy as np\n",
    "import math\n",
    "import matplotlib.pyplot as plt\n",
    "from tensorflow import keras\n",
    "import tensorflow as tf\n",
    "from tensorflow.keras import layers\n",
    "from kerastuner.tuners import RandomSearch\n",
    "import pandas as pd"
   ]
  },
  {
   "cell_type": "code",
   "execution_count": 2,
   "metadata": {
    "scrolled": true
   },
   "outputs": [
    {
     "name": "stdout",
     "output_type": "stream",
     "text": [
      "read_x_data\n",
      "read_y_data\n",
      "[[-0.97820564  0.29297193 -0.07061703 -0.96544182  0.2754832  -0.07559271\n",
      "  -0.95055615  0.26713403 -0.06478687 -0.94939434  0.28851273 -0.05467842\n",
      "  -1.02291172  0.31880814 -0.06668594 -1.02036267  0.29820167 -0.09116619\n",
      "  -0.98972578  0.26476729 -0.09036746 -0.9837491   0.30531915 -0.07307987\n",
      "  -1.06898421  0.34968716 -0.03087716 -1.12097493  0.35989869 -0.06120685\n",
      "  -1.15727766  0.31518646 -0.15790448 -1.05000599  0.3741363  -0.18206539\n",
      "  -0.59768246  0.20031284 -0.03087716 -0.54569173  0.19010131 -0.06120685\n",
      "  -0.50938901  0.23481354 -0.15790448 -0.61666068  0.1758637  -0.18206539]\n",
      " [-0.96984174  0.28045413 -0.07554428 -0.95366561  0.26681943 -0.06915842\n",
      "  -0.94867445  0.2803592  -0.05532045 -0.94855848  0.30831947 -0.06174094\n",
      "  -1.02365787  0.3062235  -0.08467621 -0.9992982   0.27119693 -0.09646884\n",
      "  -0.9827315   0.28755233 -0.07063151 -0.96914893  0.3312652  -0.09716293\n",
      "  -1.10428192  0.35754912 -0.04928571 -1.163557    0.34725352 -0.12266363\n",
      "  -1.09223439  0.34451607 -0.13466374 -0.93305379  0.33148657 -0.19556371\n",
      "  -0.56238474  0.19245088 -0.04928571 -0.50310967  0.20274648 -0.12266363\n",
      "  -0.57443228  0.20548393 -0.13466374 -0.73361288  0.21851343 -0.19556371]]\n",
      "[[ -35.    -35.      1.      0.      0.   -110.    -60.  ]\n",
      " [ -27.75  -35.      1.      0.      0.   -110.    -60.  ]]\n"
     ]
    }
   ],
   "source": [
    "#Reading the Training data (virtually generated) from a file \n",
    "#Input data\n",
    "x_data = pd.read_csv('x_rec_16_data_5.csv')\n",
    "x_data=x_data.values[:,1:]\n",
    "print(\"read_x_data\")\n",
    "#Output data\n",
    "y_data = pd.read_csv('y_rec_16_data_5.csv')\n",
    "y_data=y_data.values[:,1:]\n",
    "print(\"read_y_data\")\n",
    "print(x_data[:2,:])\n",
    "print(y_data[:2,:])"
   ]
  },
  {
   "cell_type": "code",
   "execution_count": 3,
   "metadata": {},
   "outputs": [
    {
     "name": "stdout",
     "output_type": "stream",
     "text": [
      "(11718, 48) (11718, 7) training data size\n",
      "(3907, 48) (3907, 7) Validation data size\n"
     ]
    }
   ],
   "source": [
    "from sklearn.preprocessing import MinMaxScaler\n",
    "from sklearn.model_selection import train_test_split\n",
    "\n",
    "X_train, X_val, y_train, y_val = train_test_split(x_data, y_data)\n",
    "print(np.shape(X_train), np.shape(y_train), \"training data size\")\n",
    "print(np.shape(X_val), np.shape(y_val),\"Validation data size\")\n",
    "#print(X_train[0:9,:])\n",
    "\n",
    "scaler_x = MinMaxScaler()\n",
    "scaler_y = MinMaxScaler()\n",
    "\n",
    "scaler_x.fit(X_train)\n",
    "xtrain_scale=scaler_x.transform(X_train)\n",
    "\n",
    "scaler_x.fit(X_val)\n",
    "xval_scale=scaler_x.transform(X_val)\n",
    "\n",
    "scaler_y.fit(y_train)\n",
    "ytrain_scale=scaler_y.transform(y_train)\n",
    "\n",
    "scaler_y.fit(y_val)\n",
    "yval_scale=scaler_y.transform(y_val)"
   ]
  },
  {
   "cell_type": "code",
   "execution_count": 4,
   "metadata": {},
   "outputs": [
    {
     "name": "stdout",
     "output_type": "stream",
     "text": [
      "Model: \"Rectangular_4by4_sensor_concept_NN\"\n",
      "_________________________________________________________________\n",
      "Layer (type)                 Output Shape              Param #   \n",
      "=================================================================\n",
      "input_1 (InputLayer)         [(None, 48)]              0         \n",
      "_________________________________________________________________\n",
      "dense (Dense)                (None, 700)               34300     \n",
      "_________________________________________________________________\n",
      "dense_1 (Dense)              (None, 700)               490700    \n",
      "_________________________________________________________________\n",
      "dense_2 (Dense)              (None, 7)                 4907      \n",
      "=================================================================\n",
      "Total params: 529,907\n",
      "Trainable params: 529,907\n",
      "Non-trainable params: 0\n",
      "_________________________________________________________________\n"
     ]
    }
   ],
   "source": [
    "from tensorflow.keras.models import Model\n",
    "from tensorflow.keras.layers import Input\n",
    "from tensorflow.keras.layers import Dense\n",
    "from keras.models import Sequential\n",
    "from keras.layers import Dense\n",
    "from numpy import loadtxt\n",
    "from keras.models import load_model\n",
    "from keras.wrappers.scikit_learn import KerasClassifier\n",
    "from keras.constraints import maxnorm\n",
    "\n",
    "\n",
    "input_layer = Input(shape=(48,))\n",
    "hidden_layer_1 = Dense(units = 700, activation = 'relu')(input_layer)\n",
    "hidden_layer_2 = Dense(units = 700, activation = 'relu')(hidden_layer_1)\n",
    "output_layer = Dense(units = 7, activation = 'linear')(hidden_layer_2)\n",
    "model = Model(inputs = input_layer, outputs = output_layer, name = 'Rectangular_4by4_sensor_concept_NN')\n",
    "\n",
    "#for specific values of learning rate\n",
    "#opt = keras.optimizers.Adam(learning_rate=0.0001)\n",
    "\n",
    "model.compile(loss='mse', optimizer=\"adam\", metrics=['accuracy'])\n",
    "#metrics=['accuracy']\n",
    "##Implementing Early stopping\n",
    "\n",
    "my_callbacks = [\n",
    "    tf.keras.callbacks.EarlyStopping(monitor='val_loss',patience=5)]\n",
    "#    tf.keras.callbacks.ModelCheckpoint(filepath='model.{epoch:02d}-{val_loss:.2f}.h5'),\n",
    "#    tf.keras.callbacks.TensorBoard(log_dir='./logs'),\n",
    "#    tf.keras.callbacks.CSVLogger('Points_5_training.log')]\n",
    "# Display the model\n",
    "model.summary()\n"
   ]
  },
  {
   "cell_type": "code",
   "execution_count": 5,
   "metadata": {},
   "outputs": [],
   "source": [
    "#from keras.utils import plot_model\n",
    "#keras.utils.plot_model(model)\n",
    "#plot_model(model, to_file='Model_Architecture_9p.png', dpi=1200, show_shapes=True, show_layer_names=True)"
   ]
  },
  {
   "cell_type": "code",
   "execution_count": 6,
   "metadata": {},
   "outputs": [
    {
     "name": "stdout",
     "output_type": "stream",
     "text": [
      "Epoch 1/20\n",
      "367/367 - 2s - loss: 0.0655 - accuracy: 0.3770 - val_loss: 0.0474 - val_accuracy: 0.4244\n",
      "Epoch 2/20\n",
      "367/367 - 2s - loss: 0.0437 - accuracy: 0.4690 - val_loss: 0.0431 - val_accuracy: 0.3908\n",
      "Epoch 3/20\n",
      "367/367 - 2s - loss: 0.0368 - accuracy: 0.4964 - val_loss: 0.0333 - val_accuracy: 0.4551\n",
      "Epoch 4/20\n",
      "367/367 - 2s - loss: 0.0321 - accuracy: 0.5214 - val_loss: 0.0378 - val_accuracy: 0.5296\n",
      "Epoch 5/20\n",
      "367/367 - 2s - loss: 0.0285 - accuracy: 0.5445 - val_loss: 0.0277 - val_accuracy: 0.4364\n",
      "Epoch 6/20\n",
      "367/367 - 2s - loss: 0.0261 - accuracy: 0.5626 - val_loss: 0.0333 - val_accuracy: 0.4369\n",
      "Epoch 7/20\n",
      "367/367 - 2s - loss: 0.0230 - accuracy: 0.5780 - val_loss: 0.0265 - val_accuracy: 0.5099\n",
      "Epoch 8/20\n",
      "367/367 - 2s - loss: 0.0218 - accuracy: 0.5801 - val_loss: 0.0263 - val_accuracy: 0.5961\n",
      "Epoch 9/20\n",
      "367/367 - 2s - loss: 0.0213 - accuracy: 0.5830 - val_loss: 0.0228 - val_accuracy: 0.6092\n",
      "Epoch 10/20\n",
      "367/367 - 2s - loss: 0.0197 - accuracy: 0.5920 - val_loss: 0.0295 - val_accuracy: 0.4722\n",
      "Epoch 11/20\n",
      "367/367 - 2s - loss: 0.0192 - accuracy: 0.5917 - val_loss: 0.0296 - val_accuracy: 0.5109\n",
      "Epoch 12/20\n",
      "367/367 - 2s - loss: 0.0190 - accuracy: 0.5946 - val_loss: 0.0244 - val_accuracy: 0.5518\n",
      "Epoch 13/20\n",
      "367/367 - 2s - loss: 0.0183 - accuracy: 0.5986 - val_loss: 0.0257 - val_accuracy: 0.5096\n",
      "Epoch 14/20\n",
      "367/367 - 2s - loss: 0.0172 - accuracy: 0.5956 - val_loss: 0.0201 - val_accuracy: 0.5959\n",
      "Epoch 15/20\n",
      "367/367 - 2s - loss: 0.0174 - accuracy: 0.5961 - val_loss: 0.0248 - val_accuracy: 0.6414\n",
      "Epoch 16/20\n",
      "367/367 - 2s - loss: 0.0167 - accuracy: 0.6024 - val_loss: 0.0296 - val_accuracy: 0.5257\n",
      "Epoch 17/20\n",
      "367/367 - 2s - loss: 0.0162 - accuracy: 0.6039 - val_loss: 0.0199 - val_accuracy: 0.5383\n",
      "Epoch 18/20\n",
      "367/367 - 2s - loss: 0.0159 - accuracy: 0.6064 - val_loss: 0.0282 - val_accuracy: 0.5646\n",
      "Epoch 19/20\n",
      "367/367 - 2s - loss: 0.0147 - accuracy: 0.6132 - val_loss: 0.0173 - val_accuracy: 0.5854\n",
      "Epoch 20/20\n",
      "367/367 - 2s - loss: 0.0148 - accuracy: 0.6099 - val_loss: 0.0295 - val_accuracy: 0.6122\n"
     ]
    }
   ],
   "source": [
    "history_1 = model.fit(xtrain_scale, ytrain_scale, epochs=20, verbose=2, validation_data=(xval_scale,yval_scale))\n",
    "#history_1 = model.fit(xtrain_scale, ytrain_scale, epochs=20, verbose=1, callbacks=my_callbacks, validation_data=(xval_scale,yval_scale))\n"
   ]
  },
  {
   "cell_type": "code",
   "execution_count": 7,
   "metadata": {},
   "outputs": [
    {
     "data": {
      "image/png": "[encoded data removed]",
      "text/plain": [
       "<Figure size 432x288 with 1 Axes>"
      ]
     },
     "metadata": {
      "needs_background": "light"
     },
     "output_type": "display_data"
    }
   ],
   "source": [
    "plt.plot(history_1.history['loss'])\n",
    "plt.plot(history_1.history['val_loss'])\n",
    "plt.title('model loss')\n",
    "plt.ylabel('loss')\n",
    "plt.xlabel('epoch')\n",
    "plt.legend(['Training ', 'Cross-Validation'], loc='upper right')\n",
    "#plt.xlim(0.0,)\n",
    "#plt.ylim(0.0,0.5)\n",
    "plt.xticks(np.arange(0.0, 21, 2))\n",
    "plt.yticks(np.arange(0.0, 0.13, 0.01))\n",
    "plt.savefig('Model_Loss_5p_mse.png', dpi=1200)\n",
    "plt.show()"
   ]
  },
  {
   "cell_type": "code",
   "execution_count": 9,
   "metadata": {},
   "outputs": [
    {
     "data": {
      "image/png": "[encoded data removed]",
      "text/plain": [
       "<Figure size 432x288 with 1 Axes>"
      ]
     },
     "metadata": {
      "needs_background": "light"
     },
     "output_type": "display_data"
    }
   ],
   "source": [
    "plt.plot(history_1.history['accuracy'])\n",
    "plt.plot(history_1.history['val_accuracy'])\n",
    "plt.title('model accuracy')\n",
    "plt.ylabel('accuracy')\n",
    "plt.xlabel('epoch')\n",
    "plt.legend(['Training ', 'Cross-Validation'], loc='lower right')\n",
    "#plt.xlim(0.0,)\n",
    "#plt.ylim(0.0,0.5)\n",
    "plt.xticks(np.arange(0.0, 21, 2))\n",
    "plt.yticks(np.arange(0.0, 1.0, 0.1))\n",
    "plt.savefig('Model_Accuracy_5p_mse.png', dpi=1200)\n",
    "plt.show()"
   ]
  },
  {
   "cell_type": "code",
   "execution_count": null,
   "metadata": {},
   "outputs": [],
   "source": []
  },
  {
   "cell_type": "code",
   "execution_count": null,
   "metadata": {},
   "outputs": [],
   "source": []
  }
 ],
 "metadata": {
  "kernelspec": {
   "display_name": "Python 3",
   "language": "python",
   "name": "python3"
  },
  "language_info": {
   "codemirror_mode": {
    "name": "ipython",
    "version": 3
   },
   "file_extension": ".py",
   "mimetype": "text/x-python",
   "name": "python",
   "nbconvert_exporter": "python",
   "pygments_lexer": "ipython3",
   "version": "3.8.8"
  }
 },
 "nbformat": 4,
 "nbformat_minor": 4
}
