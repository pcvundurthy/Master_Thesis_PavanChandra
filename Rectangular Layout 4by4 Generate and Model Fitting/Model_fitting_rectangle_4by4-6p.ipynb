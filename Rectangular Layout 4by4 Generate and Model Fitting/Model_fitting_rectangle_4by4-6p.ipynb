{
 "cells": [
  {
   "cell_type": "code",
   "execution_count": 1,
   "metadata": {},
   "outputs": [],
   "source": [
    "import numpy as np\n",
    "import math\n",
    "import matplotlib.pyplot as plt\n",
    "from tensorflow import keras\n",
    "import tensorflow as tf\n",
    "from tensorflow.keras import layers\n",
    "from kerastuner.tuners import RandomSearch\n",
    "import pandas as pd"
   ]
  },
  {
   "cell_type": "code",
   "execution_count": 2,
   "metadata": {
    "scrolled": true
   },
   "outputs": [
    {
     "name": "stdout",
     "output_type": "stream",
     "text": [
      "read_x_data\n",
      "read_y_data\n",
      "[[-0.97820564  0.29297193 -0.07061703 -0.96544182  0.2754832  -0.07559271\n",
      "  -0.95055615  0.26713403 -0.06478687 -0.94939434  0.28851273 -0.05467842\n",
      "  -1.02291172  0.31880814 -0.06668594 -1.02036267  0.29820167 -0.09116619\n",
      "  -0.98972578  0.26476729 -0.09036746 -0.9837491   0.30531915 -0.07307987\n",
      "  -1.06898421  0.34968716 -0.03087716 -1.12097493  0.35989869 -0.06120685\n",
      "  -1.15727766  0.31518646 -0.15790448 -1.05000599  0.3741363  -0.18206539\n",
      "  -0.59768246  0.20031284 -0.03087716 -0.54569173  0.19010131 -0.06120685\n",
      "  -0.50938901  0.23481354 -0.15790448 -0.61666068  0.1758637  -0.18206539]\n",
      " [-0.97193227  0.28311894 -0.07503682 -0.95575292  0.26763612 -0.0711619\n",
      "  -0.94843902  0.27649472 -0.05647182 -0.94931561  0.30501705 -0.05957846\n",
      "  -1.02443984  0.30965996 -0.08099909 -1.00460336  0.27637867 -0.09767224\n",
      "  -0.98201709  0.27869913 -0.07227972 -0.97407958  0.32913877 -0.09217471\n",
      "  -1.09623367  0.3560277  -0.04439676 -1.1578076   0.35485661 -0.10560989\n",
      "  -1.09225249  0.29842017 -0.12224508 -0.94862082  0.3393647  -0.19959043\n",
      "  -0.570433    0.1939723  -0.04439676 -0.50885907  0.19514339 -0.10560989\n",
      "  -0.57441418  0.25157983 -0.12224508 -0.71804585  0.2106353  -0.19959043]]\n",
      "[[ -35.   -35.     1.     0.     0.  -110.   -60. ]\n",
      " [ -29.2  -35.     1.     0.     0.  -110.   -60. ]]\n"
     ]
    }
   ],
   "source": [
    "#Reading the Training data (virtually generated) from a file \n",
    "#Input data\n",
    "x_data = pd.read_csv('x_rec_16_data_6.csv')\n",
    "x_data=x_data.values[:,1:]\n",
    "print(\"read_x_data\")\n",
    "#Output data\n",
    "y_data = pd.read_csv('y_rec_16_data_6.csv')\n",
    "y_data=y_data.values[:,1:]\n",
    "print(\"read_y_data\")\n",
    "print(x_data[:2,:])\n",
    "print(y_data[:2,:])"
   ]
  },
  {
   "cell_type": "code",
   "execution_count": 3,
   "metadata": {},
   "outputs": [
    {
     "name": "stdout",
     "output_type": "stream",
     "text": [
      "(34992, 48) (34992, 7) training data size\n",
      "(11664, 48) (11664, 7) Validation data size\n"
     ]
    }
   ],
   "source": [
    "from sklearn.preprocessing import MinMaxScaler\n",
    "from sklearn.model_selection import train_test_split\n",
    "\n",
    "X_train, X_val, y_train, y_val = train_test_split(x_data, y_data)\n",
    "print(np.shape(X_train), np.shape(y_train), \"training data size\")\n",
    "print(np.shape(X_val), np.shape(y_val),\"Validation data size\")\n",
    "#print(X_train[0:9,:])\n",
    "\n",
    "scaler_x = MinMaxScaler()\n",
    "scaler_y = MinMaxScaler()\n",
    "\n",
    "scaler_x.fit(X_train)\n",
    "xtrain_scale=scaler_x.transform(X_train)\n",
    "\n",
    "scaler_x.fit(X_val)\n",
    "xval_scale=scaler_x.transform(X_val)\n",
    "\n",
    "scaler_y.fit(y_train)\n",
    "ytrain_scale=scaler_y.transform(y_train)\n",
    "\n",
    "scaler_y.fit(y_val)\n",
    "yval_scale=scaler_y.transform(y_val)"
   ]
  },
  {
   "cell_type": "code",
   "execution_count": 4,
   "metadata": {},
   "outputs": [
    {
     "name": "stdout",
     "output_type": "stream",
     "text": [
      "Model: \"Rectangular_4by4_sensor_concept_NN\"\n",
      "_________________________________________________________________\n",
      "Layer (type)                 Output Shape              Param #   \n",
      "=================================================================\n",
      "input_1 (InputLayer)         [(None, 48)]              0         \n",
      "_________________________________________________________________\n",
      "dense (Dense)                (None, 700)               34300     \n",
      "_________________________________________________________________\n",
      "dense_1 (Dense)              (None, 700)               490700    \n",
      "_________________________________________________________________\n",
      "dense_2 (Dense)              (None, 7)                 4907      \n",
      "=================================================================\n",
      "Total params: 529,907\n",
      "Trainable params: 529,907\n",
      "Non-trainable params: 0\n",
      "_________________________________________________________________\n"
     ]
    }
   ],
   "source": [
    "from tensorflow.keras.models import Model\n",
    "from tensorflow.keras.layers import Input\n",
    "from tensorflow.keras.layers import Dense\n",
    "from keras.models import Sequential\n",
    "from keras.layers import Dense\n",
    "from numpy import loadtxt\n",
    "from keras.models import load_model\n",
    "from keras.wrappers.scikit_learn import KerasClassifier\n",
    "from keras.constraints import maxnorm\n",
    "\n",
    "\n",
    "input_layer = Input(shape=(48,))\n",
    "hidden_layer_1 = Dense(units = 700, activation = 'relu')(input_layer)\n",
    "hidden_layer_2 = Dense(units = 700, activation = 'relu')(hidden_layer_1)\n",
    "output_layer = Dense(units = 7, activation = 'linear')(hidden_layer_2)\n",
    "model = Model(inputs = input_layer, outputs = output_layer, name = 'Rectangular_4by4_sensor_concept_NN')\n",
    "\n",
    "#for specific values of learning rate\n",
    "#opt = keras.optimizers.Adam(learning_rate=0.0001)\n",
    "\n",
    "model.compile(loss='mse', optimizer=\"adam\", metrics=['accuracy'])\n",
    "#metrics=['accuracy']\n",
    "##Implementing Early stopping\n",
    "\n",
    "my_callbacks = [\n",
    "    tf.keras.callbacks.EarlyStopping(monitor='val_loss',patience=5)]\n",
    "#    tf.keras.callbacks.ModelCheckpoint(filepath='model.{epoch:02d}-{val_loss:.2f}.h5'),\n",
    "#    tf.keras.callbacks.TensorBoard(log_dir='./logs'),\n",
    "#    tf.keras.callbacks.CSVLogger('Points_5_training.log')]\n",
    "# Display the model\n",
    "model.summary()\n"
   ]
  },
  {
   "cell_type": "code",
   "execution_count": 5,
   "metadata": {},
   "outputs": [],
   "source": [
    "#from keras.utils import plot_model\n",
    "#keras.utils.plot_model(model)\n",
    "#plot_model(model, to_file='Model_Architecture_9p.png', dpi=1200, show_shapes=True, show_layer_names=True)"
   ]
  },
  {
   "cell_type": "code",
   "execution_count": 6,
   "metadata": {},
   "outputs": [
    {
     "name": "stdout",
     "output_type": "stream",
     "text": [
      "Epoch 1/20\n",
      "1094/1094 - 5s - loss: 0.0546 - accuracy: 0.4611 - val_loss: 0.0445 - val_accuracy: 0.5273\n",
      "Epoch 2/20\n",
      "1094/1094 - 5s - loss: 0.0349 - accuracy: 0.5424 - val_loss: 0.0389 - val_accuracy: 0.5431\n",
      "Epoch 3/20\n",
      "1094/1094 - 5s - loss: 0.0279 - accuracy: 0.5796 - val_loss: 0.0387 - val_accuracy: 0.5634\n",
      "Epoch 4/20\n",
      "1094/1094 - 5s - loss: 0.0239 - accuracy: 0.6010 - val_loss: 0.0518 - val_accuracy: 0.5539\n",
      "Epoch 5/20\n",
      "1094/1094 - 5s - loss: 0.0217 - accuracy: 0.6099 - val_loss: 0.0412 - val_accuracy: 0.5838\n",
      "Epoch 6/20\n",
      "1094/1094 - 5s - loss: 0.0202 - accuracy: 0.6205 - val_loss: 0.0360 - val_accuracy: 0.5963\n",
      "Epoch 7/20\n",
      "1094/1094 - 5s - loss: 0.0187 - accuracy: 0.6275 - val_loss: 0.0402 - val_accuracy: 0.5481\n",
      "Epoch 8/20\n",
      "1094/1094 - 5s - loss: 0.0175 - accuracy: 0.6289 - val_loss: 0.0325 - val_accuracy: 0.6121\n",
      "Epoch 9/20\n",
      "1094/1094 - 5s - loss: 0.0170 - accuracy: 0.6338 - val_loss: 0.0342 - val_accuracy: 0.5730\n",
      "Epoch 10/20\n",
      "1094/1094 - 5s - loss: 0.0161 - accuracy: 0.6403 - val_loss: 0.0492 - val_accuracy: 0.5616\n",
      "Epoch 11/20\n",
      "1094/1094 - 5s - loss: 0.0158 - accuracy: 0.6396 - val_loss: 0.0403 - val_accuracy: 0.6079\n",
      "Epoch 12/20\n",
      "1094/1094 - 5s - loss: 0.0153 - accuracy: 0.6445 - val_loss: 0.0358 - val_accuracy: 0.6114\n",
      "Epoch 13/20\n",
      "1094/1094 - 5s - loss: 0.0147 - accuracy: 0.6455 - val_loss: 0.0393 - val_accuracy: 0.6192\n",
      "Epoch 14/20\n",
      "1094/1094 - 5s - loss: 0.0141 - accuracy: 0.6474 - val_loss: 0.0482 - val_accuracy: 0.5442\n",
      "Epoch 15/20\n",
      "1094/1094 - 5s - loss: 0.0140 - accuracy: 0.6501 - val_loss: 0.0408 - val_accuracy: 0.6120\n",
      "Epoch 16/20\n",
      "1094/1094 - 5s - loss: 0.0132 - accuracy: 0.6570 - val_loss: 0.0519 - val_accuracy: 0.5608\n",
      "Epoch 17/20\n",
      "1094/1094 - 5s - loss: 0.0129 - accuracy: 0.6566 - val_loss: 0.0476 - val_accuracy: 0.5817\n",
      "Epoch 18/20\n",
      "1094/1094 - 5s - loss: 0.0129 - accuracy: 0.6564 - val_loss: 0.0490 - val_accuracy: 0.5895\n",
      "Epoch 19/20\n",
      "1094/1094 - 5s - loss: 0.0129 - accuracy: 0.6561 - val_loss: 0.0381 - val_accuracy: 0.5960\n",
      "Epoch 20/20\n",
      "1094/1094 - 5s - loss: 0.0122 - accuracy: 0.6577 - val_loss: 0.0345 - val_accuracy: 0.6249\n"
     ]
    }
   ],
   "source": [
    "history_1 = model.fit(xtrain_scale, ytrain_scale, epochs=20, verbose=2, validation_data=(xval_scale,yval_scale))\n",
    "#history_1 = model.fit(xtrain_scale, ytrain_scale, epochs=20, verbose=1, callbacks=my_callbacks, validation_data=(xval_scale,yval_scale))\n"
   ]
  },
  {
   "cell_type": "code",
   "execution_count": 7,
   "metadata": {},
   "outputs": [
    {
     "data": {
      "image/png": "[encoded data removed]",
      "text/plain": [
       "<Figure size 432x288 with 1 Axes>"
      ]
     },
     "metadata": {
      "needs_background": "light"
     },
     "output_type": "display_data"
    }
   ],
   "source": [
    "plt.plot(history_1.history['loss'])\n",
    "plt.plot(history_1.history['val_loss'])\n",
    "plt.title('model loss')\n",
    "plt.ylabel('loss')\n",
    "plt.xlabel('epoch')\n",
    "plt.legend(['Training ', 'Cross-Validation'], loc='upper right')\n",
    "#plt.xlim(0.0,)\n",
    "#plt.ylim(0.0,0.5)\n",
    "plt.xticks(np.arange(0.0, 21, 2))\n",
    "plt.yticks(np.arange(0.0, 0.13, 0.01))\n",
    "plt.savefig('Model_Loss_6p_mse.png', dpi=1200)\n",
    "plt.show()"
   ]
  },
  {
   "cell_type": "code",
   "execution_count": 8,
   "metadata": {},
   "outputs": [
    {
     "data": {
      "image/png": "[encoded data removed]",
      "text/plain": [
       "<Figure size 432x288 with 1 Axes>"
      ]
     },
     "metadata": {
      "needs_background": "light"
     },
     "output_type": "display_data"
    }
   ],
   "source": [
    "plt.plot(history_1.history['accuracy'])\n",
    "plt.plot(history_1.history['val_accuracy'])\n",
    "plt.title('model accuracy')\n",
    "plt.ylabel('accuracy')\n",
    "plt.xlabel('epoch')\n",
    "plt.legend(['Training ', 'Cross-Validation'], loc='lower right')\n",
    "#plt.xlim(0.0,)\n",
    "#plt.ylim(0.0,0.5)\n",
    "plt.xticks(np.arange(0.0, 21, 2))\n",
    "plt.yticks(np.arange(0.0, 1.0, 0.1))\n",
    "plt.savefig('Model_Accuracy_6p_mse.png', dpi=1200)\n",
    "plt.show()"
   ]
  },
  {
   "cell_type": "code",
   "execution_count": null,
   "metadata": {},
   "outputs": [],
   "source": []
  },
  {
   "cell_type": "code",
   "execution_count": null,
   "metadata": {},
   "outputs": [],
   "source": []
  }
 ],
 "metadata": {
  "kernelspec": {
   "display_name": "Python 3",
   "language": "python",
   "name": "python3"
  },
  "language_info": {
   "codemirror_mode": {
    "name": "ipython",
    "version": 3
   },
   "file_extension": ".py",
   "mimetype": "text/x-python",
   "name": "python",
   "nbconvert_exporter": "python",
   "pygments_lexer": "ipython3",
   "version": "3.8.8"
  }
 },
 "nbformat": 4,
 "nbformat_minor": 4
}
