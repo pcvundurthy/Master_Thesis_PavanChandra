{
 "cells": [
  {
   "cell_type": "code",
   "execution_count": 1,
   "metadata": {},
   "outputs": [],
   "source": [
    "import numpy as np\n",
    "import math\n",
    "import matplotlib.pyplot as plt\n",
    "from tensorflow import keras\n",
    "import tensorflow as tf\n",
    "from tensorflow.keras import layers\n",
    "from kerastuner.tuners import RandomSearch\n",
    "import pandas as pd"
   ]
  },
  {
   "cell_type": "code",
   "execution_count": 2,
   "metadata": {},
   "outputs": [
    {
     "name": "stdout",
     "output_type": "stream",
     "text": [
      "read_x_data\n",
      "read_y_data\n",
      "[[-0.97820564  0.29297193 -0.07061703 -0.96544182  0.2754832  -0.07559271\n",
      "  -0.95055615  0.26713403 -0.06478687 -0.94939434  0.28851273 -0.05467842\n",
      "  -1.02291172  0.31880814 -0.06668594 -1.02036267  0.29820167 -0.09116619\n",
      "  -0.98972578  0.26476729 -0.09036746 -0.9837491   0.30531915 -0.07307987\n",
      "  -1.06898421  0.34968716 -0.03087716 -1.12097493  0.35989869 -0.06120685\n",
      "  -1.15727766  0.31518646 -0.15790448 -1.05000599  0.3741363  -0.18206539\n",
      "  -0.59768246  0.20031284 -0.03087716 -0.54569173  0.19010131 -0.06120685\n",
      "  -0.50938901  0.23481354 -0.15790448 -0.61666068  0.1758637  -0.18206539]\n",
      " [-0.96984174  0.28045413 -0.07554428 -0.95366561  0.26681943 -0.06915842\n",
      "  -0.94867445  0.2803592  -0.05532045 -0.94855848  0.30831947 -0.06174094\n",
      "  -1.02365787  0.3062235  -0.08467621 -0.9992982   0.27119693 -0.09646884\n",
      "  -0.9827315   0.28755233 -0.07063151 -0.96914893  0.3312652  -0.09716293\n",
      "  -1.10428192  0.35754912 -0.04928571 -1.163557    0.34725352 -0.12266363\n",
      "  -1.09223439  0.34451607 -0.13466374 -0.93305379  0.33148657 -0.19556371\n",
      "  -0.56238474  0.19245088 -0.04928571 -0.50310967  0.20274648 -0.12266363\n",
      "  -0.57443228  0.20548393 -0.13466374 -0.73361288  0.21851343 -0.19556371]]\n",
      "[[ -35.    -35.      1.      0.      0.   -110.    -60.  ]\n",
      " [ -27.75  -35.      1.      0.      0.   -110.    -60.  ]]\n"
     ]
    }
   ],
   "source": [
    "#Reading the Training data (virtually generated) from a file \n",
    "#Input data\n",
    "x_data = pd.read_csv('x_rec_16_data_5.csv')\n",
    "x_data=x_data.values[:,1:]\n",
    "print(\"read_x_data\")\n",
    "#Output data\n",
    "y_data = pd.read_csv('y_rec_16_data_5.csv')\n",
    "y_data=y_data.values[:,1:]\n",
    "print(\"read_y_data\")\n",
    "print(x_data[:2,:])\n",
    "print(y_data[:2,:])"
   ]
  },
  {
   "cell_type": "code",
   "execution_count": 3,
   "metadata": {},
   "outputs": [
    {
     "name": "stdout",
     "output_type": "stream",
     "text": [
      "(11718, 48) (11718, 7) training data size\n",
      "(3907, 48) (3907, 7) Validation data size\n"
     ]
    }
   ],
   "source": [
    "from sklearn.preprocessing import MinMaxScaler\n",
    "from sklearn.model_selection import train_test_split\n",
    "\n",
    "X_train, X_val, y_train, y_val = train_test_split(x_data, y_data)\n",
    "print(np.shape(X_train), np.shape(y_train), \"training data size\")\n",
    "print(np.shape(X_val), np.shape(y_val),\"Validation data size\")\n",
    "#print(X_train[0:9,:])\n",
    "\n",
    "scaler_x = MinMaxScaler()\n",
    "scaler_y = MinMaxScaler()\n",
    "\n",
    "scaler_x.fit(X_train)\n",
    "xtrain_scale=scaler_x.transform(X_train)\n",
    "\n",
    "scaler_x.fit(X_val)\n",
    "xval_scale=scaler_x.transform(X_val)\n",
    "\n",
    "scaler_y.fit(y_train)\n",
    "ytrain_scale=scaler_y.transform(y_train)\n",
    "\n",
    "scaler_y.fit(y_val)\n",
    "yval_scale=scaler_y.transform(y_val)"
   ]
  },
  {
   "cell_type": "code",
   "execution_count": 4,
   "metadata": {},
   "outputs": [
    {
     "name": "stdout",
     "output_type": "stream",
     "text": [
      "Model: \"sensor_concept_nn\"\n",
      "_________________________________________________________________\n",
      "Layer (type)                 Output Shape              Param #   \n",
      "=================================================================\n",
      "input_1 (InputLayer)         [(None, 48)]              0         \n",
      "_________________________________________________________________\n",
      "dense (Dense)                (None, 700)               34300     \n",
      "_________________________________________________________________\n",
      "dense_1 (Dense)              (None, 700)               490700    \n",
      "_________________________________________________________________\n",
      "dense_2 (Dense)              (None, 7)                 4907      \n",
      "=================================================================\n",
      "Total params: 529,907\n",
      "Trainable params: 529,907\n",
      "Non-trainable params: 0\n",
      "_________________________________________________________________\n"
     ]
    }
   ],
   "source": [
    "from tensorflow.keras.models import Model\n",
    "from tensorflow.keras.layers import Input\n",
    "from tensorflow.keras.layers import Dense\n",
    "from keras.models import Sequential\n",
    "from keras.layers import Dense\n",
    "from numpy import loadtxt\n",
    "from keras.models import load_model\n",
    "\n",
    "\n",
    "input_layer = Input(shape=(48,))\n",
    "hidden_layer_1 = Dense(units = 700, activation = 'relu')(input_layer)\n",
    "hidden_layer_2 = Dense(units = 700, activation = 'relu')(hidden_layer_1)\n",
    "output_layer = Dense(units = 7, activation = 'linear')(hidden_layer_2)\n",
    "model = Model(inputs = input_layer, outputs = output_layer, name = 'sensor_concept_nn')\n",
    "#opt = keras.optimizers.Adam(learning_rate=0.0001)\n",
    "model.compile(loss='mae', optimizer='adam')\n",
    "def scheduler(epoch, lr):\n",
    "    if epoch < 5:\n",
    "        return lr\n",
    "    else:\n",
    "        return lr * tf.math.exp(-0.1)\n",
    "\n",
    "callback = tf.keras.callbacks.LearningRateScheduler(scheduler)\n",
    "\n",
    "# Display the model\n",
    "model.summary()"
   ]
  },
  {
   "cell_type": "code",
   "execution_count": 5,
   "metadata": {},
   "outputs": [
    {
     "name": "stdout",
     "output_type": "stream",
     "text": [
      "Epoch 1/30\n",
      "367/367 - 2s - loss: 0.1916 - val_loss: 0.1745\n",
      "Epoch 2/30\n",
      "367/367 - 2s - loss: 0.1461 - val_loss: 0.1499\n",
      "Epoch 3/30\n",
      "367/367 - 2s - loss: 0.1305 - val_loss: 0.1416\n",
      "Epoch 4/30\n",
      "367/367 - 2s - loss: 0.1180 - val_loss: 0.1245\n",
      "Epoch 5/30\n",
      "367/367 - 2s - loss: 0.1093 - val_loss: 0.1151\n",
      "Epoch 6/30\n",
      "367/367 - 2s - loss: 0.1016 - val_loss: 0.1099\n",
      "Epoch 7/30\n",
      "367/367 - 2s - loss: 0.0941 - val_loss: 0.0996\n",
      "Epoch 8/30\n",
      "367/367 - 2s - loss: 0.0877 - val_loss: 0.0994\n",
      "Epoch 9/30\n",
      "367/367 - 2s - loss: 0.0830 - val_loss: 0.0988\n",
      "Epoch 10/30\n",
      "367/367 - 2s - loss: 0.0780 - val_loss: 0.1033\n",
      "Epoch 11/30\n",
      "367/367 - 2s - loss: 0.0751 - val_loss: 0.0836\n",
      "Epoch 12/30\n",
      "367/367 - 2s - loss: 0.0722 - val_loss: 0.0984\n",
      "Epoch 13/30\n",
      "367/367 - 2s - loss: 0.0697 - val_loss: 0.0900\n",
      "Epoch 14/30\n",
      "367/367 - 2s - loss: 0.0660 - val_loss: 0.0871\n",
      "Epoch 15/30\n",
      "367/367 - 2s - loss: 0.0640 - val_loss: 0.0869\n",
      "Epoch 16/30\n",
      "367/367 - 2s - loss: 0.0621 - val_loss: 0.0968\n",
      "Epoch 17/30\n",
      "367/367 - 2s - loss: 0.0602 - val_loss: 0.0910\n",
      "Epoch 18/30\n",
      "367/367 - 2s - loss: 0.0589 - val_loss: 0.0896\n",
      "Epoch 19/30\n",
      "367/367 - 2s - loss: 0.0571 - val_loss: 0.0989\n",
      "Epoch 20/30\n",
      "367/367 - 2s - loss: 0.0554 - val_loss: 0.0941\n",
      "Epoch 21/30\n",
      "367/367 - 2s - loss: 0.0549 - val_loss: 0.0928\n",
      "Epoch 22/30\n",
      "367/367 - 2s - loss: 0.0536 - val_loss: 0.0878\n",
      "Epoch 23/30\n",
      "367/367 - 2s - loss: 0.0525 - val_loss: 0.0892\n",
      "Epoch 24/30\n",
      "367/367 - 2s - loss: 0.0517 - val_loss: 0.0942\n",
      "Epoch 25/30\n",
      "367/367 - 2s - loss: 0.0509 - val_loss: 0.0855\n",
      "Epoch 26/30\n",
      "367/367 - 2s - loss: 0.0497 - val_loss: 0.0904\n",
      "Epoch 27/30\n",
      "367/367 - 2s - loss: 0.0491 - val_loss: 0.0921\n",
      "Epoch 28/30\n",
      "367/367 - 2s - loss: 0.0484 - val_loss: 0.0881\n",
      "Epoch 29/30\n",
      "367/367 - 2s - loss: 0.0481 - val_loss: 0.0876\n",
      "Epoch 30/30\n",
      "367/367 - 2s - loss: 0.0475 - val_loss: 0.0930\n"
     ]
    }
   ],
   "source": [
    "history = model.fit(xtrain_scale, ytrain_scale, epochs=30, verbose=2, validation_data=(xval_scale,yval_scale),callbacks=[callback])\n"
   ]
  },
  {
   "cell_type": "code",
   "execution_count": 6,
   "metadata": {},
   "outputs": [
    {
     "data": {
      "image/png": "[encoded data removed]",
      "text/plain": [
       "<Figure size 432x288 with 1 Axes>"
      ]
     },
     "metadata": {
      "needs_background": "light"
     },
     "output_type": "display_data"
    }
   ],
   "source": [
    "from matplotlib import pyplot as plt\n",
    "plt.plot(history.history['loss'])\n",
    "plt.plot(history.history['val_loss'])\n",
    "plt.title('model loss')\n",
    "plt.ylabel('loss')\n",
    "plt.xlabel('epoch')\n",
    "plt.legend(['train', 'val'], loc='upper left')\n",
    "#plt.ylim(0.07,0.15)\n",
    "plt.show()"
   ]
  },
  {
   "cell_type": "raw",
   "metadata": {},
   "source": [
    "f = open('loss_vs_val_loss.txt','w')\n",
    "f.write(history.history['loss'])\n",
    "f.write(history.history['val_loss'])\n",
    "f.write('end')\n",
    "# do this as long as you need to\n",
    "f.seek(0,0) # return to the beginning of the file if you need to\n",
    "f.close() # close the file handle"
   ]
  },
  {
   "cell_type": "code",
   "execution_count": 7,
   "metadata": {},
   "outputs": [
    {
     "name": "stdout",
     "output_type": "stream",
     "text": [
      "Epoch 1/30\n",
      "367/367 - 2s - loss: 0.0471 - val_loss: 0.0900\n",
      "Epoch 2/30\n",
      "367/367 - 2s - loss: 0.0467 - val_loss: 0.0952\n",
      "Epoch 3/30\n",
      "367/367 - 2s - loss: 0.0465 - val_loss: 0.0888\n",
      "Epoch 4/30\n",
      "367/367 - 2s - loss: 0.0462 - val_loss: 0.0902\n",
      "Epoch 5/30\n",
      "367/367 - 2s - loss: 0.0460 - val_loss: 0.0957\n",
      "Epoch 6/30\n",
      "367/367 - 2s - loss: 0.0458 - val_loss: 0.0925\n",
      "Epoch 7/30\n",
      "367/367 - 2s - loss: 0.0452 - val_loss: 0.0904\n",
      "Epoch 8/30\n",
      "367/367 - 2s - loss: 0.0450 - val_loss: 0.0906\n",
      "Epoch 9/30\n",
      "367/367 - 2s - loss: 0.0445 - val_loss: 0.0906\n",
      "Epoch 10/30\n",
      "367/367 - 2s - loss: 0.0441 - val_loss: 0.0927\n",
      "Epoch 11/30\n",
      "367/367 - 2s - loss: 0.0439 - val_loss: 0.0934\n",
      "Epoch 12/30\n",
      "367/367 - 2s - loss: 0.0438 - val_loss: 0.0936\n",
      "Epoch 13/30\n",
      "367/367 - 2s - loss: 0.0434 - val_loss: 0.0943\n",
      "Epoch 14/30\n",
      "367/367 - 2s - loss: 0.0432 - val_loss: 0.0935\n",
      "Epoch 15/30\n",
      "367/367 - 2s - loss: 0.0430 - val_loss: 0.0933\n",
      "Epoch 16/30\n",
      "367/367 - 2s - loss: 0.0428 - val_loss: 0.0932\n",
      "Epoch 17/30\n",
      "367/367 - 2s - loss: 0.0427 - val_loss: 0.0924\n",
      "Epoch 18/30\n",
      "367/367 - 2s - loss: 0.0425 - val_loss: 0.0935\n",
      "Epoch 19/30\n",
      "367/367 - 2s - loss: 0.0424 - val_loss: 0.0925\n",
      "Epoch 20/30\n",
      "367/367 - 2s - loss: 0.0423 - val_loss: 0.0931\n",
      "Epoch 21/30\n",
      "367/367 - 2s - loss: 0.0421 - val_loss: 0.0938\n",
      "Epoch 22/30\n",
      "367/367 - 2s - loss: 0.0421 - val_loss: 0.0929\n",
      "Epoch 23/30\n",
      "367/367 - 2s - loss: 0.0420 - val_loss: 0.0937\n",
      "Epoch 24/30\n",
      "367/367 - 2s - loss: 0.0419 - val_loss: 0.0928\n",
      "Epoch 25/30\n",
      "367/367 - 2s - loss: 0.0418 - val_loss: 0.0941\n",
      "Epoch 26/30\n",
      "367/367 - 2s - loss: 0.0418 - val_loss: 0.0928\n",
      "Epoch 27/30\n",
      "367/367 - 2s - loss: 0.0416 - val_loss: 0.0933\n",
      "Epoch 28/30\n",
      "367/367 - 2s - loss: 0.0416 - val_loss: 0.0942\n",
      "Epoch 29/30\n",
      "367/367 - 2s - loss: 0.0416 - val_loss: 0.0941\n",
      "Epoch 30/30\n",
      "367/367 - 2s - loss: 0.0415 - val_loss: 0.0924\n"
     ]
    }
   ],
   "source": [
    "\n",
    "#Creating a Callback subclass that stores each epoch prediction\n",
    "class prediction_history(tf.keras.callbacks.Callback):\n",
    "    def __init__(self):\n",
    "        self.predhis = []\n",
    "    def on_epoch_end(self, epoch, logs={}):\n",
    "        self.predhis.append(model.predict(xval_scale))\n",
    "\n",
    "#Calling the subclass\n",
    "predictions=prediction_history()\n",
    "\n",
    "#Executing the model.fit of the neural network\n",
    "#model.fit(X=predictor_train, y=target_train, nb_epoch=2, batch_size=batch,validation_split=0.1,callbacks=[predictions]) \n",
    "history = model.fit(xtrain_scale, ytrain_scale, epochs=30, verbose=2, validation_data=(xval_scale,yval_scale),callbacks=[callback,predictions])\n",
    "#Printing the prediction history\n",
    "#print (predictions.predhis)"
   ]
  },
  {
   "cell_type": "code",
   "execution_count": 8,
   "metadata": {},
   "outputs": [
    {
     "name": "stdout",
     "output_type": "stream",
     "text": [
      "[-0.48859453, -0.5002366, -0.5010616, -0.50756294, -0.5051135, -0.5003068, -0.49120092, -0.49636883, -0.5057038, -0.49671096, -0.4813812, -0.49879423, -0.49752456, -0.48836845, -0.49080712, -0.49197748, -0.48757523, -0.48409572, -0.49167085, -0.4993472, -0.49362367, -0.4937438, -0.49039546, -0.49309826, -0.48874912, -0.48905605, -0.49451447, -0.4874418, -0.48825714, -0.49135348]\n"
     ]
    }
   ],
   "source": [
    "check_data=predictions.predhis\n",
    "np.shape(check_data)\n",
    "err_sincos_mean=[]\n",
    "\n",
    "for i in range(0,30):\n",
    "    err_sincos = (check_data[i][:][2]**2+check_data[i][:][3]**2)-1\n",
    "    err_sincos_mean.append(np.mean(err_sincos))\n",
    "print(err_sincos_mean)"
   ]
  },
  {
   "cell_type": "code",
   "execution_count": 9,
   "metadata": {},
   "outputs": [
    {
     "data": {
      "image/png": "[encoded data removed]",
      "text/plain": [
       "<Figure size 432x288 with 1 Axes>"
      ]
     },
     "metadata": {
      "needs_background": "light"
     },
     "output_type": "display_data"
    }
   ],
   "source": [
    "plt.plot(history.history['loss'])\n",
    "plt.plot(history.history['val_loss'])\n",
    "plt.plot(err_sincos_mean)\n",
    "plt.title('Model Loss with sincos')\n",
    "plt.ylabel('loss')\n",
    "plt.xlabel('epoch')\n",
    "plt.legend(['train', 'val','sincos'], loc='upper left')\n",
    "#plt.ylim(0.07,0.15)\n",
    "plt.show()"
   ]
  },
  {
   "cell_type": "code",
   "execution_count": 10,
   "metadata": {},
   "outputs": [
    {
     "name": "stdout",
     "output_type": "stream",
     "text": [
      "[0.09003322 0.0952348  0.0888193  0.09016813 0.0957431  0.09246449\n",
      " 0.09041305 0.09057352 0.09059651 0.09272058 0.09335192 0.09362213\n",
      " 0.09432304 0.093474   0.09326983 0.09316622 0.09240074 0.09347332\n",
      " 0.092492   0.09307825 0.09380153 0.09290063 0.09366255 0.09284824\n",
      " 0.09411566 0.09282193 0.09325586 0.09417446 0.09407562 0.09239128]\n"
     ]
    },
    {
     "data": {
      "image/png": "[encoded data removed]",
      "text/plain": [
       "<Figure size 432x288 with 1 Axes>"
      ]
     },
     "metadata": {
      "needs_background": "light"
     },
     "output_type": "display_data"
    }
   ],
   "source": [
    "asd = np.array(history.history['val_loss'])\n",
    "print(asd)\n",
    "\n",
    "plt.plot(asd)\n",
    "plt.plot(err_sincos_mean)\n",
    "plt.show()"
   ]
  },
  {
   "cell_type": "code",
   "execution_count": 35,
   "metadata": {},
   "outputs": [
    {
     "data": {
      "image/png": "[encoded data removed]",
      "text/plain": [
       "<Figure size 432x288 with 2 Axes>"
      ]
     },
     "metadata": {
      "needs_background": "light"
     },
     "output_type": "display_data"
    }
   ],
   "source": [
    "fig, axs = plt.subplots(2,sharex=True)\n",
    "fig.suptitle('Comparison of validation loss and error in sinβ & cosβ ')\n",
    "axs[0].plot(asd)\n",
    "axs[1].plot(err_sincos_mean)\n",
    "plt.xlabel('epochs')\n",
    "axs[0].set_ylabel('Validation Loss')\n",
    "axs[1].set_ylabel('Error in Sinβ and Cosβ')\n",
    "axs[0].set_ylim([0, 0.1])\n",
    "axs[1].set_ylim([-1, 0])\n",
    "plt.savefig('relation_sincos.png', dpi=300, bbox_inches='tight')\n"
   ]
  },
  {
   "cell_type": "code",
   "execution_count": 38,
   "metadata": {},
   "outputs": [
    {
     "name": "stdout",
     "output_type": "stream",
     "text": [
      "-0.1879245066014118\n"
     ]
    },
    {
     "data": {
      "image/png": "[encoded data removed]",
      "text/plain": [
       "<Figure size 432x288 with 1 Axes>"
      ]
     },
     "metadata": {
      "needs_background": "light"
     },
     "output_type": "display_data"
    }
   ],
   "source": [
    "plt.plot(asd/err_sincos_mean)\n",
    "plt.ylim(-0.5,0.5)\n",
    "\n",
    "print(np.mean(asd/err_sincos_mean))\n",
    "plt.xlabel('epochs')\n",
    "plt.ylabel('$C_β$')\n",
    "plt.title('Relation between validation loss and err_sincos_mean')\n",
    "plt.savefig('error_indicator.png', dpi=300, bbox_inches='tight')\n",
    "plt.show()"
   ]
  },
  {
   "cell_type": "markdown",
   "metadata": {},
   "source": [
    "### err_sincos_mean is sin**2(beta)+cos**2(beat)-1\n",
    "### asd is validation loss of the model\n",
    "\n",
    "# asd = constant * err_sincos_mean\n",
    "\n",
    "### the constant in this case is -0.2 \n"
   ]
  },
  {
   "cell_type": "code",
   "execution_count": 13,
   "metadata": {},
   "outputs": [
    {
     "name": "stdout",
     "output_type": "stream",
     "text": [
      "[-0.1842698  -0.19037952 -0.17726222 -0.17764917 -0.1895477  -0.18481559\n",
      " -0.18406531 -0.18247222 -0.17914936 -0.18666908 -0.19392513 -0.18769689\n",
      " -0.18958469 -0.19140057 -0.19003358 -0.18937091 -0.18951073 -0.1930885\n",
      " -0.18811772 -0.18639986 -0.1900264  -0.18815553 -0.19099391 -0.18829562\n",
      " -0.19256436 -0.18979815 -0.18858064 -0.19320144 -0.19267638 -0.18803425]\n"
     ]
    }
   ],
   "source": [
    "print(asd/err_sincos_mean)"
   ]
  },
  {
   "cell_type": "code",
   "execution_count": null,
   "metadata": {},
   "outputs": [],
   "source": []
  }
 ],
 "metadata": {
  "kernelspec": {
   "display_name": "Python 3",
   "language": "python",
   "name": "python3"
  },
  "language_info": {
   "codemirror_mode": {
    "name": "ipython",
    "version": 3
   },
   "file_extension": ".py",
   "mimetype": "text/x-python",
   "name": "python",
   "nbconvert_exporter": "python",
   "pygments_lexer": "ipython3",
   "version": "3.8.8"
  }
 },
 "nbformat": 4,
 "nbformat_minor": 4
}
