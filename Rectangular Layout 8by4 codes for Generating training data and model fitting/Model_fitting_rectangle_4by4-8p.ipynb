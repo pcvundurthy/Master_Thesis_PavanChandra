{
 "cells": [
  {
   "cell_type": "code",
   "execution_count": 1,
   "metadata": {},
   "outputs": [],
   "source": [
    "import numpy as np\n",
    "import math\n",
    "import matplotlib.pyplot as plt\n",
    "from tensorflow import keras\n",
    "import tensorflow as tf\n",
    "from tensorflow.keras import layers\n",
    "from kerastuner.tuners import RandomSearch\n",
    "import pandas as pd"
   ]
  },
  {
   "cell_type": "code",
   "execution_count": 2,
   "metadata": {
    "scrolled": true
   },
   "outputs": [
    {
     "name": "stdout",
     "output_type": "stream",
     "text": [
      "read_x_data\n",
      "read_y_data\n",
      "[[-0.97820564  0.29297193 -0.07061703 -0.96544182  0.2754832  -0.07559271\n",
      "  -0.95055615  0.26713403 -0.06478687 -0.94939434  0.28851273 -0.05467842\n",
      "  -1.02291172  0.31880814 -0.06668594 -1.02036267  0.29820167 -0.09116619\n",
      "  -0.98972578  0.26476729 -0.09036746 -0.9837491   0.30531915 -0.07307987\n",
      "  -1.06898421  0.34968716 -0.03087716 -1.12097493  0.35989869 -0.06120685\n",
      "  -1.15727766  0.31518646 -0.15790448 -1.05000599  0.3741363  -0.18206539\n",
      "  -0.59768246  0.20031284 -0.03087716 -0.54569173  0.19010131 -0.06120685\n",
      "  -0.50938901  0.23481354 -0.15790448 -0.61666068  0.1758637  -0.18206539]\n",
      " [-0.9740792   0.28610709 -0.07411546 -0.95839672  0.2692544  -0.07305714\n",
      "  -0.94846498  0.27270179 -0.05837477 -0.94977004  0.3007404  -0.05746266\n",
      "  -1.02466716  0.31296683 -0.07676985 -1.01022897  0.28286214 -0.09740703\n",
      "  -0.98210186  0.27058637 -0.07636307 -0.97869309  0.32494291 -0.08611368\n",
      "  -1.08767419  0.35420764 -0.03968909 -1.14816328  0.35907906 -0.08932012\n",
      "  -1.09413263  0.25857529 -0.14222283 -0.97089051  0.34990919 -0.20220091\n",
      "  -0.57899247  0.19579236 -0.03968909 -0.51850339  0.19092094 -0.08932012\n",
      "  -0.57253404  0.29142471 -0.14222283 -0.69577615  0.20009081 -0.20220091]]\n",
      "[[ -35.          -35.            1.            0.            0.\n",
      "  -110.          -60.        ]\n",
      " [ -30.85714286  -35.            1.            0.            0.\n",
      "  -110.          -60.        ]]\n"
     ]
    }
   ],
   "source": [
    "#Reading the Training data (virtually generated) from a file \n",
    "#Input data\n",
    "x_data = pd.read_csv('x_rec_16_data_8.csv')\n",
    "x_data=x_data.values[:,1:]\n",
    "print(\"read_x_data\")\n",
    "#Output data\n",
    "y_data = pd.read_csv('y_rec_16_data_8.csv')\n",
    "y_data=y_data.values[:,1:]\n",
    "print(\"read_y_data\")\n",
    "print(x_data[:2,:])\n",
    "print(y_data[:2,:])"
   ]
  },
  {
   "cell_type": "code",
   "execution_count": 3,
   "metadata": {},
   "outputs": [
    {
     "name": "stdout",
     "output_type": "stream",
     "text": [
      "(196608, 48) (196608, 7) training data size\n",
      "(65536, 48) (65536, 7) Validation data size\n"
     ]
    }
   ],
   "source": [
    "from sklearn.preprocessing import MinMaxScaler\n",
    "from sklearn.model_selection import train_test_split\n",
    "\n",
    "X_train, X_val, y_train, y_val = train_test_split(x_data, y_data)\n",
    "print(np.shape(X_train), np.shape(y_train), \"training data size\")\n",
    "print(np.shape(X_val), np.shape(y_val),\"Validation data size\")\n",
    "#print(X_train[0:9,:])\n",
    "\n",
    "scaler_x = MinMaxScaler()\n",
    "scaler_y = MinMaxScaler()\n",
    "\n",
    "scaler_x.fit(X_train)\n",
    "xtrain_scale=scaler_x.transform(X_train)\n",
    "\n",
    "scaler_x.fit(X_val)\n",
    "xval_scale=scaler_x.transform(X_val)\n",
    "\n",
    "scaler_y.fit(y_train)\n",
    "ytrain_scale=scaler_y.transform(y_train)\n",
    "\n",
    "scaler_y.fit(y_val)\n",
    "yval_scale=scaler_y.transform(y_val)"
   ]
  },
  {
   "cell_type": "code",
   "execution_count": 4,
   "metadata": {},
   "outputs": [
    {
     "name": "stdout",
     "output_type": "stream",
     "text": [
      "Model: \"Rectangular_4by4_sensor_concept_NN\"\n",
      "_________________________________________________________________\n",
      "Layer (type)                 Output Shape              Param #   \n",
      "=================================================================\n",
      "input_1 (InputLayer)         [(None, 48)]              0         \n",
      "_________________________________________________________________\n",
      "dense (Dense)                (None, 700)               34300     \n",
      "_________________________________________________________________\n",
      "dense_1 (Dense)              (None, 700)               490700    \n",
      "_________________________________________________________________\n",
      "dense_2 (Dense)              (None, 7)                 4907      \n",
      "=================================================================\n",
      "Total params: 529,907\n",
      "Trainable params: 529,907\n",
      "Non-trainable params: 0\n",
      "_________________________________________________________________\n"
     ]
    }
   ],
   "source": [
    "from tensorflow.keras.models import Model\n",
    "from tensorflow.keras.layers import Input\n",
    "from tensorflow.keras.layers import Dense\n",
    "from keras.models import Sequential\n",
    "from keras.layers import Dense\n",
    "from numpy import loadtxt\n",
    "from keras.models import load_model\n",
    "from keras.wrappers.scikit_learn import KerasClassifier\n",
    "from keras.constraints import maxnorm\n",
    "\n",
    "\n",
    "input_layer = Input(shape=(48,))\n",
    "hidden_layer_1 = Dense(units = 700, activation = 'relu')(input_layer)\n",
    "hidden_layer_2 = Dense(units = 700, activation = 'relu')(hidden_layer_1)\n",
    "output_layer = Dense(units = 7, activation = 'linear')(hidden_layer_2)\n",
    "model = Model(inputs = input_layer, outputs = output_layer, name = 'Rectangular_4by4_sensor_concept_NN')\n",
    "\n",
    "#for specific values of learning rate\n",
    "#opt = keras.optimizers.Adam(learning_rate=0.0001)\n",
    "\n",
    "model.compile(loss='mse', optimizer=\"adam\", metrics=['accuracy'])\n",
    "#metrics=['accuracy']\n",
    "##Implementing Early stopping\n",
    "\n",
    "my_callbacks = [\n",
    "    tf.keras.callbacks.EarlyStopping(monitor='val_loss',patience=5)]\n",
    "#    tf.keras.callbacks.ModelCheckpoint(filepath='model.{epoch:02d}-{val_loss:.2f}.h5'),\n",
    "#    tf.keras.callbacks.TensorBoard(log_dir='./logs'),\n",
    "#    tf.keras.callbacks.CSVLogger('Points_5_training.log')]\n",
    "# Display the model\n",
    "model.summary()\n"
   ]
  },
  {
   "cell_type": "code",
   "execution_count": 5,
   "metadata": {},
   "outputs": [],
   "source": [
    "#from keras.utils import plot_model\n",
    "#keras.utils.plot_model(model)\n",
    "#plot_model(model, to_file='Model_Architecture_9p.png', dpi=1200, show_shapes=True, show_layer_names=True)"
   ]
  },
  {
   "cell_type": "code",
   "execution_count": 6,
   "metadata": {},
   "outputs": [
    {
     "name": "stdout",
     "output_type": "stream",
     "text": [
      "Epoch 1/20\n",
      "6144/6144 - 27s - loss: 0.0342 - accuracy: 0.5620 - val_loss: 0.0389 - val_accuracy: 0.5762\n",
      "Epoch 2/20\n",
      "6144/6144 - 26s - loss: 0.0188 - accuracy: 0.6632 - val_loss: 0.0459 - val_accuracy: 0.5447\n",
      "Epoch 3/20\n",
      "6144/6144 - 26s - loss: 0.0152 - accuracy: 0.6888 - val_loss: 0.0506 - val_accuracy: 0.5650\n",
      "Epoch 4/20\n",
      "6144/6144 - 26s - loss: 0.0135 - accuracy: 0.7030 - val_loss: 0.0411 - val_accuracy: 0.5730\n",
      "Epoch 5/20\n",
      "6144/6144 - 27s - loss: 0.0122 - accuracy: 0.7124 - val_loss: 0.0445 - val_accuracy: 0.5579\n",
      "Epoch 6/20\n",
      "6144/6144 - 27s - loss: 0.0116 - accuracy: 0.7173 - val_loss: 0.0321 - val_accuracy: 0.5777\n",
      "Epoch 7/20\n",
      "6144/6144 - 27s - loss: 0.0108 - accuracy: 0.7249 - val_loss: 0.0495 - val_accuracy: 0.5487\n",
      "Epoch 8/20\n",
      "6144/6144 - 27s - loss: 0.0105 - accuracy: 0.7249 - val_loss: 0.0447 - val_accuracy: 0.5914\n",
      "Epoch 9/20\n",
      "6144/6144 - 27s - loss: 0.0100 - accuracy: 0.7313 - val_loss: 0.0488 - val_accuracy: 0.5512\n",
      "Epoch 10/20\n",
      "6144/6144 - 29s - loss: 0.0096 - accuracy: 0.7326 - val_loss: 0.0483 - val_accuracy: 0.5693\n",
      "Epoch 11/20\n",
      "6144/6144 - 28s - loss: 0.0094 - accuracy: 0.7338 - val_loss: 0.0425 - val_accuracy: 0.5692\n",
      "Epoch 12/20\n",
      "6144/6144 - 28s - loss: 0.0091 - accuracy: 0.7371 - val_loss: 0.0466 - val_accuracy: 0.5327\n",
      "Epoch 13/20\n",
      "6144/6144 - 27s - loss: 0.0089 - accuracy: 0.7387 - val_loss: 0.0425 - val_accuracy: 0.5672\n",
      "Epoch 14/20\n",
      "6144/6144 - 27s - loss: 0.0086 - accuracy: 0.7400 - val_loss: 0.0562 - val_accuracy: 0.5362\n",
      "Epoch 15/20\n",
      "6144/6144 - 29s - loss: 0.0085 - accuracy: 0.7434 - val_loss: 0.0430 - val_accuracy: 0.5621\n",
      "Epoch 16/20\n",
      "6144/6144 - 27s - loss: 0.0083 - accuracy: 0.7448 - val_loss: 0.0501 - val_accuracy: 0.5444\n",
      "Epoch 17/20\n",
      "6144/6144 - 27s - loss: 0.0080 - accuracy: 0.7467 - val_loss: 0.0495 - val_accuracy: 0.5699\n",
      "Epoch 18/20\n",
      "6144/6144 - 27s - loss: 0.0079 - accuracy: 0.7477 - val_loss: 0.0413 - val_accuracy: 0.5417\n",
      "Epoch 19/20\n",
      "6144/6144 - 27s - loss: 0.0078 - accuracy: 0.7493 - val_loss: 0.0422 - val_accuracy: 0.5457\n",
      "Epoch 20/20\n",
      "6144/6144 - 27s - loss: 0.0077 - accuracy: 0.7513 - val_loss: 0.0480 - val_accuracy: 0.5658\n"
     ]
    }
   ],
   "source": [
    "history_1 = model.fit(xtrain_scale, ytrain_scale, epochs=20, verbose=2, validation_data=(xval_scale,yval_scale))\n",
    "#history_1 = model.fit(xtrain_scale, ytrain_scale, epochs=20, verbose=1, callbacks=my_callbacks, validation_data=(xval_scale,yval_scale))\n"
   ]
  },
  {
   "cell_type": "code",
   "execution_count": 7,
   "metadata": {},
   "outputs": [
    {
     "data": {
      "image/png": "[encoded data removed]",
      "text/plain": [
       "<Figure size 432x288 with 1 Axes>"
      ]
     },
     "metadata": {
      "needs_background": "light"
     },
     "output_type": "display_data"
    }
   ],
   "source": [
    "plt.plot(history_1.history['loss'])\n",
    "plt.plot(history_1.history['val_loss'])\n",
    "plt.title('model loss')\n",
    "plt.ylabel('loss')\n",
    "plt.xlabel('epoch')\n",
    "plt.legend(['Training ', 'Cross-Validation'], loc='upper right')\n",
    "#plt.xlim(0.0,)\n",
    "#plt.ylim(0.0,0.5)\n",
    "plt.xticks(np.arange(0.0, 21, 2))\n",
    "plt.yticks(np.arange(0.0, 0.13, 0.01))\n",
    "plt.savefig('Model_Loss_8p_mse.png', dpi=1200)\n",
    "plt.show()"
   ]
  },
  {
   "cell_type": "code",
   "execution_count": 8,
   "metadata": {},
   "outputs": [
    {
     "data": {
      "image/png": "[encoded data removed]",
      "text/plain": [
       "<Figure size 432x288 with 1 Axes>"
      ]
     },
     "metadata": {
      "needs_background": "light"
     },
     "output_type": "display_data"
    }
   ],
   "source": [
    "plt.plot(history_1.history['accuracy'])\n",
    "plt.plot(history_1.history['val_accuracy'])\n",
    "plt.title('model accuracy')\n",
    "plt.ylabel('accuracy')\n",
    "plt.xlabel('epoch')\n",
    "plt.legend(['Training ', 'Cross-Validation'], loc='lower right')\n",
    "#plt.xlim(0.0,)\n",
    "#plt.ylim(0.0,0.5)\n",
    "plt.xticks(np.arange(0.0, 21, 2))\n",
    "plt.yticks(np.arange(0.0, 1.0, 0.1))\n",
    "plt.savefig('Model_Accuracy_8p_mse.png', dpi=1200)\n",
    "plt.show()"
   ]
  },
  {
   "cell_type": "code",
   "execution_count": null,
   "metadata": {},
   "outputs": [],
   "source": []
  },
  {
   "cell_type": "code",
   "execution_count": null,
   "metadata": {},
   "outputs": [],
   "source": []
  }
 ],
 "metadata": {
  "kernelspec": {
   "display_name": "Python 3",
   "language": "python",
   "name": "python3"
  },
  "language_info": {
   "codemirror_mode": {
    "name": "ipython",
    "version": 3
   },
   "file_extension": ".py",
   "mimetype": "text/x-python",
   "name": "python",
   "nbconvert_exporter": "python",
   "pygments_lexer": "ipython3",
   "version": "3.8.8"
  }
 },
 "nbformat": 4,
 "nbformat_minor": 4
}
