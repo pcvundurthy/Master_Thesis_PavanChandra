{
 "cells": [
  {
   "cell_type": "code",
   "execution_count": 1,
   "metadata": {},
   "outputs": [],
   "source": [
    "import numpy as np\n",
    "import math\n",
    "import matplotlib.pyplot as plt\n",
    "from tensorflow import keras\n",
    "import tensorflow as tf\n",
    "from tensorflow.keras import layers\n",
    "from kerastuner.tuners import RandomSearch\n",
    "import pandas as pd"
   ]
  },
  {
   "cell_type": "code",
   "execution_count": 2,
   "metadata": {},
   "outputs": [
    {
     "ename": "ParserError",
     "evalue": "Error tokenizing data. C error: Expected 49 fields in line 16989, saw 54\n",
     "output_type": "error",
     "traceback": [
      "\u001b[1;31m---------------------------------------------------------------------------\u001b[0m",
      "\u001b[1;31mParserError\u001b[0m                               Traceback (most recent call last)",
      "\u001b[1;32m<ipython-input-2-f4975403e5c5>\u001b[0m in \u001b[0;36m<module>\u001b[1;34m\u001b[0m\n\u001b[0;32m      1\u001b[0m \u001b[1;31m#Reading the Training data (virtually generated) from a file\u001b[0m\u001b[1;33m\u001b[0m\u001b[1;33m\u001b[0m\u001b[1;33m\u001b[0m\u001b[0m\n\u001b[0;32m      2\u001b[0m \u001b[1;31m#Input data\u001b[0m\u001b[1;33m\u001b[0m\u001b[1;33m\u001b[0m\u001b[1;33m\u001b[0m\u001b[0m\n\u001b[1;32m----> 3\u001b[1;33m \u001b[0mx_data\u001b[0m \u001b[1;33m=\u001b[0m \u001b[0mpd\u001b[0m\u001b[1;33m.\u001b[0m\u001b[0mread_csv\u001b[0m\u001b[1;33m(\u001b[0m\u001b[1;34m'x_data_9.csv'\u001b[0m\u001b[1;33m)\u001b[0m\u001b[1;33m\u001b[0m\u001b[1;33m\u001b[0m\u001b[0m\n\u001b[0m\u001b[0;32m      4\u001b[0m \u001b[0mx_data\u001b[0m\u001b[1;33m=\u001b[0m\u001b[0mx_data\u001b[0m\u001b[1;33m.\u001b[0m\u001b[0mvalues\u001b[0m\u001b[1;33m[\u001b[0m\u001b[1;33m:\u001b[0m\u001b[1;33m,\u001b[0m\u001b[1;36m1\u001b[0m\u001b[1;33m:\u001b[0m\u001b[1;33m]\u001b[0m\u001b[1;33m\u001b[0m\u001b[1;33m\u001b[0m\u001b[0m\n\u001b[0;32m      5\u001b[0m \u001b[0mprint\u001b[0m\u001b[1;33m(\u001b[0m\u001b[1;34m\"read_x_data\"\u001b[0m\u001b[1;33m)\u001b[0m\u001b[1;33m\u001b[0m\u001b[1;33m\u001b[0m\u001b[0m\n",
      "\u001b[1;32m~\\anaconda3\\lib\\site-packages\\pandas\\io\\parsers.py\u001b[0m in \u001b[0;36mread_csv\u001b[1;34m(filepath_or_buffer, sep, delimiter, header, names, index_col, usecols, squeeze, prefix, mangle_dupe_cols, dtype, engine, converters, true_values, false_values, skipinitialspace, skiprows, skipfooter, nrows, na_values, keep_default_na, na_filter, verbose, skip_blank_lines, parse_dates, infer_datetime_format, keep_date_col, date_parser, dayfirst, cache_dates, iterator, chunksize, compression, thousands, decimal, lineterminator, quotechar, quoting, doublequote, escapechar, comment, encoding, dialect, error_bad_lines, warn_bad_lines, delim_whitespace, low_memory, memory_map, float_precision, storage_options)\u001b[0m\n\u001b[0;32m    608\u001b[0m     \u001b[0mkwds\u001b[0m\u001b[1;33m.\u001b[0m\u001b[0mupdate\u001b[0m\u001b[1;33m(\u001b[0m\u001b[0mkwds_defaults\u001b[0m\u001b[1;33m)\u001b[0m\u001b[1;33m\u001b[0m\u001b[1;33m\u001b[0m\u001b[0m\n\u001b[0;32m    609\u001b[0m \u001b[1;33m\u001b[0m\u001b[0m\n\u001b[1;32m--> 610\u001b[1;33m     \u001b[1;32mreturn\u001b[0m \u001b[0m_read\u001b[0m\u001b[1;33m(\u001b[0m\u001b[0mfilepath_or_buffer\u001b[0m\u001b[1;33m,\u001b[0m \u001b[0mkwds\u001b[0m\u001b[1;33m)\u001b[0m\u001b[1;33m\u001b[0m\u001b[1;33m\u001b[0m\u001b[0m\n\u001b[0m\u001b[0;32m    611\u001b[0m \u001b[1;33m\u001b[0m\u001b[0m\n\u001b[0;32m    612\u001b[0m \u001b[1;33m\u001b[0m\u001b[0m\n",
      "\u001b[1;32m~\\anaconda3\\lib\\site-packages\\pandas\\io\\parsers.py\u001b[0m in \u001b[0;36m_read\u001b[1;34m(filepath_or_buffer, kwds)\u001b[0m\n\u001b[0;32m    466\u001b[0m \u001b[1;33m\u001b[0m\u001b[0m\n\u001b[0;32m    467\u001b[0m     \u001b[1;32mwith\u001b[0m \u001b[0mparser\u001b[0m\u001b[1;33m:\u001b[0m\u001b[1;33m\u001b[0m\u001b[1;33m\u001b[0m\u001b[0m\n\u001b[1;32m--> 468\u001b[1;33m         \u001b[1;32mreturn\u001b[0m \u001b[0mparser\u001b[0m\u001b[1;33m.\u001b[0m\u001b[0mread\u001b[0m\u001b[1;33m(\u001b[0m\u001b[0mnrows\u001b[0m\u001b[1;33m)\u001b[0m\u001b[1;33m\u001b[0m\u001b[1;33m\u001b[0m\u001b[0m\n\u001b[0m\u001b[0;32m    469\u001b[0m \u001b[1;33m\u001b[0m\u001b[0m\n\u001b[0;32m    470\u001b[0m \u001b[1;33m\u001b[0m\u001b[0m\n",
      "\u001b[1;32m~\\anaconda3\\lib\\site-packages\\pandas\\io\\parsers.py\u001b[0m in \u001b[0;36mread\u001b[1;34m(self, nrows)\u001b[0m\n\u001b[0;32m   1055\u001b[0m     \u001b[1;32mdef\u001b[0m \u001b[0mread\u001b[0m\u001b[1;33m(\u001b[0m\u001b[0mself\u001b[0m\u001b[1;33m,\u001b[0m \u001b[0mnrows\u001b[0m\u001b[1;33m=\u001b[0m\u001b[1;32mNone\u001b[0m\u001b[1;33m)\u001b[0m\u001b[1;33m:\u001b[0m\u001b[1;33m\u001b[0m\u001b[1;33m\u001b[0m\u001b[0m\n\u001b[0;32m   1056\u001b[0m         \u001b[0mnrows\u001b[0m \u001b[1;33m=\u001b[0m \u001b[0mvalidate_integer\u001b[0m\u001b[1;33m(\u001b[0m\u001b[1;34m\"nrows\"\u001b[0m\u001b[1;33m,\u001b[0m \u001b[0mnrows\u001b[0m\u001b[1;33m)\u001b[0m\u001b[1;33m\u001b[0m\u001b[1;33m\u001b[0m\u001b[0m\n\u001b[1;32m-> 1057\u001b[1;33m         \u001b[0mindex\u001b[0m\u001b[1;33m,\u001b[0m \u001b[0mcolumns\u001b[0m\u001b[1;33m,\u001b[0m \u001b[0mcol_dict\u001b[0m \u001b[1;33m=\u001b[0m \u001b[0mself\u001b[0m\u001b[1;33m.\u001b[0m\u001b[0m_engine\u001b[0m\u001b[1;33m.\u001b[0m\u001b[0mread\u001b[0m\u001b[1;33m(\u001b[0m\u001b[0mnrows\u001b[0m\u001b[1;33m)\u001b[0m\u001b[1;33m\u001b[0m\u001b[1;33m\u001b[0m\u001b[0m\n\u001b[0m\u001b[0;32m   1058\u001b[0m \u001b[1;33m\u001b[0m\u001b[0m\n\u001b[0;32m   1059\u001b[0m         \u001b[1;32mif\u001b[0m \u001b[0mindex\u001b[0m \u001b[1;32mis\u001b[0m \u001b[1;32mNone\u001b[0m\u001b[1;33m:\u001b[0m\u001b[1;33m\u001b[0m\u001b[1;33m\u001b[0m\u001b[0m\n",
      "\u001b[1;32m~\\anaconda3\\lib\\site-packages\\pandas\\io\\parsers.py\u001b[0m in \u001b[0;36mread\u001b[1;34m(self, nrows)\u001b[0m\n\u001b[0;32m   2059\u001b[0m     \u001b[1;32mdef\u001b[0m \u001b[0mread\u001b[0m\u001b[1;33m(\u001b[0m\u001b[0mself\u001b[0m\u001b[1;33m,\u001b[0m \u001b[0mnrows\u001b[0m\u001b[1;33m=\u001b[0m\u001b[1;32mNone\u001b[0m\u001b[1;33m)\u001b[0m\u001b[1;33m:\u001b[0m\u001b[1;33m\u001b[0m\u001b[1;33m\u001b[0m\u001b[0m\n\u001b[0;32m   2060\u001b[0m         \u001b[1;32mtry\u001b[0m\u001b[1;33m:\u001b[0m\u001b[1;33m\u001b[0m\u001b[1;33m\u001b[0m\u001b[0m\n\u001b[1;32m-> 2061\u001b[1;33m             \u001b[0mdata\u001b[0m \u001b[1;33m=\u001b[0m \u001b[0mself\u001b[0m\u001b[1;33m.\u001b[0m\u001b[0m_reader\u001b[0m\u001b[1;33m.\u001b[0m\u001b[0mread\u001b[0m\u001b[1;33m(\u001b[0m\u001b[0mnrows\u001b[0m\u001b[1;33m)\u001b[0m\u001b[1;33m\u001b[0m\u001b[1;33m\u001b[0m\u001b[0m\n\u001b[0m\u001b[0;32m   2062\u001b[0m         \u001b[1;32mexcept\u001b[0m \u001b[0mStopIteration\u001b[0m\u001b[1;33m:\u001b[0m\u001b[1;33m\u001b[0m\u001b[1;33m\u001b[0m\u001b[0m\n\u001b[0;32m   2063\u001b[0m             \u001b[1;32mif\u001b[0m \u001b[0mself\u001b[0m\u001b[1;33m.\u001b[0m\u001b[0m_first_chunk\u001b[0m\u001b[1;33m:\u001b[0m\u001b[1;33m\u001b[0m\u001b[1;33m\u001b[0m\u001b[0m\n",
      "\u001b[1;32mpandas\\_libs\\parsers.pyx\u001b[0m in \u001b[0;36mpandas._libs.parsers.TextReader.read\u001b[1;34m()\u001b[0m\n",
      "\u001b[1;32mpandas\\_libs\\parsers.pyx\u001b[0m in \u001b[0;36mpandas._libs.parsers.TextReader._read_low_memory\u001b[1;34m()\u001b[0m\n",
      "\u001b[1;32mpandas\\_libs\\parsers.pyx\u001b[0m in \u001b[0;36mpandas._libs.parsers.TextReader._read_rows\u001b[1;34m()\u001b[0m\n",
      "\u001b[1;32mpandas\\_libs\\parsers.pyx\u001b[0m in \u001b[0;36mpandas._libs.parsers.TextReader._tokenize_rows\u001b[1;34m()\u001b[0m\n",
      "\u001b[1;32mpandas\\_libs\\parsers.pyx\u001b[0m in \u001b[0;36mpandas._libs.parsers.raise_parser_error\u001b[1;34m()\u001b[0m\n",
      "\u001b[1;31mParserError\u001b[0m: Error tokenizing data. C error: Expected 49 fields in line 16989, saw 54\n"
     ]
    }
   ],
   "source": [
    "#Reading the Training data (virtually generated) from a file \n",
    "#Input data\n",
    "x_data = pd.read_csv('x_data_9.csv')\n",
    "x_data=x_data.values[:,1:]\n",
    "print(\"read_x_data\")\n",
    "#Output data\n",
    "y_data = pd.read_csv('y_data_9.csv')\n",
    "y_data=y_data.values[:,1:]\n",
    "print(\"read_y_data\")\n",
    "print(x_data[:2,:])\n",
    "print(y_data[:2,:])"
   ]
  },
  {
   "cell_type": "code",
   "execution_count": null,
   "metadata": {},
   "outputs": [],
   "source": [
    "from sklearn.preprocessing import MinMaxScaler\n",
    "from sklearn.model_selection import train_test_split\n",
    "\n",
    "X_train, X_val, y_train, y_val = train_test_split(x_data, y_data)\n",
    "print(np.shape(X_train), np.shape(y_train), \"training data size\")\n",
    "print(np.shape(X_val), np.shape(y_val),\"Validation data size\")\n",
    "#print(X_train[0:9,:])\n",
    "\n",
    "scaler_x = MinMaxScaler()\n",
    "scaler_y = MinMaxScaler()\n",
    "\n",
    "scaler_x.fit(X_train)\n",
    "xtrain_scale=scaler_x.transform(X_train)\n",
    "\n",
    "scaler_x.fit(X_val)\n",
    "xval_scale=scaler_x.transform(X_val)\n",
    "\n",
    "scaler_y.fit(y_train)\n",
    "ytrain_scale=scaler_y.transform(y_train)\n",
    "\n",
    "scaler_y.fit(y_val)\n",
    "yval_scale=scaler_y.transform(y_val)"
   ]
  },
  {
   "cell_type": "code",
   "execution_count": null,
   "metadata": {},
   "outputs": [],
   "source": [
    "from tensorflow.keras.models import Model\n",
    "from tensorflow.keras.layers import Input\n",
    "from tensorflow.keras.layers import Dense\n",
    "from keras.models import Sequential\n",
    "from keras.layers import Dense\n",
    "from numpy import loadtxt\n",
    "from keras.models import load_model\n",
    "\n",
    "\n",
    "input_layer = Input(shape=(48,))\n",
    "hidden_layer_1 = Dense(units = 700, activation = 'relu')(input_layer)\n",
    "hidden_layer_2 = Dense(units = 700, activation = 'relu')(hidden_layer_1)\n",
    "output_layer = Dense(units = 7, activation = 'linear')(hidden_layer_2)\n",
    "model = Model(inputs = input_layer, outputs = output_layer, name = 'sensor_concept_nn')\n",
    "\n",
    "model.compile(loss='mse', optimizer=\"adam\", metrics=['mean_absolute_error'])\n",
    "\n",
    "\n",
    "# define the keras model\n",
    "'''model = Sequential()\n",
    "model.add(Dense(500, input_dim=48, activation='relu'))\n",
    "model.add(Dense(400, activation='relu'))\n",
    "model.add(Dense(7, activation='linear'))\n",
    "\n",
    "##Implementing Early stopping\n",
    "#my_callbacks = [\n",
    "#    tf.keras.callbacks.EarlyStopping(monitor='val_loss',patience=5),\n",
    "#    tf.keras.callbacks.ModelCheckpoint(filepath='model.{epoch:02d}-{val_loss:.2f}.h5'),\n",
    "#    tf.keras.callbacks.TensorBoard(log_dir='./logs'),\n",
    "#    tf.keras.callbacks.CSVLogger('Points_5_training.log')]\n",
    "\n",
    "\n",
    "#for specific values of learning rate\n",
    "#opt = keras.optimizers.Adam(learning_rate=0.0001)\n",
    "\n",
    "#compiling module\n",
    "model.compile(loss='mean_absolute_error', optimizer='adam', metrics=['accuracy'])'''\n",
    "\n",
    "# Display the model\n",
    "model.summary()"
   ]
  },
  {
   "cell_type": "code",
   "execution_count": 15,
   "metadata": {},
   "outputs": [
    {
     "name": "stdout",
     "output_type": "stream",
     "text": [
      "Epoch 1/150\n",
      "367/367 [==============================] - 2s 5ms/step - loss: 0.1061 - mean_absolute_error: 0.2634 - val_loss: 0.0816 - val_mean_absolute_error: 0.2211\n",
      "Epoch 2/150\n",
      "367/367 [==============================] - 2s 5ms/step - loss: 0.0694 - mean_absolute_error: 0.2012 - val_loss: 0.0697 - val_mean_absolute_error: 0.2081\n",
      "Epoch 3/150\n",
      "367/367 [==============================] - 2s 4ms/step - loss: 0.0612 - mean_absolute_error: 0.1862 - val_loss: 0.0553 - val_mean_absolute_error: 0.1762\n",
      "Epoch 4/150\n",
      "367/367 [==============================] - 2s 4ms/step - loss: 0.0554 - mean_absolute_error: 0.1749 - val_loss: 0.0598 - val_mean_absolute_error: 0.1853\n",
      "Epoch 5/150\n",
      "367/367 [==============================] - 2s 5ms/step - loss: 0.0501 - mean_absolute_error: 0.1649 - val_loss: 0.0539 - val_mean_absolute_error: 0.1706\n",
      "Epoch 6/150\n",
      "367/367 [==============================] - 2s 4ms/step - loss: 0.0454 - mean_absolute_error: 0.1539 - val_loss: 0.0543 - val_mean_absolute_error: 0.1722\n",
      "Epoch 7/150\n",
      "367/367 [==============================] - 2s 5ms/step - loss: 0.0414 - mean_absolute_error: 0.1455 - val_loss: 0.0510 - val_mean_absolute_error: 0.1630\n",
      "Epoch 8/150\n",
      "367/367 [==============================] - 2s 4ms/step - loss: 0.0383 - mean_absolute_error: 0.1387 - val_loss: 0.0613 - val_mean_absolute_error: 0.1804\n",
      "Epoch 9/150\n",
      "367/367 [==============================] - 2s 4ms/step - loss: 0.0375 - mean_absolute_error: 0.1367 - val_loss: 0.0476 - val_mean_absolute_error: 0.1572\n",
      "Epoch 10/150\n",
      "367/367 [==============================] - 2s 4ms/step - loss: 0.0359 - mean_absolute_error: 0.1329 - val_loss: 0.0711 - val_mean_absolute_error: 0.1945\n",
      "Epoch 11/150\n",
      "367/367 [==============================] - 2s 4ms/step - loss: 0.0355 - mean_absolute_error: 0.1319 - val_loss: 0.0573 - val_mean_absolute_error: 0.1757\n",
      "Epoch 12/150\n",
      "367/367 [==============================] - 2s 4ms/step - loss: 0.0318 - mean_absolute_error: 0.1224 - val_loss: 0.0685 - val_mean_absolute_error: 0.1864\n",
      "Epoch 13/150\n",
      "367/367 [==============================] - 2s 4ms/step - loss: 0.0297 - mean_absolute_error: 0.1184 - val_loss: 0.0712 - val_mean_absolute_error: 0.1855\n",
      "Epoch 14/150\n",
      "367/367 [==============================] - 2s 5ms/step - loss: 0.0293 - mean_absolute_error: 0.1179 - val_loss: 0.0821 - val_mean_absolute_error: 0.2020\n",
      "Epoch 15/150\n",
      "367/367 [==============================] - 2s 5ms/step - loss: 0.0282 - mean_absolute_error: 0.1140 - val_loss: 0.0699 - val_mean_absolute_error: 0.1821\n",
      "Epoch 16/150\n",
      "367/367 [==============================] - 2s 5ms/step - loss: 0.0257 - mean_absolute_error: 0.1075 - val_loss: 0.0710 - val_mean_absolute_error: 0.1876\n",
      "Epoch 17/150\n",
      "367/367 [==============================] - 2s 4ms/step - loss: 0.0264 - mean_absolute_error: 0.1109 - val_loss: 0.0699 - val_mean_absolute_error: 0.1835\n",
      "Epoch 18/150\n",
      "367/367 [==============================] - 2s 5ms/step - loss: 0.0263 - mean_absolute_error: 0.1102 - val_loss: 0.0741 - val_mean_absolute_error: 0.1876\n",
      "Epoch 19/150\n",
      "367/367 [==============================] - 2s 5ms/step - loss: 0.0256 - mean_absolute_error: 0.1081 - val_loss: 0.0734 - val_mean_absolute_error: 0.1907\n",
      "Epoch 20/150\n",
      "367/367 [==============================] - 2s 5ms/step - loss: 0.0235 - mean_absolute_error: 0.1029 - val_loss: 0.0984 - val_mean_absolute_error: 0.2165\n",
      "Epoch 21/150\n",
      "367/367 [==============================] - 2s 5ms/step - loss: 0.0240 - mean_absolute_error: 0.1040 - val_loss: 0.0712 - val_mean_absolute_error: 0.1864\n",
      "Epoch 22/150\n",
      "367/367 [==============================] - 2s 5ms/step - loss: 0.0229 - mean_absolute_error: 0.1007 - val_loss: 0.0935 - val_mean_absolute_error: 0.2188\n",
      "Epoch 23/150\n",
      "367/367 [==============================] - 2s 5ms/step - loss: 0.0237 - mean_absolute_error: 0.1034 - val_loss: 0.0871 - val_mean_absolute_error: 0.2057\n",
      "Epoch 24/150\n",
      "367/367 [==============================] - 2s 5ms/step - loss: 0.0228 - mean_absolute_error: 0.1001 - val_loss: 0.0910 - val_mean_absolute_error: 0.2068\n",
      "Epoch 25/150\n",
      "367/367 [==============================] - 2s 4ms/step - loss: 0.0211 - mean_absolute_error: 0.0958 - val_loss: 0.0760 - val_mean_absolute_error: 0.1876\n",
      "Epoch 26/150\n",
      "367/367 [==============================] - 2s 4ms/step - loss: 0.0216 - mean_absolute_error: 0.0983 - val_loss: 0.0919 - val_mean_absolute_error: 0.2087\n",
      "Epoch 27/150\n",
      "367/367 [==============================] - 2s 4ms/step - loss: 0.0196 - mean_absolute_error: 0.0915 - val_loss: 0.0896 - val_mean_absolute_error: 0.2037\n",
      "Epoch 28/150\n",
      "367/367 [==============================] - 2s 4ms/step - loss: 0.0196 - mean_absolute_error: 0.0919 - val_loss: 0.0829 - val_mean_absolute_error: 0.1951\n",
      "Epoch 29/150\n",
      "367/367 [==============================] - 2s 4ms/step - loss: 0.0203 - mean_absolute_error: 0.0941 - val_loss: 0.0820 - val_mean_absolute_error: 0.2009\n",
      "Epoch 30/150\n",
      "367/367 [==============================] - 2s 4ms/step - loss: 0.0199 - mean_absolute_error: 0.0934 - val_loss: 0.0910 - val_mean_absolute_error: 0.2066\n",
      "Epoch 31/150\n",
      "367/367 [==============================] - 2s 4ms/step - loss: 0.0197 - mean_absolute_error: 0.0921 - val_loss: 0.0797 - val_mean_absolute_error: 0.1983\n",
      "Epoch 32/150\n",
      "367/367 [==============================] - 2s 4ms/step - loss: 0.0189 - mean_absolute_error: 0.0901 - val_loss: 0.0858 - val_mean_absolute_error: 0.2016\n",
      "Epoch 33/150\n",
      "367/367 [==============================] - 2s 5ms/step - loss: 0.0188 - mean_absolute_error: 0.0908 - val_loss: 0.0918 - val_mean_absolute_error: 0.2102\n",
      "Epoch 34/150\n",
      "367/367 [==============================] - 2s 4ms/step - loss: 0.0169 - mean_absolute_error: 0.0840 - val_loss: 0.0940 - val_mean_absolute_error: 0.2100\n",
      "Epoch 35/150\n",
      "367/367 [==============================] - 2s 4ms/step - loss: 0.0177 - mean_absolute_error: 0.0868 - val_loss: 0.0947 - val_mean_absolute_error: 0.2083\n",
      "Epoch 36/150\n",
      "367/367 [==============================] - 2s 4ms/step - loss: 0.0174 - mean_absolute_error: 0.0861 - val_loss: 0.0843 - val_mean_absolute_error: 0.1968\n",
      "Epoch 37/150\n",
      "367/367 [==============================] - 2s 4ms/step - loss: 0.0164 - mean_absolute_error: 0.0830 - val_loss: 0.0804 - val_mean_absolute_error: 0.1921\n",
      "Epoch 38/150\n",
      "367/367 [==============================] - 2s 4ms/step - loss: 0.0180 - mean_absolute_error: 0.0881 - val_loss: 0.0865 - val_mean_absolute_error: 0.1969\n",
      "Epoch 39/150\n",
      "367/367 [==============================] - 2s 4ms/step - loss: 0.0171 - mean_absolute_error: 0.0849 - val_loss: 0.0871 - val_mean_absolute_error: 0.1998\n",
      "Epoch 40/150\n",
      "367/367 [==============================] - 2s 4ms/step - loss: 0.0171 - mean_absolute_error: 0.0854 - val_loss: 0.0906 - val_mean_absolute_error: 0.2045\n",
      "Epoch 41/150\n",
      "367/367 [==============================] - 2s 4ms/step - loss: 0.0170 - mean_absolute_error: 0.0851 - val_loss: 0.0816 - val_mean_absolute_error: 0.1969\n",
      "Epoch 42/150\n",
      "367/367 [==============================] - 2s 5ms/step - loss: 0.0163 - mean_absolute_error: 0.0826 - val_loss: 0.0964 - val_mean_absolute_error: 0.2089\n",
      "Epoch 43/150\n",
      "367/367 [==============================] - 2s 5ms/step - loss: 0.0162 - mean_absolute_error: 0.0834 - val_loss: 0.0901 - val_mean_absolute_error: 0.2005\n",
      "Epoch 44/150\n",
      "367/367 [==============================] - 2s 5ms/step - loss: 0.0160 - mean_absolute_error: 0.0817 - val_loss: 0.0997 - val_mean_absolute_error: 0.2157\n",
      "Epoch 45/150\n",
      "367/367 [==============================] - 2s 4ms/step - loss: 0.0153 - mean_absolute_error: 0.0805 - val_loss: 0.0936 - val_mean_absolute_error: 0.2105\n",
      "Epoch 46/150\n",
      "367/367 [==============================] - 2s 4ms/step - loss: 0.0160 - mean_absolute_error: 0.0819 - val_loss: 0.0825 - val_mean_absolute_error: 0.1918\n",
      "Epoch 47/150\n",
      "367/367 [==============================] - 2s 4ms/step - loss: 0.0148 - mean_absolute_error: 0.0781 - val_loss: 0.0817 - val_mean_absolute_error: 0.1920\n",
      "Epoch 48/150\n",
      "367/367 [==============================] - 2s 4ms/step - loss: 0.0167 - mean_absolute_error: 0.0844 - val_loss: 0.0923 - val_mean_absolute_error: 0.2061\n",
      "Epoch 49/150\n",
      "367/367 [==============================] - 2s 4ms/step - loss: 0.0178 - mean_absolute_error: 0.0880 - val_loss: 0.0788 - val_mean_absolute_error: 0.1899\n",
      "Epoch 50/150\n",
      "367/367 [==============================] - 1s 4ms/step - loss: 0.0146 - mean_absolute_error: 0.0766 - val_loss: 0.1098 - val_mean_absolute_error: 0.2279\n",
      "Epoch 51/150\n",
      "367/367 [==============================] - 2s 4ms/step - loss: 0.0149 - mean_absolute_error: 0.0784 - val_loss: 0.1074 - val_mean_absolute_error: 0.2221\n",
      "Epoch 52/150\n",
      "367/367 [==============================] - 2s 4ms/step - loss: 0.0143 - mean_absolute_error: 0.0769 - val_loss: 0.0892 - val_mean_absolute_error: 0.1982\n",
      "Epoch 53/150\n",
      "367/367 [==============================] - 2s 4ms/step - loss: 0.0152 - mean_absolute_error: 0.0793 - val_loss: 0.0972 - val_mean_absolute_error: 0.2084\n",
      "Epoch 54/150\n",
      "367/367 [==============================] - 2s 4ms/step - loss: 0.0149 - mean_absolute_error: 0.0784 - val_loss: 0.0731 - val_mean_absolute_error: 0.1811\n",
      "Epoch 55/150\n",
      "367/367 [==============================] - 2s 5ms/step - loss: 0.0153 - mean_absolute_error: 0.0807 - val_loss: 0.1047 - val_mean_absolute_error: 0.2200\n",
      "Epoch 56/150\n",
      "367/367 [==============================] - 2s 5ms/step - loss: 0.0144 - mean_absolute_error: 0.0766 - val_loss: 0.1042 - val_mean_absolute_error: 0.2162\n",
      "Epoch 57/150\n",
      "367/367 [==============================] - 2s 5ms/step - loss: 0.0152 - mean_absolute_error: 0.0798 - val_loss: 0.0981 - val_mean_absolute_error: 0.2138\n",
      "Epoch 58/150\n",
      "367/367 [==============================] - 2s 6ms/step - loss: 0.0146 - mean_absolute_error: 0.0778 - val_loss: 0.1023 - val_mean_absolute_error: 0.2149\n",
      "Epoch 59/150\n",
      "367/367 [==============================] - 2s 5ms/step - loss: 0.0139 - mean_absolute_error: 0.0754 - val_loss: 0.0912 - val_mean_absolute_error: 0.2048\n",
      "Epoch 60/150\n",
      "367/367 [==============================] - 1s 4ms/step - loss: 0.0133 - mean_absolute_error: 0.0738 - val_loss: 0.1040 - val_mean_absolute_error: 0.2199\n",
      "Epoch 61/150\n",
      "367/367 [==============================] - 2s 4ms/step - loss: 0.0132 - mean_absolute_error: 0.0731 - val_loss: 0.0993 - val_mean_absolute_error: 0.2131\n",
      "Epoch 62/150\n",
      "367/367 [==============================] - 2s 5ms/step - loss: 0.0127 - mean_absolute_error: 0.0710 - val_loss: 0.0996 - val_mean_absolute_error: 0.2079\n",
      "Epoch 63/150\n",
      "367/367 [==============================] - 2s 4ms/step - loss: 0.0131 - mean_absolute_error: 0.0727 - val_loss: 0.0987 - val_mean_absolute_error: 0.2120\n",
      "Epoch 64/150\n",
      "367/367 [==============================] - 2s 4ms/step - loss: 0.0143 - mean_absolute_error: 0.0778 - val_loss: 0.1006 - val_mean_absolute_error: 0.2172\n",
      "Epoch 65/150\n",
      "367/367 [==============================] - 2s 4ms/step - loss: 0.0159 - mean_absolute_error: 0.0815 - val_loss: 0.1011 - val_mean_absolute_error: 0.2135\n",
      "Epoch 66/150\n",
      "367/367 [==============================] - 2s 5ms/step - loss: 0.0130 - mean_absolute_error: 0.0720 - val_loss: 0.1036 - val_mean_absolute_error: 0.2219\n",
      "Epoch 67/150\n",
      "367/367 [==============================] - 2s 5ms/step - loss: 0.0140 - mean_absolute_error: 0.0759 - val_loss: 0.1050 - val_mean_absolute_error: 0.2169\n",
      "Epoch 68/150\n",
      "367/367 [==============================] - 2s 4ms/step - loss: 0.0131 - mean_absolute_error: 0.0734 - val_loss: 0.1085 - val_mean_absolute_error: 0.2254\n",
      "Epoch 69/150\n",
      "367/367 [==============================] - 2s 4ms/step - loss: 0.0135 - mean_absolute_error: 0.0748 - val_loss: 0.1044 - val_mean_absolute_error: 0.2210\n",
      "Epoch 70/150\n",
      "367/367 [==============================] - 1s 4ms/step - loss: 0.0131 - mean_absolute_error: 0.0732 - val_loss: 0.0951 - val_mean_absolute_error: 0.2081\n",
      "Epoch 71/150\n",
      "367/367 [==============================] - 2s 5ms/step - loss: 0.0119 - mean_absolute_error: 0.0688 - val_loss: 0.1067 - val_mean_absolute_error: 0.2251\n",
      "Epoch 72/150\n",
      "367/367 [==============================] - 2s 6ms/step - loss: 0.0123 - mean_absolute_error: 0.0709 - val_loss: 0.0918 - val_mean_absolute_error: 0.2046\n",
      "Epoch 73/150\n",
      "367/367 [==============================] - 2s 5ms/step - loss: 0.0126 - mean_absolute_error: 0.0715 - val_loss: 0.0933 - val_mean_absolute_error: 0.2056\n",
      "Epoch 74/150\n",
      "367/367 [==============================] - 2s 4ms/step - loss: 0.0137 - mean_absolute_error: 0.0744 - val_loss: 0.0935 - val_mean_absolute_error: 0.2070\n",
      "Epoch 75/150\n",
      "367/367 [==============================] - 2s 5ms/step - loss: 0.0118 - mean_absolute_error: 0.0682 - val_loss: 0.1044 - val_mean_absolute_error: 0.2190\n",
      "Epoch 76/150\n",
      "367/367 [==============================] - 2s 4ms/step - loss: 0.0136 - mean_absolute_error: 0.0757 - val_loss: 0.0980 - val_mean_absolute_error: 0.2126\n",
      "Epoch 77/150\n",
      "367/367 [==============================] - 2s 5ms/step - loss: 0.0134 - mean_absolute_error: 0.0740 - val_loss: 0.0906 - val_mean_absolute_error: 0.2049\n",
      "Epoch 78/150\n",
      "367/367 [==============================] - 2s 5ms/step - loss: 0.0122 - mean_absolute_error: 0.0698 - val_loss: 0.1027 - val_mean_absolute_error: 0.2168\n",
      "Epoch 79/150\n",
      "367/367 [==============================] - 2s 4ms/step - loss: 0.0118 - mean_absolute_error: 0.0681 - val_loss: 0.1052 - val_mean_absolute_error: 0.2184\n",
      "Epoch 80/150\n",
      "367/367 [==============================] - 1s 4ms/step - loss: 0.0134 - mean_absolute_error: 0.0730 - val_loss: 0.0939 - val_mean_absolute_error: 0.2068\n",
      "Epoch 81/150\n",
      "367/367 [==============================] - 2s 5ms/step - loss: 0.0129 - mean_absolute_error: 0.0722 - val_loss: 0.1068 - val_mean_absolute_error: 0.2216\n",
      "Epoch 82/150\n",
      "367/367 [==============================] - 2s 5ms/step - loss: 0.0122 - mean_absolute_error: 0.0696 - val_loss: 0.0885 - val_mean_absolute_error: 0.2019\n",
      "Epoch 83/150\n",
      "367/367 [==============================] - 2s 6ms/step - loss: 0.0123 - mean_absolute_error: 0.0706 - val_loss: 0.0912 - val_mean_absolute_error: 0.2025\n",
      "Epoch 84/150\n",
      "367/367 [==============================] - 1s 4ms/step - loss: 0.0124 - mean_absolute_error: 0.0693 - val_loss: 0.1025 - val_mean_absolute_error: 0.2158\n",
      "Epoch 85/150\n",
      "367/367 [==============================] - 1s 4ms/step - loss: 0.0115 - mean_absolute_error: 0.0672 - val_loss: 0.0981 - val_mean_absolute_error: 0.2129\n",
      "Epoch 86/150\n",
      "367/367 [==============================] - 1s 4ms/step - loss: 0.0111 - mean_absolute_error: 0.0663 - val_loss: 0.0939 - val_mean_absolute_error: 0.2034\n",
      "Epoch 87/150\n",
      "367/367 [==============================] - 1s 4ms/step - loss: 0.0120 - mean_absolute_error: 0.0692 - val_loss: 0.0928 - val_mean_absolute_error: 0.2031\n",
      "Epoch 88/150\n",
      "367/367 [==============================] - 2s 4ms/step - loss: 0.0113 - mean_absolute_error: 0.0668 - val_loss: 0.1090 - val_mean_absolute_error: 0.2239\n",
      "Epoch 89/150\n",
      "367/367 [==============================] - 1s 4ms/step - loss: 0.0116 - mean_absolute_error: 0.0676 - val_loss: 0.1054 - val_mean_absolute_error: 0.2193\n",
      "Epoch 90/150\n",
      "367/367 [==============================] - 2s 5ms/step - loss: 0.0113 - mean_absolute_error: 0.0675 - val_loss: 0.0975 - val_mean_absolute_error: 0.2097\n",
      "Epoch 91/150\n",
      "367/367 [==============================] - 2s 4ms/step - loss: 0.0122 - mean_absolute_error: 0.0700 - val_loss: 0.1012 - val_mean_absolute_error: 0.2150\n",
      "Epoch 92/150\n",
      "367/367 [==============================] - 1s 4ms/step - loss: 0.0124 - mean_absolute_error: 0.0706 - val_loss: 0.1050 - val_mean_absolute_error: 0.2254\n",
      "Epoch 93/150\n",
      "367/367 [==============================] - 1s 4ms/step - loss: 0.0136 - mean_absolute_error: 0.0746 - val_loss: 0.0931 - val_mean_absolute_error: 0.2046\n",
      "Epoch 94/150\n",
      "367/367 [==============================] - 2s 4ms/step - loss: 0.0108 - mean_absolute_error: 0.0650 - val_loss: 0.0952 - val_mean_absolute_error: 0.2120\n",
      "Epoch 95/150\n",
      "367/367 [==============================] - 2s 4ms/step - loss: 0.0116 - mean_absolute_error: 0.0676 - val_loss: 0.0989 - val_mean_absolute_error: 0.2123\n",
      "Epoch 96/150\n",
      "367/367 [==============================] - 2s 4ms/step - loss: 0.0111 - mean_absolute_error: 0.0661 - val_loss: 0.0911 - val_mean_absolute_error: 0.1995\n",
      "Epoch 97/150\n",
      "367/367 [==============================] - 2s 5ms/step - loss: 0.0114 - mean_absolute_error: 0.0669 - val_loss: 0.0984 - val_mean_absolute_error: 0.2107\n",
      "Epoch 98/150\n",
      "367/367 [==============================] - 1s 4ms/step - loss: 0.0113 - mean_absolute_error: 0.0667 - val_loss: 0.1016 - val_mean_absolute_error: 0.2151\n",
      "Epoch 99/150\n"
     ]
    },
    {
     "name": "stdout",
     "output_type": "stream",
     "text": [
      "367/367 [==============================] - 2s 5ms/step - loss: 0.0127 - mean_absolute_error: 0.0708 - val_loss: 0.0998 - val_mean_absolute_error: 0.2111\n",
      "Epoch 100/150\n",
      "367/367 [==============================] - 2s 5ms/step - loss: 0.0106 - mean_absolute_error: 0.0643 - val_loss: 0.1014 - val_mean_absolute_error: 0.2148\n",
      "Epoch 101/150\n",
      "367/367 [==============================] - 2s 5ms/step - loss: 0.0119 - mean_absolute_error: 0.0688 - val_loss: 0.0954 - val_mean_absolute_error: 0.2089\n",
      "Epoch 102/150\n",
      "367/367 [==============================] - 2s 5ms/step - loss: 0.0122 - mean_absolute_error: 0.0696 - val_loss: 0.1166 - val_mean_absolute_error: 0.2348\n",
      "Epoch 103/150\n",
      "367/367 [==============================] - 1s 4ms/step - loss: 0.0116 - mean_absolute_error: 0.0684 - val_loss: 0.0936 - val_mean_absolute_error: 0.2055\n",
      "Epoch 104/150\n",
      "367/367 [==============================] - 2s 4ms/step - loss: 0.0102 - mean_absolute_error: 0.0638 - val_loss: 0.1179 - val_mean_absolute_error: 0.2318\n",
      "Epoch 105/150\n",
      "367/367 [==============================] - 2s 5ms/step - loss: 0.0105 - mean_absolute_error: 0.0643 - val_loss: 0.1183 - val_mean_absolute_error: 0.2290\n",
      "Epoch 106/150\n",
      "367/367 [==============================] - 2s 4ms/step - loss: 0.0115 - mean_absolute_error: 0.0674 - val_loss: 0.0979 - val_mean_absolute_error: 0.2066\n",
      "Epoch 107/150\n",
      "367/367 [==============================] - 1s 4ms/step - loss: 0.0102 - mean_absolute_error: 0.0639 - val_loss: 0.1021 - val_mean_absolute_error: 0.2166\n",
      "Epoch 108/150\n",
      "367/367 [==============================] - 1s 4ms/step - loss: 0.0103 - mean_absolute_error: 0.0633 - val_loss: 0.0904 - val_mean_absolute_error: 0.2051\n",
      "Epoch 109/150\n",
      "367/367 [==============================] - 1s 4ms/step - loss: 0.0108 - mean_absolute_error: 0.0651 - val_loss: 0.1005 - val_mean_absolute_error: 0.2139\n",
      "Epoch 110/150\n",
      "367/367 [==============================] - 2s 5ms/step - loss: 0.0101 - mean_absolute_error: 0.0626 - val_loss: 0.1002 - val_mean_absolute_error: 0.2126\n",
      "Epoch 111/150\n",
      "367/367 [==============================] - 2s 5ms/step - loss: 0.0111 - mean_absolute_error: 0.0661 - val_loss: 0.0962 - val_mean_absolute_error: 0.2068\n",
      "Epoch 112/150\n",
      "367/367 [==============================] - 2s 5ms/step - loss: 0.0095 - mean_absolute_error: 0.0605 - val_loss: 0.1035 - val_mean_absolute_error: 0.2174\n",
      "Epoch 113/150\n",
      "367/367 [==============================] - 2s 4ms/step - loss: 0.0109 - mean_absolute_error: 0.0658 - val_loss: 0.0948 - val_mean_absolute_error: 0.2070\n",
      "Epoch 114/150\n",
      "367/367 [==============================] - 2s 4ms/step - loss: 0.0097 - mean_absolute_error: 0.0612 - val_loss: 0.0930 - val_mean_absolute_error: 0.2067\n",
      "Epoch 115/150\n",
      "367/367 [==============================] - 1s 4ms/step - loss: 0.0118 - mean_absolute_error: 0.0684 - val_loss: 0.1026 - val_mean_absolute_error: 0.2154\n",
      "Epoch 116/150\n",
      "367/367 [==============================] - 1s 4ms/step - loss: 0.0096 - mean_absolute_error: 0.0607 - val_loss: 0.0964 - val_mean_absolute_error: 0.2086\n",
      "Epoch 117/150\n",
      "367/367 [==============================] - 1s 4ms/step - loss: 0.0107 - mean_absolute_error: 0.0650 - val_loss: 0.1090 - val_mean_absolute_error: 0.2244\n",
      "Epoch 118/150\n",
      "367/367 [==============================] - 2s 5ms/step - loss: 0.0104 - mean_absolute_error: 0.0641 - val_loss: 0.1052 - val_mean_absolute_error: 0.2216\n",
      "Epoch 119/150\n",
      "367/367 [==============================] - 1s 4ms/step - loss: 0.0098 - mean_absolute_error: 0.0621 - val_loss: 0.1154 - val_mean_absolute_error: 0.2267\n",
      "Epoch 120/150\n",
      "367/367 [==============================] - 2s 5ms/step - loss: 0.0110 - mean_absolute_error: 0.0654 - val_loss: 0.1003 - val_mean_absolute_error: 0.2191\n",
      "Epoch 121/150\n",
      "367/367 [==============================] - 2s 5ms/step - loss: 0.0115 - mean_absolute_error: 0.0686 - val_loss: 0.0919 - val_mean_absolute_error: 0.2025\n",
      "Epoch 122/150\n",
      "367/367 [==============================] - 2s 5ms/step - loss: 0.0102 - mean_absolute_error: 0.0629 - val_loss: 0.1057 - val_mean_absolute_error: 0.2198\n",
      "Epoch 123/150\n",
      "367/367 [==============================] - 2s 4ms/step - loss: 0.0106 - mean_absolute_error: 0.0645 - val_loss: 0.0914 - val_mean_absolute_error: 0.2015\n",
      "Epoch 124/150\n",
      "367/367 [==============================] - 2s 5ms/step - loss: 0.0098 - mean_absolute_error: 0.0612 - val_loss: 0.0981 - val_mean_absolute_error: 0.2106\n",
      "Epoch 125/150\n",
      "367/367 [==============================] - 2s 4ms/step - loss: 0.0108 - mean_absolute_error: 0.0657 - val_loss: 0.0960 - val_mean_absolute_error: 0.2099\n",
      "Epoch 126/150\n",
      "367/367 [==============================] - 2s 5ms/step - loss: 0.0096 - mean_absolute_error: 0.0611 - val_loss: 0.0921 - val_mean_absolute_error: 0.2082\n",
      "Epoch 127/150\n",
      "367/367 [==============================] - 2s 4ms/step - loss: 0.0095 - mean_absolute_error: 0.0606 - val_loss: 0.1129 - val_mean_absolute_error: 0.2268\n",
      "Epoch 128/150\n",
      "367/367 [==============================] - 2s 5ms/step - loss: 0.0096 - mean_absolute_error: 0.0610 - val_loss: 0.1101 - val_mean_absolute_error: 0.2268\n",
      "Epoch 129/150\n",
      "367/367 [==============================] - 2s 4ms/step - loss: 0.0115 - mean_absolute_error: 0.0679 - val_loss: 0.0924 - val_mean_absolute_error: 0.2038\n",
      "Epoch 130/150\n",
      "367/367 [==============================] - 2s 5ms/step - loss: 0.0094 - mean_absolute_error: 0.0602 - val_loss: 0.1051 - val_mean_absolute_error: 0.2170\n",
      "Epoch 131/150\n",
      "367/367 [==============================] - 2s 5ms/step - loss: 0.0093 - mean_absolute_error: 0.0603 - val_loss: 0.0966 - val_mean_absolute_error: 0.2100\n",
      "Epoch 132/150\n",
      "367/367 [==============================] - 2s 5ms/step - loss: 0.0111 - mean_absolute_error: 0.0664 - val_loss: 0.0942 - val_mean_absolute_error: 0.2067\n",
      "Epoch 133/150\n",
      "367/367 [==============================] - 2s 5ms/step - loss: 0.0095 - mean_absolute_error: 0.0608 - val_loss: 0.1072 - val_mean_absolute_error: 0.2222\n",
      "Epoch 134/150\n",
      "367/367 [==============================] - 2s 5ms/step - loss: 0.0097 - mean_absolute_error: 0.0618 - val_loss: 0.0999 - val_mean_absolute_error: 0.2132\n",
      "Epoch 135/150\n",
      "367/367 [==============================] - 2s 5ms/step - loss: 0.0103 - mean_absolute_error: 0.0630 - val_loss: 0.1247 - val_mean_absolute_error: 0.2374\n",
      "Epoch 136/150\n",
      "367/367 [==============================] - 2s 5ms/step - loss: 0.0101 - mean_absolute_error: 0.0624 - val_loss: 0.0953 - val_mean_absolute_error: 0.2081\n",
      "Epoch 137/150\n",
      "367/367 [==============================] - 2s 4ms/step - loss: 0.0095 - mean_absolute_error: 0.0605 - val_loss: 0.0993 - val_mean_absolute_error: 0.2106\n",
      "Epoch 138/150\n",
      "367/367 [==============================] - 2s 4ms/step - loss: 0.0092 - mean_absolute_error: 0.0589 - val_loss: 0.0979 - val_mean_absolute_error: 0.2122\n",
      "Epoch 139/150\n",
      "367/367 [==============================] - 2s 4ms/step - loss: 0.0094 - mean_absolute_error: 0.0599 - val_loss: 0.0995 - val_mean_absolute_error: 0.2128\n",
      "Epoch 140/150\n",
      "367/367 [==============================] - 2s 5ms/step - loss: 0.0092 - mean_absolute_error: 0.0592 - val_loss: 0.1008 - val_mean_absolute_error: 0.2143\n",
      "Epoch 141/150\n",
      "367/367 [==============================] - 2s 5ms/step - loss: 0.0097 - mean_absolute_error: 0.0616 - val_loss: 0.1064 - val_mean_absolute_error: 0.2209\n",
      "Epoch 142/150\n",
      "367/367 [==============================] - 2s 4ms/step - loss: 0.0082 - mean_absolute_error: 0.0553 - val_loss: 0.1052 - val_mean_absolute_error: 0.2182\n",
      "Epoch 143/150\n",
      "367/367 [==============================] - 2s 4ms/step - loss: 0.0095 - mean_absolute_error: 0.0604 - val_loss: 0.1037 - val_mean_absolute_error: 0.2168\n",
      "Epoch 144/150\n",
      "367/367 [==============================] - 2s 4ms/step - loss: 0.0098 - mean_absolute_error: 0.0619 - val_loss: 0.0947 - val_mean_absolute_error: 0.2060\n",
      "Epoch 145/150\n",
      "367/367 [==============================] - 2s 4ms/step - loss: 0.0104 - mean_absolute_error: 0.0638 - val_loss: 0.1031 - val_mean_absolute_error: 0.2164\n",
      "Epoch 146/150\n",
      "367/367 [==============================] - 2s 4ms/step - loss: 0.0096 - mean_absolute_error: 0.0611 - val_loss: 0.1074 - val_mean_absolute_error: 0.2187\n",
      "Epoch 147/150\n",
      "367/367 [==============================] - 2s 4ms/step - loss: 0.0094 - mean_absolute_error: 0.0605 - val_loss: 0.1026 - val_mean_absolute_error: 0.2170\n",
      "Epoch 148/150\n",
      "367/367 [==============================] - 2s 4ms/step - loss: 0.0082 - mean_absolute_error: 0.0557 - val_loss: 0.1019 - val_mean_absolute_error: 0.2132\n",
      "Epoch 149/150\n",
      "367/367 [==============================] - 2s 4ms/step - loss: 0.0090 - mean_absolute_error: 0.0586 - val_loss: 0.1103 - val_mean_absolute_error: 0.2247\n",
      "Epoch 150/150\n",
      "367/367 [==============================] - 2s 5ms/step - loss: 0.0098 - mean_absolute_error: 0.0623 - val_loss: 0.0924 - val_mean_absolute_error: 0.2044\n"
     ]
    }
   ],
   "source": [
    "history = model.fit(xtrain_scale, ytrain_scale, epochs=150, verbose=1, validation_data=(xval_scale,yval_scale))\n"
   ]
  },
  {
   "cell_type": "code",
   "execution_count": 14,
   "metadata": {},
   "outputs": [],
   "source": [
    "#to evaluate on training data\n",
    "#scores=model.evaluate(xtrain_scale,y_train_scale,verbose=0)\n",
    "#print(\"%s: %.2f%%\" % (model.metrics_names[1], scores[1]*100))\n",
    "#model.save(\"model.h5\")\n",
    "#print(\"saved the model to disk\")\n",
    "#to load model\n",
    "#model=load_model('model.h5')"
   ]
  },
  {
   "cell_type": "code",
   "execution_count": 18,
   "metadata": {},
   "outputs": [
    {
     "data": {
      "image/png": "[encoded data removed]",
      "text/plain": [
       "<Figure size 432x288 with 1 Axes>"
      ]
     },
     "metadata": {
      "needs_background": "light"
     },
     "output_type": "display_data"
    }
   ],
   "source": [
    "import keras\n",
    "from matplotlib import pyplot as plt\n",
    "plt.plot(history.history['loss'])\n",
    "plt.plot(history.history['val_loss'])\n",
    "plt.title('model loss')\n",
    "plt.ylabel('loss')\n",
    "plt.xlabel('epoch')\n",
    "plt.legend(['train', 'val'], loc='upper left')\n",
    "plt.show()"
   ]
  },
  {
   "cell_type": "code",
   "execution_count": 20,
   "metadata": {},
   "outputs": [
    {
     "data": {
      "text/plain": [
       "(array([1200.,   75.,  450., ...,  450.,  825., 1200.]),\n",
       " array([ 825.,  450., -300., ...,  825.,   75., -300.]))"
      ]
     },
     "execution_count": 20,
     "metadata": {},
     "output_type": "execute_result"
    }
   ],
   "source": [
    "y_train[:,4], y_val[:,4]"
   ]
  },
  {
   "cell_type": "code",
   "execution_count": 27,
   "metadata": {},
   "outputs": [
    {
     "data": {
      "text/plain": [
       "4.797192578577112"
      ]
     },
     "execution_count": 27,
     "metadata": {},
     "output_type": "execute_result"
    }
   ],
   "source": [
    "np.max(X_train[:,4])"
   ]
  },
  {
   "cell_type": "code",
   "execution_count": 28,
   "metadata": {},
   "outputs": [
    {
     "data": {
      "text/plain": [
       "4.8911509119104455"
      ]
     },
     "execution_count": 28,
     "metadata": {},
     "output_type": "execute_result"
    }
   ],
   "source": [
    "np.max(X_val[:,4])"
   ]
  },
  {
   "cell_type": "code",
   "execution_count": 29,
   "metadata": {},
   "outputs": [
    {
     "data": {
      "text/plain": [
       "-1.2907000112684268"
      ]
     },
     "execution_count": 29,
     "metadata": {},
     "output_type": "execute_result"
    }
   ],
   "source": [
    "np.min(X_train[:,4])"
   ]
  },
  {
   "cell_type": "code",
   "execution_count": 30,
   "metadata": {},
   "outputs": [
    {
     "data": {
      "text/plain": [
       "-1.3846583446017602"
      ]
     },
     "execution_count": 30,
     "metadata": {},
     "output_type": "execute_result"
    }
   ],
   "source": [
    "np.min(X_val[:,4])"
   ]
  },
  {
   "cell_type": "code",
   "execution_count": null,
   "metadata": {},
   "outputs": [],
   "source": []
  }
 ],
 "metadata": {
  "kernelspec": {
   "display_name": "Python 3",
   "language": "python",
   "name": "python3"
  },
  "language_info": {
   "codemirror_mode": {
    "name": "ipython",
    "version": 3
   },
   "file_extension": ".py",
   "mimetype": "text/x-python",
   "name": "python",
   "nbconvert_exporter": "python",
   "pygments_lexer": "ipython3",
   "version": "3.8.8"
  }
 },
 "nbformat": 4,
 "nbformat_minor": 4
}
