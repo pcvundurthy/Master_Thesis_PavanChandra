{
 "cells": [
  {
   "cell_type": "code",
   "execution_count": 2,
   "metadata": {},
   "outputs": [],
   "source": [
    "import numpy as np\n",
    "import math\n",
    "import matplotlib.pyplot as plt\n",
    "from tensorflow import keras\n",
    "import tensorflow as tf\n",
    "from tensorflow.keras import layers\n",
    "from kerastuner.tuners import RandomSearch\n",
    "import pandas as pd"
   ]
  },
  {
   "cell_type": "code",
   "execution_count": 3,
   "metadata": {},
   "outputs": [
    {
     "name": "stdout",
     "output_type": "stream",
     "text": [
      "read_x_data\n",
      "read_y_data\n",
      "[[-1.01460873  0.23409447 -0.16630924 -1.02176133  0.25902852 -0.14931563\n",
      "  -1.02396726  0.27719386 -0.13220564 -1.02269015  0.29002349 -0.11629751\n",
      "  -0.96906782  0.18514726 -0.16529225 -0.98205803  0.21180485 -0.15874543\n",
      "  -0.99150532  0.23450866 -0.14900263 -0.99752507  0.25303335 -0.13762288\n",
      "  -0.93519174  0.15578443 -0.14986314 -0.94776464  0.17814166 -0.15095246\n",
      "  -0.95897173  0.19944917 -0.14846165 -0.96824019  0.21880579 -0.14321308\n",
      "  -0.91279739  0.14130178 -0.13163    -0.92284951  0.15821756 -0.1365968\n",
      "  -0.93288245  0.17567057 -0.13877139 -0.9422943   0.19283404 -0.13836906]\n",
      " [-1.00498288  0.20985379 -0.17773116 -1.01682491  0.24067003 -0.16240927\n",
      "  -1.02267372  0.26388508 -0.14521387 -1.02392852  0.28065612 -0.12830422\n",
      "  -0.95707981  0.16277143 -0.16704625 -0.97244433  0.19176855 -0.16412556\n",
      "  -0.984617    0.21755216 -0.156666   -0.99322451  0.23926248 -0.14640847\n",
      "  -0.92524664  0.13882143 -0.1462578  -0.93824444  0.16110296 -0.15048023\n",
      "  -0.95056639  0.18331731 -0.15065855 -0.96135248  0.20422781 -0.14743622\n",
      "  -0.90554083  0.12932022 -0.12597559 -0.91514047  0.1452059  -0.13305933\n",
      "  -0.92524892  0.16233033 -0.13735902 -0.93518406  0.17978378 -0.13889648]]\n",
      "[[ -35.          -35.           -0.75968791   -0.65028784 -300.\n",
      "  -110.          -60.        ]\n",
      " [ -29.2         -35.           -0.75968791   -0.65028784 -300.\n",
      "  -110.          -60.        ]]\n"
     ]
    }
   ],
   "source": [
    "#Reading the Training data (virtually generated) from a file \n",
    "#Input data\n",
    "x_data = pd.read_csv('x_data_6.csv')\n",
    "x_data=x_data.values[:,1:]\n",
    "print(\"read_x_data\")\n",
    "#Output data\n",
    "y_data = pd.read_csv('y_data_6.csv')\n",
    "y_data=y_data.values[:,1:]\n",
    "print(\"read_y_data\")\n",
    "print(x_data[:2,:])\n",
    "print(y_data[:2,:])"
   ]
  },
  {
   "cell_type": "code",
   "execution_count": 4,
   "metadata": {},
   "outputs": [
    {
     "name": "stdout",
     "output_type": "stream",
     "text": [
      "(34992, 48) (34992, 7) training data size\n",
      "(11664, 48) (11664, 7) Validation data size\n"
     ]
    }
   ],
   "source": [
    "from sklearn.preprocessing import MinMaxScaler\n",
    "from sklearn.model_selection import train_test_split\n",
    "\n",
    "X_train, X_val, y_train, y_val = train_test_split(x_data, y_data)\n",
    "print(np.shape(X_train), np.shape(y_train), \"training data size\")\n",
    "print(np.shape(X_val), np.shape(y_val),\"Validation data size\")\n",
    "#print(X_train[0:9,:])\n",
    "\n",
    "scaler_x = MinMaxScaler()\n",
    "scaler_y = MinMaxScaler()\n",
    "\n",
    "scaler_x.fit(X_train)\n",
    "xtrain_scale=scaler_x.transform(X_train)\n",
    "\n",
    "scaler_x.fit(X_val)\n",
    "xval_scale=scaler_x.transform(X_val)\n",
    "\n",
    "scaler_y.fit(y_train)\n",
    "ytrain_scale=scaler_y.transform(y_train)\n",
    "\n",
    "scaler_y.fit(y_val)\n",
    "yval_scale=scaler_y.transform(y_val)"
   ]
  },
  {
   "cell_type": "code",
   "execution_count": 5,
   "metadata": {},
   "outputs": [
    {
     "name": "stdout",
     "output_type": "stream",
     "text": [
      "Model: \"sensor_concept_nn\"\n",
      "_________________________________________________________________\n",
      "Layer (type)                 Output Shape              Param #   \n",
      "=================================================================\n",
      "input_1 (InputLayer)         [(None, 48)]              0         \n",
      "_________________________________________________________________\n",
      "dense (Dense)                (None, 700)               34300     \n",
      "_________________________________________________________________\n",
      "dense_1 (Dense)              (None, 700)               490700    \n",
      "_________________________________________________________________\n",
      "dense_2 (Dense)              (None, 7)                 4907      \n",
      "=================================================================\n",
      "Total params: 529,907\n",
      "Trainable params: 529,907\n",
      "Non-trainable params: 0\n",
      "_________________________________________________________________\n"
     ]
    }
   ],
   "source": [
    "from tensorflow.keras.models import Model\n",
    "from tensorflow.keras.layers import Input\n",
    "from tensorflow.keras.layers import Dense\n",
    "from keras.models import Sequential\n",
    "from keras.layers import Dense\n",
    "from numpy import loadtxt\n",
    "from keras.models import load_model\n",
    "\n",
    "\n",
    "input_layer = Input(shape=(48,))\n",
    "hidden_layer_1 = Dense(units = 700, activation = 'relu')(input_layer)\n",
    "hidden_layer_2 = Dense(units = 700, activation = 'relu')(hidden_layer_1)\n",
    "output_layer = Dense(units = 7, activation = 'linear')(hidden_layer_2)\n",
    "model = Model(inputs = input_layer, outputs = output_layer, name = 'sensor_concept_nn')\n",
    "opt = keras.optimizers.Adam(learning_rate=0.0001)\n",
    "model.compile(loss='mse', optimizer=opt)\n",
    "\n",
    "\n",
    "# define the keras model\n",
    "'''model = Sequential()\n",
    "model.add(Dense(500, input_dim=48, activation='relu'))\n",
    "model.add(Dense(400, activation='relu'))\n",
    "model.add(Dense(7, activation='linear'))\n",
    "\n",
    "##Implementing Early stopping\n",
    "#my_callbacks = [\n",
    "#    tf.keras.callbacks.EarlyStopping(monitor='val_loss',patience=5),\n",
    "#    tf.keras.callbacks.ModelCheckpoint(filepath='model.{epoch:02d}-{val_loss:.2f}.h5'),\n",
    "#    tf.keras.callbacks.TensorBoard(log_dir='./logs'),\n",
    "#    tf.keras.callbacks.CSVLogger('Points_5_training.log')]\n",
    "\n",
    "\n",
    "#for specific values of learning rate\n",
    "#opt = keras.optimizers.Adam(learning_rate=0.0001)\n",
    "\n",
    "#compiling module\n",
    "model.compile(loss='mean_absolute_error', optimizer='adam', metrics=['accuracy'])'''\n",
    "\n",
    "# Display the model\n",
    "model.summary()"
   ]
  },
  {
   "cell_type": "code",
   "execution_count": 7,
   "metadata": {},
   "outputs": [
    {
     "name": "stdout",
     "output_type": "stream",
     "text": [
      "('Failed to import pydot. You must `pip install pydot` and install graphviz (https://graphviz.gitlab.io/download/), ', 'for `pydotprint` to work.')\n"
     ]
    }
   ],
   "source": [
    "from keras.utils.vis_utils import plot_model\n",
    "plot_model(model, show_shapes=True, show_layer_names=True)"
   ]
  },
  {
   "cell_type": "code",
   "execution_count": 9,
   "metadata": {},
   "outputs": [
    {
     "name": "stdout",
     "output_type": "stream",
     "text": [
      "Epoch 1/30\n",
      "1094/1094 - 11s - loss: 0.0811 - val_loss: 0.0650\n",
      "Epoch 2/30\n",
      "1094/1094 - 10s - loss: 0.0576 - val_loss: 0.0555\n",
      "Epoch 3/30\n",
      "1094/1094 - 10s - loss: 0.0481 - val_loss: 0.0503\n",
      "Epoch 4/30\n",
      "1094/1094 - 10s - loss: 0.0419 - val_loss: 0.0467\n",
      "Epoch 5/30\n",
      "1094/1094 - 10s - loss: 0.0372 - val_loss: 0.0431\n",
      "Epoch 6/30\n",
      "1094/1094 - 10s - loss: 0.0338 - val_loss: 0.0433\n",
      "Epoch 7/30\n",
      "1094/1094 - 10s - loss: 0.0310 - val_loss: 0.0413\n",
      "Epoch 8/30\n",
      "1094/1094 - 10s - loss: 0.0287 - val_loss: 0.0446\n",
      "Epoch 9/30\n",
      "1094/1094 - 11s - loss: 0.0267 - val_loss: 0.0426\n",
      "Epoch 10/30\n",
      "1094/1094 - 10s - loss: 0.0251 - val_loss: 0.0445\n",
      "Epoch 11/30\n",
      "1094/1094 - 10s - loss: 0.0237 - val_loss: 0.0486\n",
      "Epoch 12/30\n",
      "1094/1094 - 10s - loss: 0.0225 - val_loss: 0.0433\n",
      "Epoch 13/30\n",
      "1094/1094 - 10s - loss: 0.0214 - val_loss: 0.0472\n",
      "Epoch 14/30\n",
      "1094/1094 - 11s - loss: 0.0204 - val_loss: 0.0511\n",
      "Epoch 15/30\n",
      "1094/1094 - 10s - loss: 0.0195 - val_loss: 0.0562\n",
      "Epoch 16/30\n",
      "1094/1094 - 10s - loss: 0.0188 - val_loss: 0.0485\n",
      "Epoch 17/30\n",
      "1094/1094 - 11s - loss: 0.0180 - val_loss: 0.0468\n",
      "Epoch 18/30\n",
      "1094/1094 - 10s - loss: 0.0172 - val_loss: 0.0535\n",
      "Epoch 19/30\n",
      "1094/1094 - 10s - loss: 0.0168 - val_loss: 0.0545\n",
      "Epoch 20/30\n",
      "1094/1094 - 11s - loss: 0.0162 - val_loss: 0.0545\n",
      "Epoch 21/30\n",
      "1094/1094 - 10s - loss: 0.0158 - val_loss: 0.0553\n",
      "Epoch 22/30\n",
      "1094/1094 - 10s - loss: 0.0154 - val_loss: 0.0578\n",
      "Epoch 23/30\n",
      "1094/1094 - 11s - loss: 0.0150 - val_loss: 0.0535\n",
      "Epoch 24/30\n",
      "1094/1094 - 10s - loss: 0.0146 - val_loss: 0.0570\n",
      "Epoch 25/30\n",
      "1094/1094 - 10s - loss: 0.0144 - val_loss: 0.0545\n",
      "Epoch 26/30\n",
      "1094/1094 - 11s - loss: 0.0140 - val_loss: 0.0598\n",
      "Epoch 27/30\n",
      "1094/1094 - 10s - loss: 0.0137 - val_loss: 0.0594\n",
      "Epoch 28/30\n",
      "1094/1094 - 10s - loss: 0.0135 - val_loss: 0.0663\n",
      "Epoch 29/30\n",
      "1094/1094 - 10s - loss: 0.0133 - val_loss: 0.0589\n",
      "Epoch 30/30\n",
      "1094/1094 - 10s - loss: 0.0130 - val_loss: 0.0644\n"
     ]
    }
   ],
   "source": [
    "history = model.fit(xtrain_scale, ytrain_scale, epochs=30, verbose=2, validation_data=(xval_scale,yval_scale))\n"
   ]
  },
  {
   "cell_type": "code",
   "execution_count": 21,
   "metadata": {},
   "outputs": [
    {
     "name": "stdout",
     "output_type": "stream",
     "text": [
      "('Failed to import pydot. You must `pip install pydot` and install graphviz (https://graphviz.gitlab.io/download/), ', 'for `pydotprint` to work.')\n"
     ]
    }
   ],
   "source": [
    "#to evaluate on training data\n",
    "#scores=model.evaluate(xtrain_scale,y_train_scale,verbose=0)\n",
    "#print(\"%s: %.2f%%\" % (model.metrics_names[1], scores[1]*100))\n",
    "#model.save(\"model.h5\")\n",
    "#print(\"saved the model to disk\")\n",
    "#to load model\n",
    "#model=load_model('model.h5')\n",
    "from keras.utils.vis_utils import plot_model\n",
    "plot_model(history, show_shapes=True, show_layer_names=True)"
   ]
  },
  {
   "cell_type": "code",
   "execution_count": 10,
   "metadata": {},
   "outputs": [
    {
     "data": {
      "image/png": "[encoded data removed]",
      "text/plain": [
       "<Figure size 432x288 with 1 Axes>"
      ]
     },
     "metadata": {
      "needs_background": "light"
     },
     "output_type": "display_data"
    }
   ],
   "source": [
    "import keras\n",
    "from matplotlib import pyplot as plt\n",
    "plt.plot(history.history['loss'])\n",
    "plt.plot(history.history['val_loss'])\n",
    "plt.title('model loss')\n",
    "plt.ylabel('loss')\n",
    "plt.xlabel('epoch')\n",
    "plt.legend(['train', 'val'], loc='upper left')\n",
    "plt.show()"
   ]
  },
  {
   "cell_type": "code",
   "execution_count": null,
   "metadata": {},
   "outputs": [],
   "source": [
    "#max in all columns of strain data\n",
    "max_val=np.max(x_data)\n",
    "min_val=np.min(x_data)\n",
    "range_val = max_val-min_val\n",
    "shape_x_data=np.shape(x_data)\n",
    "err=0.01\n",
    "x_data_noise=x_data+np.random.uniform(0,err*range_val,(shape_x_data[0],shape_x_data[1]))\n",
    "#x_data_noise-x_data\n",
    "\n"
   ]
  },
  {
   "cell_type": "code",
   "execution_count": null,
   "metadata": {},
   "outputs": [],
   "source": [
    "X_train, X_val, y_train, y_val = train_test_split(x_data_noise, y_data)\n",
    "print(np.shape(X_train), np.shape(y_train), \"training data size\")\n",
    "print(np.shape(X_val), np.shape(y_val),\"Validation data size\")\n",
    "#print(X_train[0:9,:])\n",
    "\n",
    "scaler_x = MinMaxScaler()\n",
    "scaler_y = MinMaxScaler()\n",
    "\n",
    "scaler_x.fit(X_train)\n",
    "xtrain_scale=scaler_x.transform(X_train)\n",
    "\n",
    "scaler_x.fit(X_val)\n",
    "xval_scale=scaler_x.transform(X_val)\n",
    "\n",
    "scaler_y.fit(y_train)\n",
    "ytrain_scale=scaler_y.transform(y_train)\n",
    "\n",
    "scaler_y.fit(y_val)\n",
    "yval_scale=scaler_y.transform(y_val)\n"
   ]
  },
  {
   "cell_type": "code",
   "execution_count": null,
   "metadata": {},
   "outputs": [],
   "source": [
    "history = model.fit(xtrain_scale, ytrain_scale, epochs=20, verbose=1, validation_data=(xval_scale,yval_scale))\n"
   ]
  },
  {
   "cell_type": "code",
   "execution_count": null,
   "metadata": {},
   "outputs": [],
   "source": [
    "plt.plot(history.history['loss'])\n",
    "plt.plot(history.history['val_loss'])\n",
    "plt.title('When noise is at 1% of the range of strain values')\n",
    "plt.ylabel('loss')\n",
    "plt.xlabel('epoch')\n",
    "plt.legend(['train', 'val'], loc='upper left')\n",
    "plt.ylim(0.01,0.07)\n",
    "plt.show()"
   ]
  },
  {
   "cell_type": "code",
   "execution_count": 65,
   "metadata": {},
   "outputs": [
    {
     "name": "stdout",
     "output_type": "stream",
     "text": [
      "(34992, 48) (34992, 7) training data size\n",
      "(11664, 48) (11664, 7) Validation data size\n",
      "Epoch 1/20\n",
      "1094/1094 [==============================] - 13s 12ms/step - loss: 0.0752 - val_loss: 0.0808\n",
      "Epoch 2/20\n",
      "1094/1094 [==============================] - 11s 10ms/step - loss: 0.0714 - val_loss: 0.0768\n",
      "Epoch 3/20\n",
      "1094/1094 [==============================] - 8s 8ms/step - loss: 0.0704 - val_loss: 0.0794\n",
      "Epoch 4/20\n",
      "1094/1094 [==============================] - 8s 8ms/step - loss: 0.0697 - val_loss: 0.0790\n",
      "Epoch 5/20\n",
      "1094/1094 [==============================] - 8s 8ms/step - loss: 0.0692 - val_loss: 0.0777\n",
      "Epoch 6/20\n",
      "1094/1094 [==============================] - 9s 8ms/step - loss: 0.0686 - val_loss: 0.0803\n",
      "Epoch 7/20\n",
      "1094/1094 [==============================] - 8s 8ms/step - loss: 0.0682 - val_loss: 0.0762\n",
      "Epoch 8/20\n",
      "1094/1094 [==============================] - 8s 8ms/step - loss: 0.0677 - val_loss: 0.0786\n",
      "Epoch 9/20\n",
      "1094/1094 [==============================] - 9s 8ms/step - loss: 0.0674 - val_loss: 0.0767\n",
      "Epoch 10/20\n",
      "1094/1094 [==============================] - 8s 8ms/step - loss: 0.0670 - val_loss: 0.0783\n",
      "Epoch 11/20\n",
      "1094/1094 [==============================] - 9s 8ms/step - loss: 0.0667 - val_loss: 0.0801\n",
      "Epoch 12/20\n",
      "1094/1094 [==============================] - 9s 8ms/step - loss: 0.0663 - val_loss: 0.0814\n",
      "Epoch 13/20\n",
      "1094/1094 [==============================] - 9s 8ms/step - loss: 0.0660 - val_loss: 0.0805\n",
      "Epoch 14/20\n",
      "1094/1094 [==============================] - 8s 7ms/step - loss: 0.0657 - val_loss: 0.0754\n",
      "Epoch 15/20\n",
      "1094/1094 [==============================] - 9s 8ms/step - loss: 0.0654 - val_loss: 0.0800\n",
      "Epoch 16/20\n",
      "1094/1094 [==============================] - 8s 7ms/step - loss: 0.0650 - val_loss: 0.0814\n",
      "Epoch 17/20\n",
      "1094/1094 [==============================] - 9s 8ms/step - loss: 0.0648 - val_loss: 0.0757\n",
      "Epoch 18/20\n",
      "1094/1094 [==============================] - 8s 8ms/step - loss: 0.0645 - val_loss: 0.0775\n",
      "Epoch 19/20\n",
      "1094/1094 [==============================] - 9s 8ms/step - loss: 0.0642 - val_loss: 0.0810\n",
      "Epoch 20/20\n",
      "1094/1094 [==============================] - 8s 8ms/step - loss: 0.0639 - val_loss: 0.0818\n"
     ]
    }
   ],
   "source": [
    "#Increasing the noise\n",
    "err=0.1\n",
    "x_data_noise_10=x_data+np.random.uniform(0,err*range_val,(shape_x_data[0],shape_x_data[1]))\n",
    "X_train, X_val, y_train, y_val = train_test_split(x_data_noise_10, y_data)\n",
    "print(np.shape(X_train), np.shape(y_train), \"training data size\")\n",
    "print(np.shape(X_val), np.shape(y_val),\"Validation data size\")\n",
    "#print(X_train[0:9,:])\n",
    "\n",
    "scaler_x = MinMaxScaler()\n",
    "scaler_y = MinMaxScaler()\n",
    "\n",
    "scaler_x.fit(X_train)\n",
    "xtrain_scale=scaler_x.transform(X_train)\n",
    "\n",
    "scaler_x.fit(X_val)\n",
    "xval_scale=scaler_x.transform(X_val)\n",
    "\n",
    "scaler_y.fit(y_train)\n",
    "ytrain_scale=scaler_y.transform(y_train)\n",
    "\n",
    "scaler_y.fit(y_val)\n",
    "yval_scale=scaler_y.transform(y_val)\n",
    "\n",
    "history = model.fit(xtrain_scale, ytrain_scale, epochs=20, verbose=1, validation_data=(xval_scale,yval_scale))\n"
   ]
  },
  {
   "cell_type": "code",
   "execution_count": 69,
   "metadata": {},
   "outputs": [
    {
     "data": {
      "image/png": "[encoded data removed]",
      "text/plain": [
       "<Figure size 432x288 with 1 Axes>"
      ]
     },
     "metadata": {
      "needs_background": "light"
     },
     "output_type": "display_data"
    }
   ],
   "source": [
    "#\n",
    "plt.plot(history.history['loss'])\n",
    "plt.plot(history.history['val_loss'])\n",
    "plt.title('When noise is at 10% of the range of strain values')\n",
    "plt.ylabel('loss')\n",
    "plt.xlabel('epoch')\n",
    "plt.legend(['train', 'val'], loc='upper left')\n",
    "plt.ylim(0.05,0.12)\n",
    "plt.show()"
   ]
  },
  {
   "cell_type": "code",
   "execution_count": 70,
   "metadata": {},
   "outputs": [
    {
     "name": "stdout",
     "output_type": "stream",
     "text": [
      "(34992, 48) (34992, 7) training data size\n",
      "(11664, 48) (11664, 7) Validation data size\n",
      "Epoch 1/20\n",
      "1094/1094 [==============================] - 14s 12ms/step - loss: 0.1057 - val_loss: 0.1051\n",
      "Epoch 2/20\n",
      "1094/1094 [==============================] - 14s 13ms/step - loss: 0.1027 - val_loss: 0.1037\n",
      "Epoch 3/20\n",
      "1094/1094 [==============================] - 12s 11ms/step - loss: 0.1018 - val_loss: 0.1036\n",
      "Epoch 4/20\n",
      "1094/1094 [==============================] - 11s 10ms/step - loss: 0.1012 - val_loss: 0.1036\n",
      "Epoch 5/20\n",
      "1094/1094 [==============================] - 10s 9ms/step - loss: 0.1006 - val_loss: 0.1039\n",
      "Epoch 6/20\n",
      "1094/1094 [==============================] - 9s 8ms/step - loss: 0.1000 - val_loss: 0.1039\n",
      "Epoch 7/20\n",
      "1094/1094 [==============================] - 8s 7ms/step - loss: 0.0995 - val_loss: 0.1036\n",
      "Epoch 8/20\n",
      "1094/1094 [==============================] - 9s 8ms/step - loss: 0.0989 - val_loss: 0.1040\n",
      "Epoch 9/20\n",
      "1094/1094 [==============================] - 8s 8ms/step - loss: 0.0984 - val_loss: 0.1046\n",
      "Epoch 10/20\n",
      "1094/1094 [==============================] - 11s 10ms/step - loss: 0.0978 - val_loss: 0.1041\n",
      "Epoch 11/20\n",
      "1094/1094 [==============================] - 10s 9ms/step - loss: 0.0972 - val_loss: 0.1042\n",
      "Epoch 12/20\n",
      "1094/1094 [==============================] - 9s 8ms/step - loss: 0.0966 - val_loss: 0.1043\n",
      "Epoch 13/20\n",
      "1094/1094 [==============================] - 9s 8ms/step - loss: 0.0961 - val_loss: 0.1048\n",
      "Epoch 14/20\n",
      "1094/1094 [==============================] - 9s 8ms/step - loss: 0.0954 - val_loss: 0.1059\n",
      "Epoch 15/20\n",
      "1094/1094 [==============================] - 9s 8ms/step - loss: 0.0949 - val_loss: 0.1050\n",
      "Epoch 16/20\n",
      "1094/1094 [==============================] - 9s 8ms/step - loss: 0.0943 - val_loss: 0.1055\n",
      "Epoch 17/20\n",
      "1094/1094 [==============================] - 11s 10ms/step - loss: 0.0937 - val_loss: 0.1052\n",
      "Epoch 18/20\n",
      "1094/1094 [==============================] - 10s 9ms/step - loss: 0.0931 - val_loss: 0.1055\n",
      "Epoch 19/20\n",
      "1094/1094 [==============================] - 10s 9ms/step - loss: 0.0925 - val_loss: 0.1070\n",
      "Epoch 20/20\n",
      "1094/1094 [==============================] - 11s 10ms/step - loss: 0.0919 - val_loss: 0.1065\n"
     ]
    }
   ],
   "source": [
    "#Increasing the noise to \n",
    "err=0.3\n",
    "x_data_noise_30=x_data+np.random.uniform(0,err*range_val,(shape_x_data[0],shape_x_data[1]))\n",
    "X_train, X_val, y_train, y_val = train_test_split(x_data_noise_30, y_data)\n",
    "print(np.shape(X_train), np.shape(y_train), \"training data size\")\n",
    "print(np.shape(X_val), np.shape(y_val),\"Validation data size\")\n",
    "#print(X_train[0:9,:])\n",
    "\n",
    "scaler_x = MinMaxScaler()\n",
    "scaler_y = MinMaxScaler()\n",
    "\n",
    "scaler_x.fit(X_train)\n",
    "xtrain_scale=scaler_x.transform(X_train)\n",
    "\n",
    "scaler_x.fit(X_val)\n",
    "xval_scale=scaler_x.transform(X_val)\n",
    "\n",
    "scaler_y.fit(y_train)\n",
    "ytrain_scale=scaler_y.transform(y_train)\n",
    "\n",
    "scaler_y.fit(y_val)\n",
    "yval_scale=scaler_y.transform(y_val)\n",
    "\n",
    "history = model.fit(xtrain_scale, ytrain_scale, epochs=20, verbose=1, validation_data=(xval_scale,yval_scale))\n"
   ]
  },
  {
   "cell_type": "code",
   "execution_count": 73,
   "metadata": {},
   "outputs": [
    {
     "data": {
      "image/png": "[encoded data removed]",
      "text/plain": [
       "<Figure size 432x288 with 1 Axes>"
      ]
     },
     "metadata": {
      "needs_background": "light"
     },
     "output_type": "display_data"
    }
   ],
   "source": [
    "#\n",
    "plt.plot(history.history['loss'])\n",
    "plt.plot(history.history['val_loss'])\n",
    "plt.title('When noise is at 30% of the range of strain values')\n",
    "plt.ylabel('loss')\n",
    "plt.xlabel('epoch')\n",
    "plt.legend(['train', 'val'], loc='upper left')\n",
    "plt.ylim(0.07,0.15)\n",
    "plt.show()"
   ]
  },
  {
   "cell_type": "code",
   "execution_count": null,
   "metadata": {},
   "outputs": [],
   "source": []
  }
 ],
 "metadata": {
  "kernelspec": {
   "display_name": "Python 3",
   "language": "python",
   "name": "python3"
  },
  "language_info": {
   "codemirror_mode": {
    "name": "ipython",
    "version": 3
   },
   "file_extension": ".py",
   "mimetype": "text/x-python",
   "name": "python",
   "nbconvert_exporter": "python",
   "pygments_lexer": "ipython3",
   "version": "3.8.8"
  }
 },
 "nbformat": 4,
 "nbformat_minor": 4
}
