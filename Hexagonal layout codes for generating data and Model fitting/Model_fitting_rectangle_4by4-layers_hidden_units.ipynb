{
 "cells": [
  {
   "cell_type": "code",
   "execution_count": 1,
   "metadata": {},
   "outputs": [],
   "source": [
    "import numpy as np\n",
    "import math\n",
    "import matplotlib.pyplot as plt\n",
    "from tensorflow import keras\n",
    "import tensorflow as tf\n",
    "from tensorflow.keras import layers\n",
    "from kerastuner.tuners import RandomSearch\n",
    "import pandas as pd"
   ]
  },
  {
   "cell_type": "code",
   "execution_count": 2,
   "metadata": {
    "scrolled": true
   },
   "outputs": [
    {
     "name": "stdout",
     "output_type": "stream",
     "text": [
      "read_x_data\n",
      "read_y_data\n",
      "[[-0.97820564  0.29297193 -0.07061703 -0.96544182  0.2754832  -0.07559271\n",
      "  -0.95055615  0.26713403 -0.06478687 -0.94939434  0.28851273 -0.05467842\n",
      "  -1.02291172  0.31880814 -0.06668594 -1.02036267  0.29820167 -0.09116619\n",
      "  -0.98972578  0.26476729 -0.09036746 -0.9837491   0.30531915 -0.07307987\n",
      "  -1.06898421  0.34968716 -0.03087716 -1.12097493  0.35989869 -0.06120685\n",
      "  -1.15727766  0.31518646 -0.15790448 -1.05000599  0.3741363  -0.18206539\n",
      "  -0.59768246  0.20031284 -0.03087716 -0.54569173  0.19010131 -0.06120685\n",
      "  -0.50938901  0.23481354 -0.15790448 -0.61666068  0.1758637  -0.18206539]\n",
      " [-0.96599853  0.27606791 -0.07565659 -0.95086392  0.26695474 -0.06533805\n",
      "  -0.94930712  0.28749528 -0.05464469 -0.94653851  0.31281185 -0.06572685\n",
      "  -1.02090166  0.29927989 -0.09043877 -0.99077126  0.26520123 -0.09134644\n",
      "  -0.98375094  0.30325434 -0.07242409 -0.95978485  0.33228947 -0.10427239\n",
      "  -1.11885836  0.35967639 -0.059538   -1.15987075  0.32063895 -0.15402077\n",
      "  -1.05699218  0.37419412 -0.17750612 -0.91324645  0.32098244 -0.18743819\n",
      "  -0.54780831  0.19032361 -0.059538   -0.50679591  0.22936105 -0.15402077\n",
      "  -0.60967449  0.17580588 -0.17750612 -0.75342021  0.22901756 -0.18743819]]\n",
      "[[ -35.          -35.            1.            0.            0.\n",
      "  -110.          -60.        ]\n",
      " [ -25.33333333  -35.            1.            0.            0.\n",
      "  -110.          -60.        ]]\n"
     ]
    }
   ],
   "source": [
    "#Reading the Training data (virtually generated) from a file \n",
    "#Input data\n",
    "x_data = pd.read_csv('x_rec_16_data_4.csv')\n",
    "x_data=x_data.values[:,1:]\n",
    "print(\"read_x_data\")\n",
    "#Output data\n",
    "y_data = pd.read_csv('y_rec_16_data_4.csv')\n",
    "y_data=y_data.values[:,1:]\n",
    "print(\"read_y_data\")\n",
    "print(x_data[:2,:])\n",
    "print(y_data[:2,:])"
   ]
  },
  {
   "cell_type": "code",
   "execution_count": 3,
   "metadata": {},
   "outputs": [
    {
     "name": "stdout",
     "output_type": "stream",
     "text": [
      "(3072, 48) (3072, 7) training data size\n",
      "(1024, 48) (1024, 7) Validation data size\n"
     ]
    }
   ],
   "source": [
    "from sklearn.preprocessing import MinMaxScaler\n",
    "from sklearn.model_selection import train_test_split\n",
    "\n",
    "X_train, X_val, y_train, y_val = train_test_split(x_data, y_data)\n",
    "print(np.shape(X_train), np.shape(y_train), \"training data size\")\n",
    "print(np.shape(X_val), np.shape(y_val),\"Validation data size\")\n",
    "#print(X_train[0:9,:])\n",
    "\n",
    "scaler_x = MinMaxScaler()\n",
    "scaler_y = MinMaxScaler()\n",
    "\n",
    "scaler_x.fit(X_train)\n",
    "xtrain_scale=scaler_x.transform(X_train)\n",
    "\n",
    "scaler_x.fit(X_val)\n",
    "xval_scale=scaler_x.transform(X_val)\n",
    "\n",
    "scaler_y.fit(y_train)\n",
    "ytrain_scale=scaler_y.transform(y_train)\n",
    "\n",
    "scaler_y.fit(y_val)\n",
    "yval_scale=scaler_y.transform(y_val)"
   ]
  },
  {
   "cell_type": "code",
   "execution_count": 4,
   "metadata": {},
   "outputs": [
    {
     "name": "stdout",
     "output_type": "stream",
     "text": [
      "Model: \"Rectangular_4by4_sensor_concept_NN\"\n",
      "_________________________________________________________________\n",
      "Layer (type)                 Output Shape              Param #   \n",
      "=================================================================\n",
      "input_1 (InputLayer)         [(None, 48)]              0         \n",
      "_________________________________________________________________\n",
      "dense (Dense)                (None, 200)               9800      \n",
      "_________________________________________________________________\n",
      "dense_1 (Dense)              (None, 200)               40200     \n",
      "_________________________________________________________________\n",
      "dense_2 (Dense)              (None, 7)                 1407      \n",
      "=================================================================\n",
      "Total params: 51,407\n",
      "Trainable params: 51,407\n",
      "Non-trainable params: 0\n",
      "_________________________________________________________________\n"
     ]
    }
   ],
   "source": [
    "from tensorflow.keras.models import Model\n",
    "from tensorflow.keras.layers import Input\n",
    "from tensorflow.keras.layers import Dense\n",
    "from keras.models import Sequential\n",
    "from keras.layers import Dense\n",
    "from numpy import loadtxt\n",
    "from keras.models import load_model\n",
    "from keras.wrappers.scikit_learn import KerasClassifier\n",
    "from keras.constraints import maxnorm\n",
    "\n",
    "\n",
    "input_layer = Input(shape=(48,))\n",
    "hidden_layer_1 = Dense(units = 200, activation = 'relu')(input_layer)\n",
    "hidden_layer_2 = Dense(units = 200, activation = 'relu')(hidden_layer_1)\n",
    "output_layer = Dense(units = 7, activation = 'linear')(hidden_layer_2)\n",
    "model = Model(inputs = input_layer, outputs = output_layer, name = 'Rectangular_4by4_sensor_concept_NN')\n",
    "\n",
    "#for specific values of learning rate\n",
    "#opt = keras.optimizers.Adam(learning_rate=0.0001)\n",
    "\n",
    "model.compile(loss='mae', optimizer=\"adam\")\n",
    "#metrics=['accuracy']\n",
    "##Implementing Early stopping\n",
    "\n",
    "my_callbacks = [\n",
    "    tf.keras.callbacks.EarlyStopping(monitor='val_loss',patience=5)]\n",
    "#    tf.keras.callbacks.ModelCheckpoint(filepath='model.{epoch:02d}-{val_loss:.2f}.h5'),\n",
    "#    tf.keras.callbacks.TensorBoard(log_dir='./logs'),\n",
    "#    tf.keras.callbacks.CSVLogger('Points_5_training.log')]\n",
    "# Display the model\n",
    "model.summary()\n"
   ]
  },
  {
   "cell_type": "code",
   "execution_count": 5,
   "metadata": {},
   "outputs": [
    {
     "name": "stdout",
     "output_type": "stream",
     "text": [
      "Epoch 1/20\n",
      "96/96 - 0s - loss: 0.2576 - val_loss: 0.2262\n",
      "Epoch 2/20\n",
      "96/96 - 0s - loss: 0.2098 - val_loss: 0.2044\n",
      "Epoch 3/20\n",
      "96/96 - 0s - loss: 0.1932 - val_loss: 0.1917\n",
      "Epoch 4/20\n",
      "96/96 - 0s - loss: 0.1788 - val_loss: 0.1766\n",
      "Epoch 5/20\n",
      "96/96 - 0s - loss: 0.1677 - val_loss: 0.1640\n",
      "Epoch 6/20\n",
      "96/96 - 0s - loss: 0.1624 - val_loss: 0.1651\n",
      "Epoch 7/20\n",
      "96/96 - 0s - loss: 0.1538 - val_loss: 0.1623\n",
      "Epoch 8/20\n",
      "96/96 - 0s - loss: 0.1516 - val_loss: 0.1523\n",
      "Epoch 9/20\n",
      "96/96 - 0s - loss: 0.1469 - val_loss: 0.1578\n",
      "Epoch 10/20\n",
      "96/96 - 0s - loss: 0.1408 - val_loss: 0.1534\n",
      "Epoch 11/20\n",
      "96/96 - 0s - loss: 0.1377 - val_loss: 0.1569\n",
      "Epoch 12/20\n",
      "96/96 - 0s - loss: 0.1350 - val_loss: 0.1409\n",
      "Epoch 13/20\n",
      "96/96 - 0s - loss: 0.1313 - val_loss: 0.1391\n",
      "Epoch 14/20\n",
      "96/96 - 0s - loss: 0.1279 - val_loss: 0.1393\n",
      "Epoch 15/20\n",
      "96/96 - 0s - loss: 0.1247 - val_loss: 0.1458\n",
      "Epoch 16/20\n",
      "96/96 - 0s - loss: 0.1239 - val_loss: 0.1335\n",
      "Epoch 17/20\n",
      "96/96 - 0s - loss: 0.1214 - val_loss: 0.1276\n",
      "Epoch 18/20\n",
      "96/96 - 0s - loss: 0.1191 - val_loss: 0.1278\n",
      "Epoch 19/20\n",
      "96/96 - 0s - loss: 0.1178 - val_loss: 0.1309\n",
      "Epoch 20/20\n",
      "96/96 - 0s - loss: 0.1171 - val_loss: 0.1262\n"
     ]
    }
   ],
   "source": [
    "history_1 = model.fit(xtrain_scale, ytrain_scale, epochs=20, verbose=2, validation_data=(xval_scale,yval_scale))\n",
    "#history_1 = model.fit(xtrain_scale, ytrain_scale, epochs=20, verbose=1, callbacks=my_callbacks, validation_data=(xval_scale,yval_scale))\n"
   ]
  },
  {
   "cell_type": "code",
   "execution_count": 6,
   "metadata": {},
   "outputs": [],
   "source": [
    "#to evaluate on training data\n",
    "#scores=model.evaluate(xtrain_scale,y_train_scale,verbose=0)\n",
    "#print(\"%s: %.2f%%\" % (model.metrics_names[1], scores[1]*100))\n",
    "#model.save(\"model.h5\")\n",
    "#print(\"saved the model to disk\")\n",
    "#to load model\n",
    "#model=load_model('model.h5')"
   ]
  },
  {
   "cell_type": "code",
   "execution_count": 7,
   "metadata": {},
   "outputs": [
    {
     "data": {
      "image/png": "[encoded data removed]",
      "text/plain": [
       "<Figure size 432x288 with 1 Axes>"
      ]
     },
     "metadata": {
      "needs_background": "light"
     },
     "output_type": "display_data"
    }
   ],
   "source": [
    "import keras\n",
    "from matplotlib import pyplot as plt\n",
    "plt.plot(history_1.history['loss'])\n",
    "plt.plot(history_1.history['val_loss'])\n",
    "plt.title('model loss for 200 hidden layer units ')\n",
    "plt.ylabel('loss')\n",
    "plt.xlabel('epoch')\n",
    "plt.legend(['Training_Loss ', 'Cross-Validation_loss'], loc='upper left')\n",
    "#plt.xlim(0.0,)\n",
    "#plt.ylim(0.0,0.5)\n",
    "plt.xticks(np.arange(0.0, 19, 2))\n",
    "plt.yticks(np.arange(0.0, 0.6, 0.05))\n",
    "plt.savefig('performance_for_200_hiddenunits_4p.png', dpi=1200)\n",
    "plt.show()\n"
   ]
  },
  {
   "cell_type": "code",
   "execution_count": 8,
   "metadata": {},
   "outputs": [],
   "source": [
    "###for 500 hidden layer units\n",
    "input_layer = Input(shape=(48,))\n",
    "hidden_layer_1 = Dense(units = 500, activation = 'relu')(input_layer)\n",
    "hidden_layer_2 = Dense(units = 500, activation = 'relu')(hidden_layer_1)\n",
    "output_layer = Dense(units = 7, activation = 'linear')(hidden_layer_2)\n",
    "model = Model(inputs = input_layer, outputs = output_layer, name = 'Rectangular_4by4_sensor_concept_NN')\n",
    "\n",
    "#for specific values of learning rate\n",
    "#opt = keras.optimizers.Adam(learning_rate=0.0001)\n",
    "\n",
    "model.compile(loss='mae', optimizer=\"adam\")\n",
    "\n",
    "\n"
   ]
  },
  {
   "cell_type": "code",
   "execution_count": 9,
   "metadata": {},
   "outputs": [
    {
     "name": "stdout",
     "output_type": "stream",
     "text": [
      "Epoch 1/20\n",
      "96/96 - 0s - loss: 0.2505 - val_loss: 0.2104\n",
      "Epoch 2/20\n",
      "96/96 - 0s - loss: 0.2001 - val_loss: 0.1879\n",
      "Epoch 3/20\n",
      "96/96 - 0s - loss: 0.1806 - val_loss: 0.1715\n",
      "Epoch 4/20\n",
      "96/96 - 0s - loss: 0.1657 - val_loss: 0.1591\n",
      "Epoch 5/20\n",
      "96/96 - 0s - loss: 0.1544 - val_loss: 0.1476\n",
      "Epoch 6/20\n",
      "96/96 - 0s - loss: 0.1507 - val_loss: 0.1452\n",
      "Epoch 7/20\n",
      "96/96 - 0s - loss: 0.1475 - val_loss: 0.1407\n",
      "Epoch 8/20\n",
      "96/96 - 0s - loss: 0.1410 - val_loss: 0.1350\n",
      "Epoch 9/20\n",
      "96/96 - 0s - loss: 0.1345 - val_loss: 0.1324\n",
      "Epoch 10/20\n",
      "96/96 - 0s - loss: 0.1303 - val_loss: 0.1322\n",
      "Epoch 11/20\n",
      "96/96 - 0s - loss: 0.1278 - val_loss: 0.1315\n",
      "Epoch 12/20\n",
      "96/96 - 0s - loss: 0.1252 - val_loss: 0.1311\n",
      "Epoch 13/20\n",
      "96/96 - 0s - loss: 0.1208 - val_loss: 0.1208\n",
      "Epoch 14/20\n",
      "96/96 - 0s - loss: 0.1196 - val_loss: 0.1217\n",
      "Epoch 15/20\n",
      "96/96 - 0s - loss: 0.1154 - val_loss: 0.1247\n",
      "Epoch 16/20\n",
      "96/96 - 0s - loss: 0.1150 - val_loss: 0.1188\n",
      "Epoch 17/20\n",
      "96/96 - 0s - loss: 0.1108 - val_loss: 0.1142\n",
      "Epoch 18/20\n",
      "96/96 - 0s - loss: 0.1102 - val_loss: 0.1127\n",
      "Epoch 19/20\n",
      "96/96 - 0s - loss: 0.1085 - val_loss: 0.1058\n",
      "Epoch 20/20\n",
      "96/96 - 0s - loss: 0.1053 - val_loss: 0.1153\n"
     ]
    }
   ],
   "source": [
    "history_2 = model.fit(xtrain_scale, ytrain_scale, epochs=20, verbose=2, validation_data=(xval_scale,yval_scale))"
   ]
  },
  {
   "cell_type": "code",
   "execution_count": 10,
   "metadata": {},
   "outputs": [
    {
     "data": {
      "image/png": "[encoded data removed]",
      "text/plain": [
       "<Figure size 432x288 with 1 Axes>"
      ]
     },
     "metadata": {
      "needs_background": "light"
     },
     "output_type": "display_data"
    }
   ],
   "source": [
    "plt.plot(history_2.history['loss'])\n",
    "plt.plot(history_2.history['val_loss'])\n",
    "plt.title('model loss for 500 hidden layer units')\n",
    "plt.ylabel('loss')\n",
    "plt.xlabel('epoch')\n",
    "plt.legend(['Training_Loss ', 'Cross-Validation_loss'], loc='upper left')\n",
    "#plt.xlim(0.0,)\n",
    "#plt.ylim(0.0,0.5)\n",
    "plt.xticks(np.arange(0.0, 21, 2))\n",
    "plt.yticks(np.arange(0.0, 0.6, 0.05))\n",
    "plt.savefig('performance_for_500_hiddenunits_4p.png', dpi=1200)\n",
    "plt.show()"
   ]
  },
  {
   "cell_type": "code",
   "execution_count": 11,
   "metadata": {},
   "outputs": [],
   "source": [
    "###for 700 hidden units\n",
    "input_layer = Input(shape=(48,))\n",
    "hidden_layer_1 = Dense(units = 700, activation = 'relu')(input_layer)\n",
    "hidden_layer_2 = Dense(units = 700, activation = 'relu')(hidden_layer_1)\n",
    "output_layer = Dense(units = 7, activation = 'linear')(hidden_layer_2)\n",
    "model = Model(inputs = input_layer, outputs = output_layer, name = 'Rectangular_4by4_sensor_concept_NN')\n",
    "\n",
    "#for specific values of learning rate\n",
    "#opt = keras.optimizers.Adam(learning_rate=0.0001)\n",
    "\n",
    "model.compile(loss='mae', optimizer=\"adam\")\n",
    "\n"
   ]
  },
  {
   "cell_type": "code",
   "execution_count": 12,
   "metadata": {},
   "outputs": [
    {
     "name": "stdout",
     "output_type": "stream",
     "text": [
      "Epoch 1/20\n",
      "96/96 - 1s - loss: 0.2491 - val_loss: 0.2111\n",
      "Epoch 2/20\n",
      "96/96 - 0s - loss: 0.1973 - val_loss: 0.1876\n",
      "Epoch 3/20\n",
      "96/96 - 0s - loss: 0.1746 - val_loss: 0.1682\n",
      "Epoch 4/20\n",
      "96/96 - 0s - loss: 0.1599 - val_loss: 0.1564\n",
      "Epoch 5/20\n",
      "96/96 - 0s - loss: 0.1532 - val_loss: 0.1528\n",
      "Epoch 6/20\n",
      "96/96 - 0s - loss: 0.1473 - val_loss: 0.1577\n",
      "Epoch 7/20\n",
      "96/96 - 0s - loss: 0.1399 - val_loss: 0.1371\n",
      "Epoch 8/20\n",
      "96/96 - 0s - loss: 0.1348 - val_loss: 0.1328\n",
      "Epoch 9/20\n",
      "96/96 - 0s - loss: 0.1309 - val_loss: 0.1315\n",
      "Epoch 10/20\n",
      "96/96 - 0s - loss: 0.1265 - val_loss: 0.1230\n",
      "Epoch 11/20\n",
      "96/96 - 0s - loss: 0.1217 - val_loss: 0.1234\n",
      "Epoch 12/20\n",
      "96/96 - 0s - loss: 0.1188 - val_loss: 0.1167\n",
      "Epoch 13/20\n",
      "96/96 - 0s - loss: 0.1153 - val_loss: 0.1172\n",
      "Epoch 14/20\n",
      "96/96 - 0s - loss: 0.1138 - val_loss: 0.1299\n",
      "Epoch 15/20\n",
      "96/96 - 0s - loss: 0.1080 - val_loss: 0.1143\n",
      "Epoch 16/20\n",
      "96/96 - 0s - loss: 0.1057 - val_loss: 0.1113\n",
      "Epoch 17/20\n",
      "96/96 - 0s - loss: 0.1050 - val_loss: 0.1185\n",
      "Epoch 18/20\n",
      "96/96 - 0s - loss: 0.1032 - val_loss: 0.1116\n",
      "Epoch 19/20\n",
      "96/96 - 0s - loss: 0.1041 - val_loss: 0.1096\n",
      "Epoch 20/20\n",
      "96/96 - 0s - loss: 0.1017 - val_loss: 0.1060\n"
     ]
    }
   ],
   "source": [
    "history_3 = model.fit(xtrain_scale, ytrain_scale, epochs=20, verbose=2, validation_data=(xval_scale,yval_scale))"
   ]
  },
  {
   "cell_type": "code",
   "execution_count": 13,
   "metadata": {},
   "outputs": [
    {
     "data": {
      "image/png": "[encoded data removed]",
      "text/plain": [
       "<Figure size 432x288 with 1 Axes>"
      ]
     },
     "metadata": {
      "needs_background": "light"
     },
     "output_type": "display_data"
    }
   ],
   "source": [
    "plt.plot(history_3.history['loss'])\n",
    "plt.plot(history_3.history['val_loss'])\n",
    "plt.title('model loss for 700 hidden layer units')\n",
    "plt.ylabel('loss')\n",
    "plt.xlabel('epoch')\n",
    "plt.legend(['Training_Loss ', 'Cross-Validation_loss'], loc='upper left')\n",
    "#plt.xlim(0.0,)\n",
    "#plt.ylim(0.0,0.5)\n",
    "plt.xticks(np.arange(0.0, 21, 2))\n",
    "plt.yticks(np.arange(0.0, 0.6, 0.05))\n",
    "plt.savefig('performance_for_700_hiddenunits_4p.png', dpi=1200)\n",
    "plt.show()"
   ]
  },
  {
   "cell_type": "code",
   "execution_count": 14,
   "metadata": {},
   "outputs": [],
   "source": [
    "###for 5 hidden layers\n",
    "input_layer = Input(shape=(48,))\n",
    "hidden_layer_1 = Dense(units = 3000, activation = 'relu')(input_layer)\n",
    "hidden_layer_2 = Dense(units = 3000, activation = 'relu')(hidden_layer_1)\n",
    "output_layer = Dense(units = 7, activation = 'linear')(hidden_layer_2)\n",
    "model = Model(inputs = input_layer, outputs = output_layer, name = 'Rectangular_4by4_sensor_concept_NN')\n",
    "\n",
    "#for specific values of learning rate\n",
    "#opt = keras.optimizers.Adam(learning_rate=0.0001)\n",
    "\n",
    "model.compile(loss='mae', optimizer=\"adam\")\n"
   ]
  },
  {
   "cell_type": "code",
   "execution_count": 15,
   "metadata": {},
   "outputs": [
    {
     "name": "stdout",
     "output_type": "stream",
     "text": [
      "Epoch 1/20\n",
      "96/96 - 6s - loss: 0.2536 - val_loss: 0.2138\n",
      "Epoch 2/20\n",
      "96/96 - 6s - loss: 0.1969 - val_loss: 0.1811\n",
      "Epoch 3/20\n",
      "96/96 - 6s - loss: 0.1719 - val_loss: 0.1705\n",
      "Epoch 4/20\n",
      "96/96 - 6s - loss: 0.1583 - val_loss: 0.1644\n",
      "Epoch 5/20\n",
      "96/96 - 5s - loss: 0.1525 - val_loss: 0.1607\n",
      "Epoch 6/20\n",
      "96/96 - 6s - loss: 0.1444 - val_loss: 0.1394\n",
      "Epoch 7/20\n",
      "96/96 - 6s - loss: 0.1419 - val_loss: 0.1328\n",
      "Epoch 8/20\n",
      "96/96 - 6s - loss: 0.1334 - val_loss: 0.1351\n",
      "Epoch 9/20\n",
      "96/96 - 6s - loss: 0.1302 - val_loss: 0.1353\n",
      "Epoch 10/20\n",
      "96/96 - 6s - loss: 0.1279 - val_loss: 0.1301\n",
      "Epoch 11/20\n",
      "96/96 - 6s - loss: 0.1211 - val_loss: 0.1279\n",
      "Epoch 12/20\n",
      "96/96 - 6s - loss: 0.1189 - val_loss: 0.1241\n",
      "Epoch 13/20\n",
      "96/96 - 5s - loss: 0.1169 - val_loss: 0.1274\n",
      "Epoch 14/20\n",
      "96/96 - 5s - loss: 0.1152 - val_loss: 0.1154\n",
      "Epoch 15/20\n",
      "96/96 - 6s - loss: 0.1127 - val_loss: 0.1101\n",
      "Epoch 16/20\n",
      "96/96 - 6s - loss: 0.1117 - val_loss: 0.1084\n",
      "Epoch 17/20\n",
      "96/96 - 6s - loss: 0.1054 - val_loss: 0.1252\n",
      "Epoch 18/20\n",
      "96/96 - 6s - loss: 0.1043 - val_loss: 0.1023\n",
      "Epoch 19/20\n",
      "96/96 - 6s - loss: 0.1016 - val_loss: 0.1147\n",
      "Epoch 20/20\n",
      "96/96 - 6s - loss: 0.1018 - val_loss: 0.1227\n"
     ]
    }
   ],
   "source": [
    "history_4 = model.fit(xtrain_scale, ytrain_scale, epochs=20, verbose=2, validation_data=(xval_scale,yval_scale))"
   ]
  },
  {
   "cell_type": "code",
   "execution_count": 16,
   "metadata": {},
   "outputs": [
    {
     "data": {
      "image/png": "[encoded data removed]",
      "text/plain": [
       "<Figure size 432x288 with 1 Axes>"
      ]
     },
     "metadata": {
      "needs_background": "light"
     },
     "output_type": "display_data"
    }
   ],
   "source": [
    "plt.plot(history_4.history['loss'])\n",
    "plt.plot(history_4.history['val_loss'])\n",
    "plt.title('model loss for 3000 hidden layer units')\n",
    "plt.ylabel('loss')\n",
    "plt.xlabel('epoch')\n",
    "plt.legend(['Training_Loss ', 'Cross-Validation_loss'], loc='upper left')\n",
    "#plt.xlim(0.0,)\n",
    "#plt.ylim(0.0,0.5)\n",
    "plt.xticks(np.arange(0.0, 21, 2))\n",
    "plt.yticks(np.arange(0.0, 0.6, 0.05))\n",
    "plt.savefig('performance_for_3000_hiddenunits_4p.png', dpi=1200)\n",
    "plt.show()"
   ]
  },
  {
   "cell_type": "code",
   "execution_count": null,
   "metadata": {},
   "outputs": [],
   "source": []
  },
  {
   "cell_type": "code",
   "execution_count": null,
   "metadata": {},
   "outputs": [],
   "source": []
  }
 ],
 "metadata": {
  "kernelspec": {
   "display_name": "Python 3",
   "language": "python",
   "name": "python3"
  },
  "language_info": {
   "codemirror_mode": {
    "name": "ipython",
    "version": 3
   },
   "file_extension": ".py",
   "mimetype": "text/x-python",
   "name": "python",
   "nbconvert_exporter": "python",
   "pygments_lexer": "ipython3",
   "version": "3.8.8"
  }
 },
 "nbformat": 4,
 "nbformat_minor": 4
}
