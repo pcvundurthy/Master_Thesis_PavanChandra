{
 "cells": [
  {
   "cell_type": "code",
   "execution_count": 1,
   "metadata": {},
   "outputs": [],
   "source": [
    "import numpy as np\n",
    "import math\n",
    "import matplotlib.pyplot as plt\n",
    "from tensorflow import keras\n",
    "import tensorflow as tf\n",
    "from tensorflow.keras import layers\n",
    "from kerastuner.tuners import RandomSearch\n",
    "import pandas as pd"
   ]
  },
  {
   "cell_type": "code",
   "execution_count": 2,
   "metadata": {
    "scrolled": true
   },
   "outputs": [
    {
     "name": "stdout",
     "output_type": "stream",
     "text": [
      "read_x_data\n",
      "read_y_data\n",
      "[[-0.97820564  0.29297193 -0.07061703 -0.96544182  0.2754832  -0.07559271\n",
      "  -0.95055615  0.26713403 -0.06478687 -0.94939434  0.28851273 -0.05467842\n",
      "  -1.02291172  0.31880814 -0.06668594 -1.02036267  0.29820167 -0.09116619\n",
      "  -0.98972578  0.26476729 -0.09036746 -0.9837491   0.30531915 -0.07307987\n",
      "  -1.06898421  0.34968716 -0.03087716 -1.12097493  0.35989869 -0.06120685\n",
      "  -1.15727766  0.31518646 -0.15790448 -1.05000599  0.3741363  -0.18206539\n",
      "  -0.59768246  0.20031284 -0.03087716 -0.54569173  0.19010131 -0.06120685\n",
      "  -0.50938901  0.23481354 -0.15790448 -0.61666068  0.1758637  -0.18206539]\n",
      " [-0.96599853  0.27606791 -0.07565659 -0.95086392  0.26695474 -0.06533805\n",
      "  -0.94930712  0.28749528 -0.05464469 -0.94653851  0.31281185 -0.06572685\n",
      "  -1.02090166  0.29927989 -0.09043877 -0.99077126  0.26520123 -0.09134644\n",
      "  -0.98375094  0.30325434 -0.07242409 -0.95978485  0.33228947 -0.10427239\n",
      "  -1.11885836  0.35967639 -0.059538   -1.15987075  0.32063895 -0.15402077\n",
      "  -1.05699218  0.37419412 -0.17750612 -0.91324645  0.32098244 -0.18743819\n",
      "  -0.54780831  0.19032361 -0.059538   -0.50679591  0.22936105 -0.15402077\n",
      "  -0.60967449  0.17580588 -0.17750612 -0.75342021  0.22901756 -0.18743819]]\n",
      "[[ -35.          -35.            1.            0.            0.\n",
      "  -110.          -60.        ]\n",
      " [ -25.33333333  -35.            1.            0.            0.\n",
      "  -110.          -60.        ]]\n"
     ]
    }
   ],
   "source": [
    "#Reading the Training data (virtually generated) from a file \n",
    "#Input data\n",
    "x_data = pd.read_csv('x_rec_16_data_4.csv')\n",
    "x_data=x_data.values[:,1:]\n",
    "print(\"read_x_data\")\n",
    "#Output data\n",
    "y_data = pd.read_csv('y_rec_16_data_4.csv')\n",
    "y_data=y_data.values[:,1:]\n",
    "print(\"read_y_data\")\n",
    "print(x_data[:2,:])\n",
    "print(y_data[:2,:])"
   ]
  },
  {
   "cell_type": "code",
   "execution_count": 3,
   "metadata": {},
   "outputs": [
    {
     "name": "stdout",
     "output_type": "stream",
     "text": [
      "(3072, 48) (3072, 7) training data size\n",
      "(1024, 48) (1024, 7) Validation data size\n"
     ]
    }
   ],
   "source": [
    "from sklearn.preprocessing import MinMaxScaler\n",
    "from sklearn.model_selection import train_test_split\n",
    "\n",
    "X_train, X_val, y_train, y_val = train_test_split(x_data, y_data)\n",
    "print(np.shape(X_train), np.shape(y_train), \"training data size\")\n",
    "print(np.shape(X_val), np.shape(y_val),\"Validation data size\")\n",
    "#print(X_train[0:9,:])\n",
    "\n",
    "scaler_x = MinMaxScaler()\n",
    "scaler_y = MinMaxScaler()\n",
    "\n",
    "scaler_x.fit(X_train)\n",
    "xtrain_scale=scaler_x.transform(X_train)\n",
    "\n",
    "scaler_x.fit(X_val)\n",
    "xval_scale=scaler_x.transform(X_val)\n",
    "\n",
    "scaler_y.fit(y_train)\n",
    "ytrain_scale=scaler_y.transform(y_train)\n",
    "\n",
    "scaler_y.fit(y_val)\n",
    "yval_scale=scaler_y.transform(y_val)"
   ]
  },
  {
   "cell_type": "code",
   "execution_count": 4,
   "metadata": {},
   "outputs": [
    {
     "name": "stdout",
     "output_type": "stream",
     "text": [
      "Model: \"Rectangular_4by4_sensor_concept_NN\"\n",
      "_________________________________________________________________\n",
      "Layer (type)                 Output Shape              Param #   \n",
      "=================================================================\n",
      "input_1 (InputLayer)         [(None, 48)]              0         \n",
      "_________________________________________________________________\n",
      "dense (Dense)                (None, 700)               34300     \n",
      "_________________________________________________________________\n",
      "dense_1 (Dense)              (None, 700)               490700    \n",
      "_________________________________________________________________\n",
      "dense_2 (Dense)              (None, 7)                 4907      \n",
      "=================================================================\n",
      "Total params: 529,907\n",
      "Trainable params: 529,907\n",
      "Non-trainable params: 0\n",
      "_________________________________________________________________\n"
     ]
    }
   ],
   "source": [
    "from tensorflow.keras.models import Model\n",
    "from tensorflow.keras.layers import Input\n",
    "from tensorflow.keras.layers import Dense\n",
    "from keras.models import Sequential\n",
    "from keras.layers import Dense\n",
    "from numpy import loadtxt\n",
    "from keras.models import load_model\n",
    "from keras.wrappers.scikit_learn import KerasClassifier\n",
    "from keras.constraints import maxnorm\n",
    "\n",
    "\n",
    "input_layer = Input(shape=(48,))\n",
    "hidden_layer_1 = Dense(units = 700, activation = 'relu')(input_layer)\n",
    "hidden_layer_2 = Dense(units = 700, activation = 'relu')(hidden_layer_1)\n",
    "output_layer = Dense(units = 7, activation = 'linear')(hidden_layer_2)\n",
    "model = Model(inputs = input_layer, outputs = output_layer, name = 'Rectangular_4by4_sensor_concept_NN')\n",
    "\n",
    "#for specific values of learning rate\n",
    "#opt = keras.optimizers.Adam(learning_rate=0.0001)\n",
    "\n",
    "model.compile(loss='mse', optimizer=\"adam\", metrics=['accuracy'])\n",
    "#metrics=['accuracy']\n",
    "##Implementing Early stopping\n",
    "\n",
    "my_callbacks = [\n",
    "    tf.keras.callbacks.EarlyStopping(monitor='val_loss',patience=5)]\n",
    "#    tf.keras.callbacks.ModelCheckpoint(filepath='model.{epoch:02d}-{val_loss:.2f}.h5'),\n",
    "#    tf.keras.callbacks.TensorBoard(log_dir='./logs'),\n",
    "#    tf.keras.callbacks.CSVLogger('Points_5_training.log')]\n",
    "# Display the model\n",
    "model.summary()\n"
   ]
  },
  {
   "cell_type": "code",
   "execution_count": 5,
   "metadata": {},
   "outputs": [],
   "source": [
    "#from keras.utils import plot_model\n",
    "#keras.utils.plot_model(model)\n",
    "#plot_model(model, to_file='Model_Architecture_9p.png', dpi=1200, show_shapes=True, show_layer_names=True)"
   ]
  },
  {
   "cell_type": "code",
   "execution_count": 6,
   "metadata": {},
   "outputs": [
    {
     "name": "stdout",
     "output_type": "stream",
     "text": [
      "Epoch 1/20\n",
      "96/96 - 1s - loss: 0.1007 - accuracy: 0.2972 - val_loss: 0.0742 - val_accuracy: 0.3926\n",
      "Epoch 2/20\n",
      "96/96 - 0s - loss: 0.0717 - accuracy: 0.3740 - val_loss: 0.0615 - val_accuracy: 0.3662\n",
      "Epoch 3/20\n",
      "96/96 - 0s - loss: 0.0642 - accuracy: 0.3887 - val_loss: 0.0571 - val_accuracy: 0.4189\n",
      "Epoch 4/20\n",
      "96/96 - 0s - loss: 0.0598 - accuracy: 0.4046 - val_loss: 0.0537 - val_accuracy: 0.3936\n",
      "Epoch 5/20\n",
      "96/96 - 0s - loss: 0.0548 - accuracy: 0.4095 - val_loss: 0.0490 - val_accuracy: 0.4395\n",
      "Epoch 6/20\n",
      "96/96 - 0s - loss: 0.0510 - accuracy: 0.4290 - val_loss: 0.0458 - val_accuracy: 0.4453\n",
      "Epoch 7/20\n",
      "96/96 - 0s - loss: 0.0480 - accuracy: 0.4404 - val_loss: 0.0419 - val_accuracy: 0.4453\n",
      "Epoch 8/20\n",
      "96/96 - 0s - loss: 0.0476 - accuracy: 0.4456 - val_loss: 0.0418 - val_accuracy: 0.4297\n",
      "Epoch 9/20\n",
      "96/96 - 0s - loss: 0.0433 - accuracy: 0.4600 - val_loss: 0.0390 - val_accuracy: 0.4355\n",
      "Epoch 10/20\n",
      "96/96 - 0s - loss: 0.0415 - accuracy: 0.4619 - val_loss: 0.0416 - val_accuracy: 0.4785\n",
      "Epoch 11/20\n",
      "96/96 - 0s - loss: 0.0388 - accuracy: 0.4665 - val_loss: 0.0426 - val_accuracy: 0.5469\n",
      "Epoch 12/20\n",
      "96/96 - 0s - loss: 0.0366 - accuracy: 0.4792 - val_loss: 0.0355 - val_accuracy: 0.4795\n",
      "Epoch 13/20\n",
      "96/96 - 0s - loss: 0.0370 - accuracy: 0.4775 - val_loss: 0.0348 - val_accuracy: 0.5293\n",
      "Epoch 14/20\n",
      "96/96 - 0s - loss: 0.0358 - accuracy: 0.4818 - val_loss: 0.0359 - val_accuracy: 0.3389\n",
      "Epoch 15/20\n",
      "96/96 - 0s - loss: 0.0340 - accuracy: 0.4945 - val_loss: 0.0334 - val_accuracy: 0.5068\n",
      "Epoch 16/20\n",
      "96/96 - 0s - loss: 0.0338 - accuracy: 0.4906 - val_loss: 0.0317 - val_accuracy: 0.5127\n",
      "Epoch 17/20\n",
      "96/96 - 0s - loss: 0.0325 - accuracy: 0.4902 - val_loss: 0.0374 - val_accuracy: 0.5576\n",
      "Epoch 18/20\n",
      "96/96 - 0s - loss: 0.0323 - accuracy: 0.4971 - val_loss: 0.0313 - val_accuracy: 0.4316\n",
      "Epoch 19/20\n",
      "96/96 - 0s - loss: 0.0325 - accuracy: 0.4834 - val_loss: 0.0319 - val_accuracy: 0.5820\n",
      "Epoch 20/20\n",
      "96/96 - 0s - loss: 0.0306 - accuracy: 0.4893 - val_loss: 0.0297 - val_accuracy: 0.4697\n"
     ]
    }
   ],
   "source": [
    "history_1 = model.fit(xtrain_scale, ytrain_scale, epochs=20, verbose=2, validation_data=(xval_scale,yval_scale))\n",
    "#history_1 = model.fit(xtrain_scale, ytrain_scale, epochs=20, verbose=1, callbacks=my_callbacks, validation_data=(xval_scale,yval_scale))\n"
   ]
  },
  {
   "cell_type": "code",
   "execution_count": 12,
   "metadata": {},
   "outputs": [
    {
     "data": {
      "image/png": "[encoded data removed]",
      "text/plain": [
       "<Figure size 432x288 with 1 Axes>"
      ]
     },
     "metadata": {
      "needs_background": "light"
     },
     "output_type": "display_data"
    }
   ],
   "source": [
    "plt.plot(history_1.history['loss'])\n",
    "plt.plot(history_1.history['val_loss'])\n",
    "plt.title('model loss')\n",
    "plt.ylabel('loss')\n",
    "plt.xlabel('epoch')\n",
    "plt.legend(['Training ', 'Cross-Validation'], loc='upper right')\n",
    "#plt.xlim(0.0,)\n",
    "#plt.ylim(0.0,0.5)\n",
    "plt.xticks(np.arange(0.0, 21, 2))\n",
    "plt.yticks(np.arange(0.0, 0.13, 0.01))\n",
    "plt.savefig('Model_Loss_4p_mse.png', dpi=1200)\n",
    "plt.show()"
   ]
  },
  {
   "cell_type": "code",
   "execution_count": 13,
   "metadata": {},
   "outputs": [
    {
     "data": {
      "image/png": "[encoded data removed]",
      "text/plain": [
       "<Figure size 432x288 with 1 Axes>"
      ]
     },
     "metadata": {
      "needs_background": "light"
     },
     "output_type": "display_data"
    }
   ],
   "source": [
    "plt.plot(history_1.history['accuracy'])\n",
    "plt.plot(history_1.history['val_accuracy'])\n",
    "plt.title('model accuracy')\n",
    "plt.ylabel('accuracy')\n",
    "plt.xlabel('epoch')\n",
    "plt.legend(['Training ', 'Cross-Validation'], loc='lower right')\n",
    "#plt.xlim(0.0,)\n",
    "#plt.ylim(0.0,0.5)\n",
    "plt.xticks(np.arange(0.0, 21, 2))\n",
    "plt.yticks(np.arange(0.0, 1.0, 0.1))\n",
    "plt.savefig('Model_Accuracy_4p_mse.png', dpi=1200)\n",
    "plt.show()"
   ]
  },
  {
   "cell_type": "code",
   "execution_count": null,
   "metadata": {},
   "outputs": [],
   "source": []
  },
  {
   "cell_type": "code",
   "execution_count": null,
   "metadata": {},
   "outputs": [],
   "source": []
  }
 ],
 "metadata": {
  "kernelspec": {
   "display_name": "Python 3",
   "language": "python",
   "name": "python3"
  },
  "language_info": {
   "codemirror_mode": {
    "name": "ipython",
    "version": 3
   },
   "file_extension": ".py",
   "mimetype": "text/x-python",
   "name": "python",
   "nbconvert_exporter": "python",
   "pygments_lexer": "ipython3",
   "version": "3.8.8"
  }
 },
 "nbformat": 4,
 "nbformat_minor": 4
}
